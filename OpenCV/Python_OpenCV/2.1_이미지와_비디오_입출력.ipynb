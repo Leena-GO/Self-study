{
 "cells": [
  {
   "cell_type": "markdown",
   "metadata": {},
   "source": [
    "- '파이썬으로 만드는 OpenCV 프로젝트(이세우 저)' 를 보며 실습한 자료입니다."
   ]
  },
  {
   "cell_type": "markdown",
   "metadata": {},
   "source": [
    "# 2장. 기본 입출력"
   ]
  },
  {
   "cell_type": "markdown",
   "metadata": {},
   "source": [
    "## 2.1 이미지와 비디오 입출력\n",
    "### 2.1.1 이미지 읽기"
   ]
  },
  {
   "cell_type": "code",
   "execution_count": 1,
   "metadata": {},
   "outputs": [],
   "source": [
    "import cv2"
   ]
  },
  {
   "cell_type": "code",
   "execution_count": 2,
   "metadata": {},
   "outputs": [],
   "source": [
    "img_file = 'snoopy.jpg'\n",
    "img = cv2.imread(img_file) #이미지를 불러주고, imread 를 시켜줘야함!"
   ]
  },
  {
   "cell_type": "markdown",
   "metadata": {},
   "source": [
    "- img = cv2.imread(file_name, [_, mode_flag])\n",
    "    - mode_flag는 읽기 모드 지정을 할 수 있다.\n",
    "        - cv2.IMREAD_COLOR: BGR 스케일로 읽기 (default)\n",
    "        - cv2.IMREAD_UNCHANGED: 파일 그대로 읽기\n",
    "        - cv2.IMREAD_GRAYSCALE: 흑백 스케일로 읽기"
   ]
  },
  {
   "cell_type": "code",
   "execution_count": 3,
   "metadata": {},
   "outputs": [],
   "source": [
    "if img_file is not None:\n",
    "    cv2.imshow(\"image\", img)\n",
    "    cv2.waitKey() #키보드 입력값이 생길 때까지 대기\n",
    "    cv2.destroyAllWindows()\n",
    "    \n",
    "else:\n",
    "    print('No Image File')"
   ]
  },
  {
   "cell_type": "markdown",
   "metadata": {},
   "source": [
    "- key = cv2.waitKey(delay)\n",
    "    - delay = 0: 키보드 입력을 대기할 시간 (ms), 0: 무한대"
   ]
  },
  {
   "cell_type": "markdown",
   "metadata": {},
   "source": [
    "### 이미지 파일을 그레이 스케일로 화면에 표시해보기"
   ]
  },
  {
   "cell_type": "code",
   "execution_count": 4,
   "metadata": {},
   "outputs": [],
   "source": [
    "img2 = cv2.imread(img_file, cv2.IMREAD_GRAYSCALE)"
   ]
  },
  {
   "cell_type": "code",
   "execution_count": 5,
   "metadata": {},
   "outputs": [],
   "source": [
    "if img2 is not None:\n",
    "    cv2.imshow('New_image', img2)\n",
    "    cv2.waitKey()\n",
    "    cv2.destroyAllWindows()\n",
    "else:\n",
    "    print('No Image Found')"
   ]
  },
  {
   "cell_type": "markdown",
   "metadata": {},
   "source": [
    "### 2.1.2 이미지 저장하기\n",
    "- OpenCV로 읽어들인 이미지를 다시 파일로 저장하려면 **cv2.imwrite()**를 사용하면 된다.\n",
    "- cv2.imwrite(file_path, img)\n",
    "    - file_path: 저장할 파일의 경로이름, str\n",
    "    - img: 저장할 영상, Numpy 배열"
   ]
  },
  {
   "cell_type": "code",
   "execution_count": 6,
   "metadata": {},
   "outputs": [],
   "source": [
    "img_file = 'snoopy.jpg'\n",
    "saving_file = 'snoopy_gray.jpg'"
   ]
  },
  {
   "cell_type": "code",
   "execution_count": 9,
   "metadata": {},
   "outputs": [],
   "source": [
    "img = cv2.imread(img_file, cv2.IMREAD_GRAYSCALE)\n",
    "cv2.imshow(img_file, img)\n",
    "cv2.imwrite(saving_file, img)\n",
    "cv2.waitKey()\n",
    "cv2.destroyAllWindows()"
   ]
  },
  {
   "cell_type": "markdown",
   "metadata": {},
   "source": [
    "### 2.1.3 동영상 읽기"
   ]
  },
  {
   "cell_type": "code",
   "execution_count": 20,
   "metadata": {},
   "outputs": [],
   "source": [
    "#동영상 파일 경로를 지정해주면 \n",
    "video_file = r'C:\\Users\\ghk96\\Desktop\\Motion\\KakaoTalk_20210605_214124295.mp4'"
   ]
  },
  {
   "cell_type": "code",
   "execution_count": 21,
   "metadata": {},
   "outputs": [],
   "source": [
    "cap = cv2.VideoCapture(video_file)\n",
    "\n",
    "if cap.isOpened(): #파일이나 카메ㅔ라 장치에 제대로 연결이 되었는지 확인\n",
    "    while True: #잘 열렸다면, \n",
    "        ret, img = cap.read() \n",
    "        #ret: 프레임 읽기 성공/실패 여부\n",
    "        #img: 프레임 이미지, Numpy 배열 혹은 none\n",
    "        \n",
    "        if ret:\n",
    "            cv2.imshow(video_file, img)\n",
    "            cv2.waitKey(25)\n",
    "            \n",
    "        else:\n",
    "            break\n",
    "else:\n",
    "    print(\"Can't open video.\")\n",
    "    \n",
    "cap.release()\n",
    "cv2.destroyAllWindows()"
   ]
  },
  {
   "cell_type": "markdown",
   "metadata": {},
   "source": [
    "- waitKey()를 25로 설정한 이유는, 동영상의 FPS(Frames Per Second, 초당 프레임 수)에 맞게 조정해야하기 때문이다.\n",
    "- FPS와 지연시간 구하기\n",
    "    - 지연시간 = 1000ms / fps\n",
    "    - 1sec = 1000ms"
   ]
  },
  {
   "cell_type": "markdown",
   "metadata": {},
   "source": [
    "### 2.1.4 카메라(웹캠) 프레임 읽기\n",
    "- 카메라로 프레임을 읽기 위해서는 cv2.VideoCapture() 함수에 카메라 장치 인덱스 번호를 정수로 지정해주면 된다."
   ]
  },
  {
   "cell_type": "code",
   "execution_count": 24,
   "metadata": {},
   "outputs": [],
   "source": [
    "cap = cv2.VideoCapture(0) #0번 카메라 장치 연결\n",
    "\n",
    "if cap.isOpened():\n",
    "    while True:\n",
    "        ret, img = cap.read()\n",
    "        \n",
    "        if ret:\n",
    "            cv2.imshow('camera', img)\n",
    "            if cv2.waitKey(1) != -1: #아무 키나 누르면, 웹캠을 종료시키도록 만듦\n",
    "                break\n",
    "                \n",
    "        else:\n",
    "            print('no frame')\n",
    "            break\n",
    "            \n",
    "else:\n",
    "    print(\"Can't open camera.\")\n",
    "\n",
    "cap.release()\n",
    "cv2.destroyAllWindows()"
   ]
  },
  {
   "cell_type": "markdown",
   "metadata": {},
   "source": [
    "- **cv2.waitKey()** 함수는 지정한 대기 시간 동안 키 입력이 없으면 -1을 반환한다.\n",
    "- 만약 반환값이 -1이 아니라면, 아무 키가 입력됐다는 뜻이다."
   ]
  }
 ],
 "metadata": {
  "kernelspec": {
   "display_name": "Python 3",
   "language": "python",
   "name": "python3"
  },
  "language_info": {
   "codemirror_mode": {
    "name": "ipython",
    "version": 3
   },
   "file_extension": ".py",
   "mimetype": "text/x-python",
   "name": "python",
   "nbconvert_exporter": "python",
   "pygments_lexer": "ipython3",
   "version": "3.7.9"
  }
 },
 "nbformat": 4,
 "nbformat_minor": 4
}
