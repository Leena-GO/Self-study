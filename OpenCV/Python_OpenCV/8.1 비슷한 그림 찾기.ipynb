{
 "cells": [
  {
   "cell_type": "markdown",
   "metadata": {},
   "source": [
    "# 8장 영상 매칭과 추적\n",
    "## 8.1 비슷한 그림 찾기\n",
    "### 8.1.1 평균 해시 매칭"
   ]
  },
  {
   "cell_type": "markdown",
   "metadata": {},
   "source": [
    "- 평균 해시: 어떤 영상이든 동일한 크기의 하나의 숫자로 변환되는데, 이때 숫자를 얻기 위해 평균값을 이용한다는 뜻\n",
    "    - 평균을 얻기 전, 특정한 크기로 축소\n",
    "    - 그 다음, 픽셀 전체의 평균 값을 구하고,\n",
    "        - 픽셀 < 평균 → 픽셀 == 0\n",
    "        - 픽셀 > 평균 → 픽셀 == 1 로 변환\n",
    "    - 0 또는 1로만 구성된 각 픽셀 값을 1행 1열로 변환 (한 줄로 늘어선 0과 1은 한 개의 2진수 숫자로 볼 수 있다.)"
   ]
  },
  {
   "cell_type": "code",
   "execution_count": 1,
   "metadata": {},
   "outputs": [],
   "source": [
    "# 일반 이미지를 평균 해시로 변환\n",
    "import cv2\n",
    "\n",
    "img = cv2.imread('snoopy.jpg')\n",
    "gray = cv2.cvtColor(img, cv2.COLOR_BGR2GRAY)"
   ]
  },
  {
   "cell_type": "code",
   "execution_count": 2,
   "metadata": {},
   "outputs": [
    {
     "name": "stdout",
     "output_type": "stream",
     "text": [
      "[[0 0 0 0 0 0 0 0 0 1 0 0 0 0 0 0]\n",
      " [0 0 0 0 0 1 1 1 1 1 0 1 0 0 0 0]\n",
      " [0 0 0 0 1 1 1 1 0 1 1 1 0 0 0 0]\n",
      " [0 0 0 1 1 1 1 1 1 1 1 1 1 1 0 0]\n",
      " [0 1 1 0 0 1 1 1 1 1 1 1 1 0 0 0]\n",
      " [0 1 1 1 1 1 1 1 1 1 1 1 1 1 1 0]\n",
      " [0 0 1 1 1 1 1 1 1 1 1 1 1 0 0 0]\n",
      " [0 1 1 1 0 0 1 1 1 1 1 1 0 0 1 1]\n",
      " [0 1 1 1 1 1 1 1 1 1 1 0 0 0 1 0]\n",
      " [1 1 1 1 0 1 1 1 1 1 1 0 0 0 1 1]\n",
      " [0 0 1 0 0 1 1 1 1 1 1 0 0 1 0 0]\n",
      " [0 1 1 1 1 1 1 0 1 1 1 1 1 1 1 0]\n",
      " [0 0 0 1 1 1 1 0 0 0 1 1 1 0 0 0]\n",
      " [0 0 0 1 1 1 0 1 1 1 1 1 0 1 0 0]\n",
      " [0 0 0 0 0 1 1 1 1 1 0 1 0 0 0 0]\n",
      " [0 0 0 0 0 0 1 1 1 1 0 0 0 0 0 0]]\n"
     ]
    }
   ],
   "source": [
    "#16 by 16으로 크기 축소\n",
    "gray = cv2.resize(gray, (16,16))\n",
    "\n",
    "#영상의 평균 값 구하기\n",
    "avg = gray.mean()\n",
    "\n",
    "#평균값을 0과 1로 변환\n",
    "bin = 1 * (gray>avg)\n",
    "print(bin)"
   ]
  },
  {
   "cell_type": "code",
   "execution_count": 3,
   "metadata": {},
   "outputs": [
    {
     "name": "stdout",
     "output_type": "stream",
     "text": [
      "['40', '7d0', 'f70', '1ffc', '67f8', '7ffe', '3ff8', '73f3', '7fe2', 'f7e3', '27e4', '7efe', '1e38', '1df4', '7d0', '3c0']\n"
     ]
    }
   ],
   "source": [
    "#2진수 문자열을 16진수 문자열로 변환\n",
    "dhash = []\n",
    "\n",
    "for row in bin.tolist():\n",
    "    s = ''.join([str(i) for i in row])\n",
    "    dhash.append('%02x'%(int(s,2)))\n",
    "    \n",
    "print(dhash)"
   ]
  },
  {
   "cell_type": "code",
   "execution_count": 4,
   "metadata": {},
   "outputs": [
    {
     "name": "stdout",
     "output_type": "stream",
     "text": [
      "407d0f701ffc67f87ffe3ff873f37fe2f7e327e47efe1e381df47d03c0\n"
     ]
    }
   ],
   "source": [
    "dhash = ''.join(dhash)\n",
    "print(dhash)"
   ]
  },
  {
   "cell_type": "code",
   "execution_count": 5,
   "metadata": {},
   "outputs": [
    {
     "data": {
      "text/plain": [
       "27"
      ]
     },
     "execution_count": 5,
     "metadata": {},
     "output_type": "execute_result"
    }
   ],
   "source": [
    "cv2.imshow('snoopy', img)\n",
    "cv2.waitKey(0)"
   ]
  },
  {
   "cell_type": "markdown",
   "metadata": {},
   "source": [
    "- 다양한 물체가 있는 테스트셋으로 진행해보자!"
   ]
  },
  {
   "cell_type": "code",
   "execution_count": 6,
   "metadata": {},
   "outputs": [],
   "source": [
    "import cv2\n",
    "import numpy as np\n",
    "import glob"
   ]
  },
  {
   "cell_type": "code",
   "execution_count": 7,
   "metadata": {},
   "outputs": [
    {
     "name": "stdout",
     "output_type": "stream",
     "text": [
      "C:\\Users\\ghk96\\Desktop\\Motion\\101_ObjectCategories\\BACKGROUND_Google\\image_0291.jpg 0.2421875\n",
      "C:\\Users\\ghk96\\Desktop\\Motion\\101_ObjectCategories\\BACKGROUND_Google\\image_0314.jpg 0.22265625\n",
      "C:\\Users\\ghk96\\Desktop\\Motion\\101_ObjectCategories\\BACKGROUND_Google\\image_0374.jpg 0.19921875\n",
      "C:\\Users\\ghk96\\Desktop\\Motion\\101_ObjectCategories\\BACKGROUND_Google\\image_0443.jpg 0.2265625\n",
      "C:\\Users\\ghk96\\Desktop\\Motion\\101_ObjectCategories\\barrel\\image_0005.jpg 0.18359375\n",
      "C:\\Users\\ghk96\\Desktop\\Motion\\101_ObjectCategories\\bonsai\\image_0116.jpg 0.2421875\n",
      "C:\\Users\\ghk96\\Desktop\\Motion\\101_ObjectCategories\\brain\\image_0001.jpg 0.2421875\n",
      "C:\\Users\\ghk96\\Desktop\\Motion\\101_ObjectCategories\\brain\\image_0007.jpg 0.21484375\n",
      "C:\\Users\\ghk96\\Desktop\\Motion\\101_ObjectCategories\\brain\\image_0014.jpg 0.23046875\n",
      "C:\\Users\\ghk96\\Desktop\\Motion\\101_ObjectCategories\\brain\\image_0016.jpg 0.20703125\n",
      "C:\\Users\\ghk96\\Desktop\\Motion\\101_ObjectCategories\\brain\\image_0017.jpg 0.22265625\n",
      "C:\\Users\\ghk96\\Desktop\\Motion\\101_ObjectCategories\\brain\\image_0018.jpg 0.2421875\n",
      "C:\\Users\\ghk96\\Desktop\\Motion\\101_ObjectCategories\\brain\\image_0026.jpg 0.23828125\n",
      "C:\\Users\\ghk96\\Desktop\\Motion\\101_ObjectCategories\\brain\\image_0029.jpg 0.234375\n",
      "C:\\Users\\ghk96\\Desktop\\Motion\\101_ObjectCategories\\brain\\image_0042.jpg 0.24609375\n",
      "C:\\Users\\ghk96\\Desktop\\Motion\\101_ObjectCategories\\brain\\image_0046.jpg 0.234375\n",
      "C:\\Users\\ghk96\\Desktop\\Motion\\101_ObjectCategories\\brain\\image_0047.jpg 0.21484375\n",
      "C:\\Users\\ghk96\\Desktop\\Motion\\101_ObjectCategories\\brain\\image_0070.jpg 0.23046875\n",
      "C:\\Users\\ghk96\\Desktop\\Motion\\101_ObjectCategories\\brain\\image_0076.jpg 0.22265625\n",
      "C:\\Users\\ghk96\\Desktop\\Motion\\101_ObjectCategories\\butterfly\\image_0057.jpg 0.234375\n",
      "C:\\Users\\ghk96\\Desktop\\Motion\\101_ObjectCategories\\chandelier\\image_0046.jpg 0.2265625\n",
      "C:\\Users\\ghk96\\Desktop\\Motion\\101_ObjectCategories\\cup\\image_0046.jpg 0.23828125\n",
      "C:\\Users\\ghk96\\Desktop\\Motion\\101_ObjectCategories\\dalmatian\\image_0025.jpg 0.2265625\n",
      "C:\\Users\\ghk96\\Desktop\\Motion\\101_ObjectCategories\\euphonium\\image_0033.jpg 0.23828125\n",
      "C:\\Users\\ghk96\\Desktop\\Motion\\101_ObjectCategories\\ewer\\image_0040.jpg 0.2421875\n",
      "C:\\Users\\ghk96\\Desktop\\Motion\\101_ObjectCategories\\ewer\\image_0044.jpg 0.1953125\n",
      "C:\\Users\\ghk96\\Desktop\\Motion\\101_ObjectCategories\\ewer\\image_0057.jpg 0.2421875\n",
      "C:\\Users\\ghk96\\Desktop\\Motion\\101_ObjectCategories\\ewer\\image_0077.jpg 0.24609375\n",
      "C:\\Users\\ghk96\\Desktop\\Motion\\101_ObjectCategories\\Faces_easy\\image_0113.jpg 0.21484375\n",
      "C:\\Users\\ghk96\\Desktop\\Motion\\101_ObjectCategories\\Faces_easy\\image_0118.jpg 0.24609375\n",
      "C:\\Users\\ghk96\\Desktop\\Motion\\101_ObjectCategories\\Faces_easy\\image_0119.jpg 0.21875\n",
      "C:\\Users\\ghk96\\Desktop\\Motion\\101_ObjectCategories\\Faces_easy\\image_0121.jpg 0.22265625\n",
      "C:\\Users\\ghk96\\Desktop\\Motion\\101_ObjectCategories\\Faces_easy\\image_0124.jpg 0.21875\n",
      "C:\\Users\\ghk96\\Desktop\\Motion\\101_ObjectCategories\\Faces_easy\\image_0125.jpg 0.24609375\n",
      "C:\\Users\\ghk96\\Desktop\\Motion\\101_ObjectCategories\\Faces_easy\\image_0126.jpg 0.234375\n",
      "C:\\Users\\ghk96\\Desktop\\Motion\\101_ObjectCategories\\Faces_easy\\image_0130.jpg 0.23046875\n",
      "C:\\Users\\ghk96\\Desktop\\Motion\\101_ObjectCategories\\Faces_easy\\image_0286.jpg 0.234375\n",
      "C:\\Users\\ghk96\\Desktop\\Motion\\101_ObjectCategories\\Faces_easy\\image_0293.jpg 0.23046875\n",
      "C:\\Users\\ghk96\\Desktop\\Motion\\101_ObjectCategories\\garfield\\image_0012.jpg 0.2421875\n",
      "C:\\Users\\ghk96\\Desktop\\Motion\\101_ObjectCategories\\hedgehog\\image_0013.jpg 0.24609375\n",
      "C:\\Users\\ghk96\\Desktop\\Motion\\101_ObjectCategories\\lamp\\image_0022.jpg 0.23046875\n",
      "C:\\Users\\ghk96\\Desktop\\Motion\\101_ObjectCategories\\lamp\\image_0025.jpg 0.24609375\n",
      "C:\\Users\\ghk96\\Desktop\\Motion\\101_ObjectCategories\\lamp\\image_0026.jpg 0.234375\n",
      "C:\\Users\\ghk96\\Desktop\\Motion\\101_ObjectCategories\\lamp\\image_0053.jpg 0.2421875\n",
      "C:\\Users\\ghk96\\Desktop\\Motion\\101_ObjectCategories\\lotus\\image_0006.jpg 0.23828125\n",
      "C:\\Users\\ghk96\\Desktop\\Motion\\101_ObjectCategories\\lotus\\image_0013.jpg 0.203125\n",
      "C:\\Users\\ghk96\\Desktop\\Motion\\101_ObjectCategories\\lotus\\image_0015.jpg 0.2421875\n",
      "C:\\Users\\ghk96\\Desktop\\Motion\\101_ObjectCategories\\lotus\\image_0016.jpg 0.2265625\n",
      "C:\\Users\\ghk96\\Desktop\\Motion\\101_ObjectCategories\\lotus\\image_0025.jpg 0.203125\n",
      "C:\\Users\\ghk96\\Desktop\\Motion\\101_ObjectCategories\\nautilus\\image_0005.jpg 0.24609375\n",
      "C:\\Users\\ghk96\\Desktop\\Motion\\101_ObjectCategories\\nautilus\\image_0007.jpg 0.23828125\n",
      "C:\\Users\\ghk96\\Desktop\\Motion\\101_ObjectCategories\\nautilus\\image_0011.jpg 0.1953125\n",
      "C:\\Users\\ghk96\\Desktop\\Motion\\101_ObjectCategories\\nautilus\\image_0035.jpg 0.22265625\n",
      "C:\\Users\\ghk96\\Desktop\\Motion\\101_ObjectCategories\\nautilus\\image_0037.jpg 0.22265625\n",
      "C:\\Users\\ghk96\\Desktop\\Motion\\101_ObjectCategories\\nautilus\\image_0047.jpg 0.234375\n",
      "C:\\Users\\ghk96\\Desktop\\Motion\\101_ObjectCategories\\nautilus\\image_0049.jpg 0.21875\n",
      "C:\\Users\\ghk96\\Desktop\\Motion\\101_ObjectCategories\\nautilus\\image_0050.jpg 0.19921875\n",
      "C:\\Users\\ghk96\\Desktop\\Motion\\101_ObjectCategories\\nautilus\\image_0051.jpg 0.2421875\n",
      "C:\\Users\\ghk96\\Desktop\\Motion\\101_ObjectCategories\\nautilus\\image_0053.jpg 0.22265625\n",
      "C:\\Users\\ghk96\\Desktop\\Motion\\101_ObjectCategories\\soccer_ball\\image_0008.jpg 0.22265625\n",
      "C:\\Users\\ghk96\\Desktop\\Motion\\101_ObjectCategories\\soccer_ball\\image_0027.jpg 0.23828125\n",
      "C:\\Users\\ghk96\\Desktop\\Motion\\101_ObjectCategories\\strawberry\\image_0007.jpg 0.1875\n",
      "C:\\Users\\ghk96\\Desktop\\Motion\\101_ObjectCategories\\strawberry\\image_0010.jpg 0.2265625\n",
      "C:\\Users\\ghk96\\Desktop\\Motion\\101_ObjectCategories\\strawberry\\image_0023.jpg 0.2265625\n",
      "C:\\Users\\ghk96\\Desktop\\Motion\\101_ObjectCategories\\trilobite\\image_0014.jpg 0.23828125\n",
      "C:\\Users\\ghk96\\Desktop\\Motion\\101_ObjectCategories\\trilobite\\image_0042.jpg 0.21484375\n",
      "C:\\Users\\ghk96\\Desktop\\Motion\\101_ObjectCategories\\trilobite\\image_0043.jpg 0.19140625\n",
      "C:\\Users\\ghk96\\Desktop\\Motion\\101_ObjectCategories\\trilobite\\image_0075.jpg 0.24609375\n",
      "C:\\Users\\ghk96\\Desktop\\Motion\\101_ObjectCategories\\watch\\image_0128.jpg 0.19921875\n",
      "C:\\Users\\ghk96\\Desktop\\Motion\\101_ObjectCategories\\watch\\image_0131.jpg 0.2421875\n",
      "C:\\Users\\ghk96\\Desktop\\Motion\\101_ObjectCategories\\watch\\image_0142.jpg 0.234375\n",
      "C:\\Users\\ghk96\\Desktop\\Motion\\101_ObjectCategories\\water_lilly\\image_0018.jpg 0.24609375\n",
      "C:\\Users\\ghk96\\Desktop\\Motion\\101_ObjectCategories\\water_lilly\\image_0027.jpg 0.2265625\n",
      "C:\\Users\\ghk96\\Desktop\\Motion\\101_ObjectCategories\\water_lilly\\image_0033.jpg 0.2265625\n",
      "C:\\Users\\ghk96\\Desktop\\Motion\\101_ObjectCategories\\yin_yang\\image_0046.jpg 0.2109375\n"
     ]
    }
   ],
   "source": [
    "img = cv2.imread('snoopy.jpg')\n",
    "cv2.imshow('query', img)\n",
    "\n",
    "#비교할 영상들이 있는 경로\n",
    "search_dir = r'C:\\Users\\ghk96\\Desktop\\Motion\\101_ObjectCategories'\n",
    "\n",
    "#이미지를 16 by 16 평균 해시로 변환\n",
    "def img2hash(img):\n",
    "    gray = cv2.cvtColor(img, cv2.COLOR_RGB2GRAY)\n",
    "    gray = cv2.resize(gray, (16,16))\n",
    "    avg = gray.mean()\n",
    "    bi = 1 * (gray > avg)\n",
    "    return bi\n",
    "\n",
    "#해밍 거리 측정 함수\n",
    "def hamming_distance(a,b):\n",
    "    a = a.reshape(1,-1)\n",
    "    b = b.reshape(1,-1)\n",
    "    \n",
    "    #같은 자리의 값이 서로 다른 것들의 합\n",
    "    distance = (a!=b).sum()\n",
    "    return distance\n",
    "\n",
    "#스누피 사진의 해시 구하기\n",
    "query_hash = img2hash(img)\n",
    "\n",
    "#이미지 데이터셋 디렉토리의 모든 영상 파일 경로\n",
    "img_path = glob.glob(search_dir + '/**/*.jpg')\n",
    "\n",
    "for path in img_path:\n",
    "    img = cv2.imread(path) #데이터셋 영상을 하나 읽어서 표시\n",
    "    cv2.imshow('searching..', img)\n",
    "    cv2.waitKey(5)\n",
    "    \n",
    "    #데이터셋 영상 한 개의 해시\n",
    "    a_hash = img2hash(img)\n",
    "    \n",
    "    #해밍거리 산출\n",
    "    dst = hamming_distance(query_hash, a_hash)\n",
    "    \n",
    "    if dst/256 < 0.25: #해밍거리가 25% 이내만 출력\n",
    "        print(path, dst/256)\n",
    "        cv2.imshow(path, img)\n",
    "        \n",
    "cv2.destroyWindow('searching..')\n",
    "cv2.waitKey(0)\n",
    "cv2.destroyAllWindows()\n",
    "    "
   ]
  },
  {
   "cell_type": "markdown",
   "metadata": {},
   "source": [
    "- 실무에 사용할 만큼 좋은 결과를 가져오지 못하는 것을 알 수 있었다..\n",
    "    - 스누피랑 연꽃... 스누피랑 사람 얼굴... 충격이었다...\n",
    "    \n",
    "    \n",
    "    \n",
    "    \n",
    "- 사진의 회전, 크기, 방향 등에 영향을 주지 않으면서 정확도를 높이려면 어떻게 해야할까?\n",
    "    - 특징을 잘 나타내는 여러 개의 지점을 찾아 그 특징을 잘 표현하고 서술할 수 있는 여러 개의 숫자들로 변환해야한다.\n",
    "    - 이를 **키 포인트(Key Point)**와 **특징 디스크립터(Feature Descriptor)**라고 한다.\n",
    "    \n",
    "- 특징점의 개수와 서술 방식에 따라서 매칭하는 방법도 다양한데, 다음에서 알아볼 것이다!"
   ]
  }
 ],
 "metadata": {
  "kernelspec": {
   "display_name": "Python 3",
   "language": "python",
   "name": "python3"
  },
  "language_info": {
   "codemirror_mode": {
    "name": "ipython",
    "version": 3
   },
   "file_extension": ".py",
   "mimetype": "text/x-python",
   "name": "python",
   "nbconvert_exporter": "python",
   "pygments_lexer": "ipython3",
   "version": "3.7.9"
  }
 },
 "nbformat": 4,
 "nbformat_minor": 4
}
