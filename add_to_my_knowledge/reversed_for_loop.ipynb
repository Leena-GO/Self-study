{
  "nbformat": 4,
  "nbformat_minor": 0,
  "metadata": {
    "colab": {
      "name": "reversed_for_loop.ipynb",
      "provenance": [],
      "authorship_tag": "ABX9TyOZvnrBN3B8Lz61TjdpZUGw",
      "include_colab_link": true
    },
    "kernelspec": {
      "name": "python3",
      "display_name": "Python 3"
    },
    "language_info": {
      "name": "python"
    }
  },
  "cells": [
    {
      "cell_type": "markdown",
      "metadata": {
        "id": "view-in-github",
        "colab_type": "text"
      },
      "source": [
        "<a href=\"https://colab.research.google.com/github/Leena-GO/Self-study/blob/main/add_to_my_knowledge/reversed_for_loop.ipynb\" target=\"_parent\"><img src=\"https://colab.research.google.com/assets/colab-badge.svg\" alt=\"Open In Colab\"/></a>"
      ]
    },
    {
      "cell_type": "markdown",
      "metadata": {
        "id": "n4ktpX4n_ZlE"
      },
      "source": [
        "- for loop을 역순으로 만들 수 있는 방법이 있나 찾아보다 알게 된 방법!"
      ]
    },
    {
      "cell_type": "code",
      "metadata": {
        "colab": {
          "base_uri": "https://localhost:8080/"
        },
        "id": "LCJziYY-_Zbf",
        "outputId": "5b8057f4-999f-47dd-cd02-a95e78b5a8a6"
      },
      "source": [
        "for i in reversed(range(5)):\n",
        "  print(i)"
      ],
      "execution_count": 1,
      "outputs": [
        {
          "output_type": "stream",
          "text": [
            "4\n",
            "3\n",
            "2\n",
            "1\n",
            "0\n"
          ],
          "name": "stdout"
        }
      ]
    },
    {
      "cell_type": "markdown",
      "metadata": {
        "id": "Koqr5eJy_jxz"
      },
      "source": [
        "- range 앞에 **reversed()**를 사용해주면 되었던 것이다 o(*°▽°*)o"
      ]
    }
  ]
}