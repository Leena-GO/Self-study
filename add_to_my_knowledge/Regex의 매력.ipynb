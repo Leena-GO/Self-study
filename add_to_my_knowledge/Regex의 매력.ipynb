{
 "cells": [
  {
   "cell_type": "markdown",
   "metadata": {},
   "source": [
    "## 1. 필요한 라이브러리 및 파일 불러오기"
   ]
  },
  {
   "cell_type": "code",
   "execution_count": 2,
   "metadata": {},
   "outputs": [],
   "source": [
    "import re\n",
    "import pandas as pd"
   ]
  },
  {
   "cell_type": "code",
   "execution_count": 3,
   "metadata": {},
   "outputs": [],
   "source": [
    "test4 = pd.read_excel('test4.xlsx')"
   ]
  },
  {
   "cell_type": "markdown",
   "metadata": {},
   "source": [
    "## 2. DataFrame 만들어주기"
   ]
  },
  {
   "cell_type": "markdown",
   "metadata": {},
   "source": [
    "### 1) DataFrame에 필요한 컬럼 생성해주기"
   ]
  },
  {
   "cell_type": "code",
   "execution_count": 4,
   "metadata": {},
   "outputs": [
    {
     "data": {
      "text/html": [
       "<div>\n",
       "<style scoped>\n",
       "    .dataframe tbody tr th:only-of-type {\n",
       "        vertical-align: middle;\n",
       "    }\n",
       "\n",
       "    .dataframe tbody tr th {\n",
       "        vertical-align: top;\n",
       "    }\n",
       "\n",
       "    .dataframe thead th {\n",
       "        text-align: right;\n",
       "    }\n",
       "</style>\n",
       "<table border=\"1\" class=\"dataframe\">\n",
       "  <thead>\n",
       "    <tr style=\"text-align: right;\">\n",
       "      <th></th>\n",
       "      <th>제품정보</th>\n",
       "      <th>REF</th>\n",
       "    </tr>\n",
       "  </thead>\n",
       "  <tbody>\n",
       "    <tr>\n",
       "      <th>0</th>\n",
       "      <td>echelon60 ENDOPATH STAPLER\\n\\nReload, Chargeur...</td>\n",
       "      <td></td>\n",
       "    </tr>\n",
       "    <tr>\n",
       "      <th>1</th>\n",
       "      <td>echelon60 ENDOPATHⓇ STAPLER Reload, Chargeur, ...</td>\n",
       "      <td></td>\n",
       "    </tr>\n",
       "    <tr>\n",
       "      <th>2</th>\n",
       "      <td>1199239\\n\\nCURA PAD 20cmx40cm, PAD type 연예 빅스(...</td>\n",
       "      <td></td>\n",
       "    </tr>\n",
       "    <tr>\n",
       "      <th>3</th>\n",
       "      <td>LOT\\n\\nMfg.\\n\\nUSE BY:\\n\\nTS20070261\\n\\n2020-0...</td>\n",
       "      <td></td>\n",
       "    </tr>\n",
       "    <tr>\n",
       "      <th>4</th>\n",
       "      <td>AII-SILICONE\\n\\nT-DRAINAGE TUBE\\n\\nSIZE\\n\\n4\\n...</td>\n",
       "      <td></td>\n",
       "    </tr>\n",
       "  </tbody>\n",
       "</table>\n",
       "</div>"
      ],
      "text/plain": [
       "                                                제품정보 REF\n",
       "0  echelon60 ENDOPATH STAPLER\\n\\nReload, Chargeur...    \n",
       "1  echelon60 ENDOPATHⓇ STAPLER Reload, Chargeur, ...    \n",
       "2  1199239\\n\\nCURA PAD 20cmx40cm, PAD type 연예 빅스(...    \n",
       "3  LOT\\n\\nMfg.\\n\\nUSE BY:\\n\\nTS20070261\\n\\n2020-0...    \n",
       "4  AII-SILICONE\\n\\nT-DRAINAGE TUBE\\n\\nSIZE\\n\\n4\\n...    "
      ]
     },
     "execution_count": 4,
     "metadata": {},
     "output_type": "execute_result"
    }
   ],
   "source": [
    "test4['REF'] = '' ; test4"
   ]
  },
  {
   "cell_type": "markdown",
   "metadata": {},
   "source": [
    "### 2) 추출할 정규식 만들어주기\n",
    "- test 해본 결과, search를 할 땐 complie 해도 되고 안해도 된다."
   ]
  },
  {
   "cell_type": "code",
   "execution_count": 5,
   "metadata": {},
   "outputs": [],
   "source": [
    "text_reg = re.compile(r'(REF+[\\n\\n]+[a-zA-Z0-9]+)|(REF+[. -/?\\:]+[a-zA-Z0-9]+[. -/?]+[a-zA-Z0-9]+)|(REF+[. -/?\\:]+[a-zA-Z0-9]+)')"
   ]
  },
  {
   "cell_type": "markdown",
   "metadata": {},
   "source": [
    "### 3) re.search를 사용하여, 제품정보 안에 있는 REF만 추출해준다.\n",
    "- re.search 후, group을 해주면 원하는 값이 뿅! 튀어나오게 된다.\n",
    "- 이 뿅!하고 튀어나온 값은, **DataFrame이름.at[index, column_name]** 으로 설정해주면, 이 안으로 그 값이 들어가게 된다.\n",
    "- 너무 신기하다... 그토록 원하던 기능이 **at** 하나로 해결이 되다니!"
   ]
  },
  {
   "cell_type": "code",
   "execution_count": 8,
   "metadata": {},
   "outputs": [
    {
     "data": {
      "text/html": [
       "<div>\n",
       "<style scoped>\n",
       "    .dataframe tbody tr th:only-of-type {\n",
       "        vertical-align: middle;\n",
       "    }\n",
       "\n",
       "    .dataframe tbody tr th {\n",
       "        vertical-align: top;\n",
       "    }\n",
       "\n",
       "    .dataframe thead th {\n",
       "        text-align: right;\n",
       "    }\n",
       "</style>\n",
       "<table border=\"1\" class=\"dataframe\">\n",
       "  <thead>\n",
       "    <tr style=\"text-align: right;\">\n",
       "      <th></th>\n",
       "      <th>제품정보</th>\n",
       "      <th>REF</th>\n",
       "    </tr>\n",
       "  </thead>\n",
       "  <tbody>\n",
       "    <tr>\n",
       "      <th>0</th>\n",
       "      <td>echelon60 ENDOPATH STAPLER\\n\\nReload, Chargeur...</td>\n",
       "      <td>REF\\n\\nECR60B</td>\n",
       "    </tr>\n",
       "    <tr>\n",
       "      <th>1</th>\n",
       "      <td>echelon60 ENDOPATHⓇ STAPLER Reload, Chargeur, ...</td>\n",
       "      <td>REF ECR60B</td>\n",
       "    </tr>\n",
       "    <tr>\n",
       "      <th>2</th>\n",
       "      <td>1199239\\n\\nCURA PAD 20cmx40cm, PAD type 연예 빅스(...</td>\n",
       "      <td>REF:SF1358 X</td>\n",
       "    </tr>\n",
       "    <tr>\n",
       "      <th>3</th>\n",
       "      <td>LOT\\n\\nMfg.\\n\\nUSE BY:\\n\\nTS20070261\\n\\n2020-0...</td>\n",
       "      <td>REF 2D72LT70</td>\n",
       "    </tr>\n",
       "    <tr>\n",
       "      <th>4</th>\n",
       "      <td>AII-SILICONE\\n\\nT-DRAINAGE TUBE\\n\\nSIZE\\n\\n4\\n...</td>\n",
       "      <td>REF 2206-004</td>\n",
       "    </tr>\n",
       "  </tbody>\n",
       "</table>\n",
       "</div>"
      ],
      "text/plain": [
       "                                                제품정보            REF\n",
       "0  echelon60 ENDOPATH STAPLER\\n\\nReload, Chargeur...  REF\\n\\nECR60B\n",
       "1  echelon60 ENDOPATHⓇ STAPLER Reload, Chargeur, ...     REF ECR60B\n",
       "2  1199239\\n\\nCURA PAD 20cmx40cm, PAD type 연예 빅스(...   REF:SF1358 X\n",
       "3  LOT\\n\\nMfg.\\n\\nUSE BY:\\n\\nTS20070261\\n\\n2020-0...   REF 2D72LT70\n",
       "4  AII-SILICONE\\n\\nT-DRAINAGE TUBE\\n\\nSIZE\\n\\n4\\n...   REF 2206-004"
      ]
     },
     "execution_count": 8,
     "metadata": {},
     "output_type": "execute_result"
    }
   ],
   "source": [
    "for i in range(len(test4)):\n",
    "    match = re.search(text_reg,test4['제품정보'][i])\n",
    "    test4.at[i, 'REF'] = match.group(0)\n",
    "test4"
   ]
  },
  {
   "cell_type": "markdown",
   "metadata": {},
   "source": [
    "### 4) 추출이 잘 되었는지, 맞는 위치에 추출이 된 건지 확인"
   ]
  },
  {
   "cell_type": "code",
   "execution_count": 9,
   "metadata": {},
   "outputs": [
    {
     "data": {
      "text/plain": [
       "'REF\\n\\nECR60B'"
      ]
     },
     "execution_count": 9,
     "metadata": {},
     "output_type": "execute_result"
    }
   ],
   "source": [
    "match = re.search(text_reg,test4['제품정보'][0])\n",
    "match.group(0)"
   ]
  },
  {
   "cell_type": "code",
   "execution_count": 10,
   "metadata": {},
   "outputs": [
    {
     "data": {
      "text/plain": [
       "'REF ECR60B'"
      ]
     },
     "execution_count": 10,
     "metadata": {},
     "output_type": "execute_result"
    }
   ],
   "source": [
    "match = re.search(text_reg,test4['제품정보'][1])\n",
    "match.group(0)"
   ]
  },
  {
   "cell_type": "code",
   "execution_count": 11,
   "metadata": {},
   "outputs": [
    {
     "data": {
      "text/plain": [
       "'REF:SF1358 X'"
      ]
     },
     "execution_count": 11,
     "metadata": {},
     "output_type": "execute_result"
    }
   ],
   "source": [
    "match = re.search(text_reg,test4['제품정보'][2])\n",
    "match.group(0)"
   ]
  },
  {
   "cell_type": "code",
   "execution_count": 12,
   "metadata": {},
   "outputs": [
    {
     "data": {
      "text/plain": [
       "'REF 2D72LT70'"
      ]
     },
     "execution_count": 12,
     "metadata": {},
     "output_type": "execute_result"
    }
   ],
   "source": [
    "match = re.search(text_reg,test4['제품정보'][3])\n",
    "match.group(0)"
   ]
  },
  {
   "cell_type": "code",
   "execution_count": 13,
   "metadata": {},
   "outputs": [
    {
     "data": {
      "text/plain": [
       "'REF 2206-004'"
      ]
     },
     "execution_count": 13,
     "metadata": {},
     "output_type": "execute_result"
    }
   ],
   "source": [
    "match = re.search(text_reg,test4['제품정보'][4])\n",
    "match.group(0)"
   ]
  },
  {
   "cell_type": "markdown",
   "metadata": {},
   "source": [
    "- 필요한 값들을 정규식 하나로 뿅! 찾아낼 수 있다는 게 너무 신기하다.\n",
    "- 정규식의 기능을 원랜 알고 있었지만... 어렵게 느껴져서 시도하지 않고 있었다.\n",
    "- 엘리쌤의 정규식 강의를 Youtube에서 접하고 실습한 끝에, 정규식과 조금 친해진 것 같다."
   ]
  }
 ],
 "metadata": {
  "kernelspec": {
   "display_name": "Python 3",
   "language": "python",
   "name": "python3"
  },
  "language_info": {
   "codemirror_mode": {
    "name": "ipython",
    "version": 3
   },
   "file_extension": ".py",
   "mimetype": "text/x-python",
   "name": "python",
   "nbconvert_exporter": "python",
   "pygments_lexer": "ipython3",
   "version": "3.8.3"
  }
 },
 "nbformat": 4,
 "nbformat_minor": 4
}
