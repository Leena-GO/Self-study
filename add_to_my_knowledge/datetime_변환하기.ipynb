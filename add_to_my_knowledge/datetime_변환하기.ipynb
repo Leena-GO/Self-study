{
  "nbformat": 4,
  "nbformat_minor": 0,
  "metadata": {
    "colab": {
      "name": "datetime_변환하기.ipynb",
      "provenance": [],
      "authorship_tag": "ABX9TyN/3f3SHIODKD/HU+haopRM",
      "include_colab_link": true
    },
    "kernelspec": {
      "name": "python3",
      "display_name": "Python 3"
    },
    "language_info": {
      "name": "python"
    }
  },
  "cells": [
    {
      "cell_type": "markdown",
      "metadata": {
        "id": "view-in-github",
        "colab_type": "text"
      },
      "source": [
        "<a href=\"https://colab.research.google.com/github/Leena-GO/Self-study/blob/main/add_to_my_knowledge/datetime_%EB%B3%80%ED%99%98%ED%95%98%EA%B8%B0.ipynb\" target=\"_parent\"><img src=\"https://colab.research.google.com/assets/colab-badge.svg\" alt=\"Open In Colab\"/></a>"
      ]
    },
    {
      "cell_type": "code",
      "metadata": {
        "id": "86SpwqqhCsry"
      },
      "source": [
        "import pandas as pd"
      ],
      "execution_count": 1,
      "outputs": []
    },
    {
      "cell_type": "code",
      "metadata": {
        "id": "3OmE-iVBCyhP"
      },
      "source": [
        "df = pd.DataFrame({'Birth':['2019-01-01 09:10:00',\n",
        "                            '2019-01-08 09:20:30',\n",
        "                            '2019-02-01 10:20:00',\n",
        "                            '2019-02-02 11:40:50',\n",
        "                            '2019-02-28 15:10:20',\n",
        "                            '2019-04-10 19:20:50',\n",
        "                            '2019-06-30 21:20:50',\n",
        "                            '2019-07-20 23:30:59']})"
      ],
      "execution_count": 2,
      "outputs": []
    },
    {
      "cell_type": "code",
      "metadata": {
        "colab": {
          "base_uri": "https://localhost:8080/"
        },
        "id": "hKyzN9r0Cz3W",
        "outputId": "b54065a9-a3d1-4001-bed8-a3e320aaff51"
      },
      "source": [
        "df.info()"
      ],
      "execution_count": 4,
      "outputs": [
        {
          "output_type": "stream",
          "text": [
            "<class 'pandas.core.frame.DataFrame'>\n",
            "RangeIndex: 8 entries, 0 to 7\n",
            "Data columns (total 1 columns):\n",
            " #   Column  Non-Null Count  Dtype \n",
            "---  ------  --------------  ----- \n",
            " 0   Birth   8 non-null      object\n",
            "dtypes: object(1)\n",
            "memory usage: 192.0+ bytes\n"
          ],
          "name": "stdout"
        }
      ]
    },
    {
      "cell_type": "markdown",
      "metadata": {
        "id": "kIsG7qX9C2rx"
      },
      "source": [
        "- object 형태에서 datetime64[ns] 타입으로 변경"
      ]
    },
    {
      "cell_type": "code",
      "metadata": {
        "colab": {
          "base_uri": "https://localhost:8080/"
        },
        "id": "3DzPE6XHC0Pe",
        "outputId": "e668944b-4e6a-400a-f7d0-2d33493cdbc1"
      },
      "source": [
        "df['Birth'] = pd.to_datetime(df['Birth'])\n",
        "print(df)\n",
        "print('-' * 30)\n",
        "print(df.info())"
      ],
      "execution_count": 8,
      "outputs": [
        {
          "output_type": "stream",
          "text": [
            "                Birth\n",
            "0 2019-01-01 09:10:00\n",
            "1 2019-01-08 09:20:30\n",
            "2 2019-02-01 10:20:00\n",
            "3 2019-02-02 11:40:50\n",
            "4 2019-02-28 15:10:20\n",
            "5 2019-04-10 19:20:50\n",
            "6 2019-06-30 21:20:50\n",
            "7 2019-07-20 23:30:59\n",
            "------------------------------\n",
            "<class 'pandas.core.frame.DataFrame'>\n",
            "RangeIndex: 8 entries, 0 to 7\n",
            "Data columns (total 1 columns):\n",
            " #   Column  Non-Null Count  Dtype         \n",
            "---  ------  --------------  -----         \n",
            " 0   Birth   8 non-null      datetime64[ns]\n",
            "dtypes: datetime64[ns](1)\n",
            "memory usage: 192.0 bytes\n",
            "None\n"
          ],
          "name": "stdout"
        }
      ]
    },
    {
      "cell_type": "markdown",
      "metadata": {
        "id": "qMXr1YmEEEEK"
      },
      "source": [
        "- datetime64[ns] 형태로 변경했기 때문에, datetime64[ns]에서 제공하는 함수와 속성을 호출할 수 있다."
      ]
    },
    {
      "cell_type": "code",
      "metadata": {
        "id": "TzhEGZbUD2Vh"
      },
      "source": [
        "df['Birth_date']       = df['Birth'].dt.date         # YYYY-MM-DD(문자)\n",
        "df['Birth_year']       = df['Birth'].dt.year         # 연(4자리숫자)\n",
        "df['Birth_month']      = df['Birth'].dt.month        # 월(숫자)\n",
        "df['Birth_month_name'] = df['Birth'].dt.month_name() # 월(문자)\n",
        "\n",
        "df['Birth_day']        = df['Birth'].dt.day          # 일(숫자)\n",
        "df['Birth_time']       = df['Birth'].dt.time         # HH:MM:SS(문자)\n",
        "df['Birth_hour']       = df['Birth'].dt.hour         # 시(숫자)\n",
        "df['Birth_minute']     = df['Birth'].dt.minute       # 분(숫자)\n",
        "df['Birth_second']     = df['Birth'].dt.second       # 초(숫자)"
      ],
      "execution_count": 9,
      "outputs": []
    },
    {
      "cell_type": "code",
      "metadata": {
        "colab": {
          "base_uri": "https://localhost:8080/",
          "height": 297
        },
        "id": "tttGPxMQEQV5",
        "outputId": "bc67abb5-15ac-41d1-e8c2-aa137f8e614b"
      },
      "source": [
        "df"
      ],
      "execution_count": 11,
      "outputs": [
        {
          "output_type": "execute_result",
          "data": {
            "text/html": [
              "<div>\n",
              "<style scoped>\n",
              "    .dataframe tbody tr th:only-of-type {\n",
              "        vertical-align: middle;\n",
              "    }\n",
              "\n",
              "    .dataframe tbody tr th {\n",
              "        vertical-align: top;\n",
              "    }\n",
              "\n",
              "    .dataframe thead th {\n",
              "        text-align: right;\n",
              "    }\n",
              "</style>\n",
              "<table border=\"1\" class=\"dataframe\">\n",
              "  <thead>\n",
              "    <tr style=\"text-align: right;\">\n",
              "      <th></th>\n",
              "      <th>Birth</th>\n",
              "      <th>Birth_date</th>\n",
              "      <th>Birth_year</th>\n",
              "      <th>Birth_month</th>\n",
              "      <th>Birth_month_name</th>\n",
              "      <th>Birth_day</th>\n",
              "      <th>Birth_time</th>\n",
              "      <th>Birth_hour</th>\n",
              "      <th>Birth_minute</th>\n",
              "      <th>Birth_second</th>\n",
              "    </tr>\n",
              "  </thead>\n",
              "  <tbody>\n",
              "    <tr>\n",
              "      <th>0</th>\n",
              "      <td>2019-01-01 09:10:00</td>\n",
              "      <td>2019-01-01</td>\n",
              "      <td>2019</td>\n",
              "      <td>1</td>\n",
              "      <td>January</td>\n",
              "      <td>1</td>\n",
              "      <td>09:10:00</td>\n",
              "      <td>9</td>\n",
              "      <td>10</td>\n",
              "      <td>0</td>\n",
              "    </tr>\n",
              "    <tr>\n",
              "      <th>1</th>\n",
              "      <td>2019-01-08 09:20:30</td>\n",
              "      <td>2019-01-08</td>\n",
              "      <td>2019</td>\n",
              "      <td>1</td>\n",
              "      <td>January</td>\n",
              "      <td>8</td>\n",
              "      <td>09:20:30</td>\n",
              "      <td>9</td>\n",
              "      <td>20</td>\n",
              "      <td>30</td>\n",
              "    </tr>\n",
              "    <tr>\n",
              "      <th>2</th>\n",
              "      <td>2019-02-01 10:20:00</td>\n",
              "      <td>2019-02-01</td>\n",
              "      <td>2019</td>\n",
              "      <td>2</td>\n",
              "      <td>February</td>\n",
              "      <td>1</td>\n",
              "      <td>10:20:00</td>\n",
              "      <td>10</td>\n",
              "      <td>20</td>\n",
              "      <td>0</td>\n",
              "    </tr>\n",
              "    <tr>\n",
              "      <th>3</th>\n",
              "      <td>2019-02-02 11:40:50</td>\n",
              "      <td>2019-02-02</td>\n",
              "      <td>2019</td>\n",
              "      <td>2</td>\n",
              "      <td>February</td>\n",
              "      <td>2</td>\n",
              "      <td>11:40:50</td>\n",
              "      <td>11</td>\n",
              "      <td>40</td>\n",
              "      <td>50</td>\n",
              "    </tr>\n",
              "    <tr>\n",
              "      <th>4</th>\n",
              "      <td>2019-02-28 15:10:20</td>\n",
              "      <td>2019-02-28</td>\n",
              "      <td>2019</td>\n",
              "      <td>2</td>\n",
              "      <td>February</td>\n",
              "      <td>28</td>\n",
              "      <td>15:10:20</td>\n",
              "      <td>15</td>\n",
              "      <td>10</td>\n",
              "      <td>20</td>\n",
              "    </tr>\n",
              "    <tr>\n",
              "      <th>5</th>\n",
              "      <td>2019-04-10 19:20:50</td>\n",
              "      <td>2019-04-10</td>\n",
              "      <td>2019</td>\n",
              "      <td>4</td>\n",
              "      <td>April</td>\n",
              "      <td>10</td>\n",
              "      <td>19:20:50</td>\n",
              "      <td>19</td>\n",
              "      <td>20</td>\n",
              "      <td>50</td>\n",
              "    </tr>\n",
              "    <tr>\n",
              "      <th>6</th>\n",
              "      <td>2019-06-30 21:20:50</td>\n",
              "      <td>2019-06-30</td>\n",
              "      <td>2019</td>\n",
              "      <td>6</td>\n",
              "      <td>June</td>\n",
              "      <td>30</td>\n",
              "      <td>21:20:50</td>\n",
              "      <td>21</td>\n",
              "      <td>20</td>\n",
              "      <td>50</td>\n",
              "    </tr>\n",
              "    <tr>\n",
              "      <th>7</th>\n",
              "      <td>2019-07-20 23:30:59</td>\n",
              "      <td>2019-07-20</td>\n",
              "      <td>2019</td>\n",
              "      <td>7</td>\n",
              "      <td>July</td>\n",
              "      <td>20</td>\n",
              "      <td>23:30:59</td>\n",
              "      <td>23</td>\n",
              "      <td>30</td>\n",
              "      <td>59</td>\n",
              "    </tr>\n",
              "  </tbody>\n",
              "</table>\n",
              "</div>"
            ],
            "text/plain": [
              "                Birth  Birth_date  ...  Birth_minute  Birth_second\n",
              "0 2019-01-01 09:10:00  2019-01-01  ...            10             0\n",
              "1 2019-01-08 09:20:30  2019-01-08  ...            20            30\n",
              "2 2019-02-01 10:20:00  2019-02-01  ...            20             0\n",
              "3 2019-02-02 11:40:50  2019-02-02  ...            40            50\n",
              "4 2019-02-28 15:10:20  2019-02-28  ...            10            20\n",
              "5 2019-04-10 19:20:50  2019-04-10  ...            20            50\n",
              "6 2019-06-30 21:20:50  2019-06-30  ...            20            50\n",
              "7 2019-07-20 23:30:59  2019-07-20  ...            30            59\n",
              "\n",
              "[8 rows x 10 columns]"
            ]
          },
          "metadata": {
            "tags": []
          },
          "execution_count": 11
        }
      ]
    }
  ]
}