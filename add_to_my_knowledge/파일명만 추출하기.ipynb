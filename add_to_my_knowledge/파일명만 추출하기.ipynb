{
 "cells": [
  {
   "cell_type": "code",
   "execution_count": 1,
   "metadata": {},
   "outputs": [],
   "source": [
    "import os"
   ]
  },
  {
   "cell_type": "markdown",
   "metadata": {},
   "source": [
    "- **os.listdir()**은 지정한 디렉토리 내의 모든 파일을 리스트화해서 return 해준다."
   ]
  },
  {
   "cell_type": "code",
   "execution_count": 2,
   "metadata": {},
   "outputs": [
    {
     "name": "stdout",
     "output_type": "stream",
     "text": [
      "['.ipynb_checkpoints', '1024489.jpg', '1027699.jpg', '1028021.jpg', '1028022.jpg', '1028023.jpg', '1028024.jpg', '1028025.jpg', '1028026.jpg', '1028940.jpg', '1028954.jpg', '1028955.jpg', '1028956.jpg', '1028957.jpg', '1028958.jpg', '1029001.jpg', '1029002.jpg', '1029003.jpg', '1029046.jpg', '1029054.jpg', '1029093.jpg', '1029094.jpg', '1029198.jpg', '1029205.jpg', '1029206.jpg', '1029207.jpg', '1029208.jpg', '1029462.jpg', '1029465.jpg', '1029546.jpg', '1029547.jpg', '1029556.jpg', '1029559.jpg', '1029630.jpg', '1029632.jpg', '1029635.jpg', '1029636.jpg', '1029637.jpg', '1029639.jpg', '1029648.jpg', '1029651.jpg', '1029653.jpg', '1029654.jpg', '1029656.jpg', '1029657.jpg', '1029914.jpg', '1029915.jpg', '1029916.jpg', '1029917.jpg', '1029918.jpg', '1029919.jpg', '1029920.jpg', '1029935.jpg', '1029937.jpg', '1029938.jpg', '1029939.jpg', '1029940.jpg', '1030024.jpg', '1030043.jpg', '1030688.jpg', '1030689.jpg', '1030690.jpg', '1030691.jpg', '1030761.jpg', '1031558.jpg', '1031656.jpg', '1033194.jpg', '1034147.jpg', '1034450.jpg', '1034799.jpg', '1034840.jpg', '1035112.jpg', '1035163.jpg', '1035230.jpg', '1038779.jpg', '1038780.jpg', '1038781.jpg', '1039157.jpg', '1039158.jpg', '1039629.jpg', '1042314.jpg', '1043842.jpg', '1044102.jpg', '1044674.jpg', '1045321.jpg', '1045346.jpg', '1045347.jpg', '1045348.jpg', '1045349.jpg', '1046464.jpg', '1046800.jpg', '1177530.jpg', '1189739.jpg', '1192027.jpg', '1192198.jpg', '1194013.jpg', '1199233.jpg', '1207060.jpg', '1210546.jpg', '1213485.jpg', '1213486.jpg', '1213526.jpg', '1217132.jpg', '1219952.jpg', '1233630.jpg', '1233631.jpg', '1233632.jpg', '1233633.jpg', '1233634.jpg', '1238405.jpg', '1238406.jpg', '1238407.jpg', '1238408.jpg', '1238409.jpg', '1238410.jpg', '1238472.jpg', '1238473.jpg', '1241312.jpg', '1241313.jpg', '1241314.jpg', 'Untitled.ipynb']\n"
     ]
    }
   ],
   "source": [
    "files = os.listdir('.')\n",
    "print(files)"
   ]
  },
  {
   "cell_type": "markdown",
   "metadata": {},
   "source": [
    "- **os.path.basename(name)**은 파일 이름만 출력한다."
   ]
  },
  {
   "cell_type": "code",
   "execution_count": 48,
   "metadata": {},
   "outputs": [
    {
     "data": {
      "text/plain": [
       "'1024489.jpg'"
      ]
     },
     "execution_count": 48,
     "metadata": {},
     "output_type": "execute_result"
    }
   ],
   "source": [
    "os.path.basename(files[1])"
   ]
  },
  {
   "cell_type": "markdown",
   "metadata": {},
   "source": [
    "- **os.path.splitext(name)**는 확장자를 분리해준다."
   ]
  },
  {
   "cell_type": "code",
   "execution_count": 49,
   "metadata": {},
   "outputs": [
    {
     "data": {
      "text/plain": [
       "('1024489', '.jpg')"
      ]
     },
     "execution_count": 49,
     "metadata": {},
     "output_type": "execute_result"
    }
   ],
   "source": [
    "os.path.splitext(os.path.basename(files[1]))"
   ]
  },
  {
   "cell_type": "markdown",
   "metadata": {},
   "source": [
    "#### for loop으로 폴더 내 모든 파일명 추출하기"
   ]
  },
  {
   "cell_type": "code",
   "execution_count": 29,
   "metadata": {},
   "outputs": [],
   "source": [
    "file_name_only = []"
   ]
  },
  {
   "cell_type": "code",
   "execution_count": 30,
   "metadata": {},
   "outputs": [],
   "source": [
    "for i in files:\n",
    "    file_name_only.append(os.path.splitext(os.path.basename(i))[0])"
   ]
  },
  {
   "cell_type": "code",
   "execution_count": 31,
   "metadata": {},
   "outputs": [
    {
     "data": {
      "text/plain": [
       "['.ipynb_checkpoints',\n",
       " '1024489',\n",
       " '1027699',\n",
       " '1028021',\n",
       " '1028022',\n",
       " '1028023',\n",
       " '1028024',\n",
       " '1028025',\n",
       " '1028026',\n",
       " '1028940',\n",
       " '1028954',\n",
       " '1028955',\n",
       " '1028956',\n",
       " '1028957',\n",
       " '1028958',\n",
       " '1029001',\n",
       " '1029002',\n",
       " '1029003',\n",
       " '1029046',\n",
       " '1029054',\n",
       " '1029093',\n",
       " '1029094',\n",
       " '1029198',\n",
       " '1029205',\n",
       " '1029206',\n",
       " '1029207',\n",
       " '1029208',\n",
       " '1029462',\n",
       " '1029465',\n",
       " '1029546',\n",
       " '1029547',\n",
       " '1029556',\n",
       " '1029559',\n",
       " '1029630',\n",
       " '1029632',\n",
       " '1029635',\n",
       " '1029636',\n",
       " '1029637',\n",
       " '1029639',\n",
       " '1029648',\n",
       " '1029651',\n",
       " '1029653',\n",
       " '1029654',\n",
       " '1029656',\n",
       " '1029657',\n",
       " '1029914',\n",
       " '1029915',\n",
       " '1029916',\n",
       " '1029917',\n",
       " '1029918',\n",
       " '1029919',\n",
       " '1029920',\n",
       " '1029935',\n",
       " '1029937',\n",
       " '1029938',\n",
       " '1029939',\n",
       " '1029940',\n",
       " '1030024',\n",
       " '1030043',\n",
       " '1030688',\n",
       " '1030689',\n",
       " '1030690',\n",
       " '1030691',\n",
       " '1030761',\n",
       " '1031558',\n",
       " '1031656',\n",
       " '1033194',\n",
       " '1034147',\n",
       " '1034450',\n",
       " '1034799',\n",
       " '1034840',\n",
       " '1035112',\n",
       " '1035163',\n",
       " '1035230',\n",
       " '1038779',\n",
       " '1038780',\n",
       " '1038781',\n",
       " '1039157',\n",
       " '1039158',\n",
       " '1039629',\n",
       " '1042314',\n",
       " '1043842',\n",
       " '1044102',\n",
       " '1044674',\n",
       " '1045321',\n",
       " '1045346',\n",
       " '1045347',\n",
       " '1045348',\n",
       " '1045349',\n",
       " '1046464',\n",
       " '1046800',\n",
       " '1177530',\n",
       " '1189739',\n",
       " '1192027',\n",
       " '1192198',\n",
       " '1194013',\n",
       " '1199233',\n",
       " '1207060',\n",
       " '1210546',\n",
       " '1213485',\n",
       " '1213486',\n",
       " '1213526',\n",
       " '1217132',\n",
       " '1219952',\n",
       " '1233630',\n",
       " '1233631',\n",
       " '1233632',\n",
       " '1233633',\n",
       " '1233634',\n",
       " '1238405',\n",
       " '1238406',\n",
       " '1238407',\n",
       " '1238408',\n",
       " '1238409',\n",
       " '1238410',\n",
       " '1238472',\n",
       " '1238473',\n",
       " '1241312',\n",
       " '1241313',\n",
       " '1241314',\n",
       " 'Untitled']"
      ]
     },
     "execution_count": 31,
     "metadata": {},
     "output_type": "execute_result"
    }
   ],
   "source": [
    "file_name_only"
   ]
  }
 ],
 "metadata": {
  "kernelspec": {
   "display_name": "Python 3",
   "language": "python",
   "name": "python3"
  },
  "language_info": {
   "codemirror_mode": {
    "name": "ipython",
    "version": 3
   },
   "file_extension": ".py",
   "mimetype": "text/x-python",
   "name": "python",
   "nbconvert_exporter": "python",
   "pygments_lexer": "ipython3",
   "version": "3.8.3"
  }
 },
 "nbformat": 4,
 "nbformat_minor": 4
}
