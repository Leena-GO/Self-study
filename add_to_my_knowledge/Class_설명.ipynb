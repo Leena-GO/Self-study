{
  "nbformat": 4,
  "nbformat_minor": 0,
  "metadata": {
    "colab": {
      "name": "Class 설명.ipynb",
      "provenance": [],
      "authorship_tag": "ABX9TyPSMqsgw6v1LM1L6QYQx+M7",
      "include_colab_link": true
    },
    "kernelspec": {
      "name": "python3",
      "display_name": "Python 3"
    },
    "language_info": {
      "name": "python"
    }
  },
  "cells": [
    {
      "cell_type": "markdown",
      "metadata": {
        "id": "view-in-github",
        "colab_type": "text"
      },
      "source": [
        "<a href=\"https://colab.research.google.com/github/Leena-GO/Self-study/blob/main/add_to_my_knowledge/Class_%EC%84%A4%EB%AA%85.ipynb\" target=\"_parent\"><img src=\"https://colab.research.google.com/assets/colab-badge.svg\" alt=\"Open In Colab\"/></a>"
      ]
    },
    {
      "cell_type": "markdown",
      "metadata": {
        "id": "f1n1MltaUbpc"
      },
      "source": [
        "참고 영상: [Youtube_초보코딩](https://youtu.be/uIcK7-YU8uA)"
      ]
    },
    {
      "cell_type": "code",
      "metadata": {
        "id": "qRJak0LnPHay"
      },
      "source": [
        "class JSS:\n",
        "  def __init__(self):  #클래스를 선언하는 순간 실행되는 함수\n",
        "    print('JSS 클래스 선언!')\n"
      ],
      "execution_count": 1,
      "outputs": []
    },
    {
      "cell_type": "code",
      "metadata": {
        "colab": {
          "base_uri": "https://localhost:8080/"
        },
        "id": "V9btD7b8Pvzn",
        "outputId": "cc239d7c-0019-406f-c8f5-5b82824d4941"
      },
      "source": [
        "a = JSS()"
      ],
      "execution_count": 2,
      "outputs": [
        {
          "output_type": "stream",
          "text": [
            "JSS 클래스 선언!\n"
          ],
          "name": "stdout"
        }
      ]
    },
    {
      "cell_type": "markdown",
      "metadata": {
        "id": "L3fjUQFyQAxg"
      },
      "source": [
        "- 위 방법에서 다른 함수를 하나 추가한 후, 똑같이 JSS()만 할당하여 불러와보자."
      ]
    },
    {
      "cell_type": "code",
      "metadata": {
        "id": "fXB82PB1Pxg9"
      },
      "source": [
        "class JSS:\n",
        "  def __init__(self):  #클래스를 선언하는 순간 실행되는 함수\n",
        "    print('JSS 클래스 선언!')\n",
        "\n",
        "  def show(self):\n",
        "    print('show 실행!')"
      ],
      "execution_count": 3,
      "outputs": []
    },
    {
      "cell_type": "code",
      "metadata": {
        "colab": {
          "base_uri": "https://localhost:8080/"
        },
        "id": "a8JBZzepP7b6",
        "outputId": "a97fc008-5864-4cbf-dd45-5847025087c4"
      },
      "source": [
        "b = JSS()"
      ],
      "execution_count": 4,
      "outputs": [
        {
          "output_type": "stream",
          "text": [
            "JSS 클래스 선언!\n"
          ],
          "name": "stdout"
        }
      ]
    },
    {
      "cell_type": "markdown",
      "metadata": {
        "id": "a-2SEH4fQJSL"
      },
      "source": [
        "- init 함수만 실행되는 것을 볼 수 있다.\n",
        "- 그 외 다른 함수는 . 을 한 후 함수명을 불러주면 함수 안에 지정된 값이 불러와지게 된다."
      ]
    },
    {
      "cell_type": "code",
      "metadata": {
        "colab": {
          "base_uri": "https://localhost:8080/"
        },
        "id": "ZKe0e59hP8xz",
        "outputId": "80c7ca2c-eb6b-41db-9f2a-f26ea9c2537b"
      },
      "source": [
        "b.show()"
      ],
      "execution_count": 5,
      "outputs": [
        {
          "output_type": "stream",
          "text": [
            "show 실행!\n"
          ],
          "name": "stdout"
        }
      ]
    },
    {
      "cell_type": "markdown",
      "metadata": {
        "id": "UZa591ABQecn"
      },
      "source": [
        "### 2) self\n",
        "- "
      ]
    },
    {
      "cell_type": "code",
      "metadata": {
        "id": "5gePhS3gP-0f"
      },
      "source": [
        "class JSS:\n",
        "  def __init__(self):  #클래스를 선언하는 순간 실행되는 함수\n",
        "    self.name = input('Name: ')\n",
        "    self.age = input('Age: ')\n",
        "\n",
        "  def show(self):\n",
        "    print('show 실행!')"
      ],
      "execution_count": 6,
      "outputs": []
    },
    {
      "cell_type": "code",
      "metadata": {
        "colab": {
          "base_uri": "https://localhost:8080/"
        },
        "id": "nRzNz7f4SWD8",
        "outputId": "d9273877-2740-4d28-a5ae-7cf48f51aa85"
      },
      "source": [
        "a = JSS()"
      ],
      "execution_count": 7,
      "outputs": [
        {
          "output_type": "stream",
          "text": [
            "Name: Leena\n",
            "Age: 26\n"
          ],
          "name": "stdout"
        }
      ]
    },
    {
      "cell_type": "code",
      "metadata": {
        "colab": {
          "base_uri": "https://localhost:8080/",
          "height": 35
        },
        "id": "o-DoNLZmSfAA",
        "outputId": "e18bbc7e-a3c2-4b68-8f66-e3f24e183fb9"
      },
      "source": [
        "a.name"
      ],
      "execution_count": 8,
      "outputs": [
        {
          "output_type": "execute_result",
          "data": {
            "application/vnd.google.colaboratory.intrinsic+json": {
              "type": "string"
            },
            "text/plain": [
              "'Leena'"
            ]
          },
          "metadata": {
            "tags": []
          },
          "execution_count": 8
        }
      ]
    },
    {
      "cell_type": "code",
      "metadata": {
        "colab": {
          "base_uri": "https://localhost:8080/",
          "height": 35
        },
        "id": "gstbyEjgSgbm",
        "outputId": "0d985ba3-7247-4646-b6ff-1179919093d1"
      },
      "source": [
        "a.age"
      ],
      "execution_count": 9,
      "outputs": [
        {
          "output_type": "execute_result",
          "data": {
            "application/vnd.google.colaboratory.intrinsic+json": {
              "type": "string"
            },
            "text/plain": [
              "'26'"
            ]
          },
          "metadata": {
            "tags": []
          },
          "execution_count": 9
        }
      ]
    },
    {
      "cell_type": "code",
      "metadata": {
        "id": "ymvQ6611SiuQ"
      },
      "source": [
        "class JSS:\n",
        "  def __init__(self):  #클래스를 선언하는 순간 실행되는 함수\n",
        "    self.name = input('Name: ')\n",
        "    self.age = input('Age: ')\n",
        "\n",
        "  def show(self):\n",
        "    print('My name is {}, and my age is {}.'.format(self.name, self.age))"
      ],
      "execution_count": 13,
      "outputs": []
    },
    {
      "cell_type": "code",
      "metadata": {
        "colab": {
          "base_uri": "https://localhost:8080/"
        },
        "id": "YT_lmTI3SDT9",
        "outputId": "0afd7a81-795a-4c60-bccf-4f4a5d429a26"
      },
      "source": [
        "a = JSS() # self = a"
      ],
      "execution_count": 14,
      "outputs": [
        {
          "output_type": "stream",
          "text": [
            "Name: Leena\n",
            "Age: 26\n"
          ],
          "name": "stdout"
        }
      ]
    },
    {
      "cell_type": "code",
      "metadata": {
        "colab": {
          "base_uri": "https://localhost:8080/"
        },
        "id": "I1VHswiFSss_",
        "outputId": "3b75d249-6d3e-4027-fbf0-8445f0956fbf"
      },
      "source": [
        "a.show()"
      ],
      "execution_count": 15,
      "outputs": [
        {
          "output_type": "stream",
          "text": [
            "My name is Leena, and my age is 26.\n"
          ],
          "name": "stdout"
        }
      ]
    },
    {
      "cell_type": "markdown",
      "metadata": {
        "id": "REyLPPqKTDAv"
      },
      "source": [
        "### 3) Class 상속\n",
        "-  "
      ]
    },
    {
      "cell_type": "code",
      "metadata": {
        "id": "dm2pMYn0Su77"
      },
      "source": [
        "class JSS:\n",
        "  def __init__(self):  #클래스를 선언하는 순간 실행되는 함수\n",
        "    self.name = input('Name: ')\n",
        "    self.age = input('Age: ')\n",
        "\n",
        "  def show(self):\n",
        "    print('My name is {}, and my age is {}.'.format(self.name, self.age))"
      ],
      "execution_count": null,
      "outputs": []
    },
    {
      "cell_type": "code",
      "metadata": {
        "id": "7Wz_yR6PTIZb"
      },
      "source": [
        "class JSS2(JSS): #괄호 안에 상속 받는 Class를 넣어주면 기존 값들은 살릴 수 있다!\n",
        "  def __init__(self):  #클래스를 선언하는 순간 실행되는 함수\n",
        "    super().__init__() # super: 기존 클래스의 __init__ 내용을 들고 오는 기능\n",
        "    self.gender = input('Sex: ')\n",
        "\n",
        "  def show(self):\n",
        "    print('My name is {}, and my age is {}. I am a {}.'.format(self.name, self.age, self.gender))"
      ],
      "execution_count": 20,
      "outputs": []
    },
    {
      "cell_type": "code",
      "metadata": {
        "colab": {
          "base_uri": "https://localhost:8080/"
        },
        "id": "aoLMlsMWTifs",
        "outputId": "c4c5fb0f-71ad-4e1c-f2b8-3e330bb34f7b"
      },
      "source": [
        "b = JSS2()"
      ],
      "execution_count": 23,
      "outputs": [
        {
          "output_type": "stream",
          "text": [
            "Name: Leena\n",
            "Age: 26\n",
            "Sex: woman\n"
          ],
          "name": "stdout"
        }
      ]
    },
    {
      "cell_type": "code",
      "metadata": {
        "colab": {
          "base_uri": "https://localhost:8080/"
        },
        "id": "6haL260-UIma",
        "outputId": "a3af37f5-f5a6-42ee-88f0-529e5c509019"
      },
      "source": [
        "b.show()"
      ],
      "execution_count": 24,
      "outputs": [
        {
          "output_type": "stream",
          "text": [
            "My name is Leena, and my age is 26. I am a woman.\n"
          ],
          "name": "stdout"
        }
      ]
    }
  ]
}