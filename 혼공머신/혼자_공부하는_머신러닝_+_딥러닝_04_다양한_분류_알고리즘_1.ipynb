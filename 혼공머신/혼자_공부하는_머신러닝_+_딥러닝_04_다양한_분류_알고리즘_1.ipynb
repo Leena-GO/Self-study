{
  "nbformat": 4,
  "nbformat_minor": 0,
  "metadata": {
    "colab": {
      "name": "혼자_공부하는_머신러닝_+_딥러닝_04_다양한_분류_알고리즘-1.ipynb",
      "provenance": [],
      "collapsed_sections": [],
      "mount_file_id": "1_FUWB1CtCgMiqZfCqV4wCxzPAf0mn7Z-",
      "authorship_tag": "ABX9TyNo3na+lpBNAPJN7hpOrh9s",
      "include_colab_link": true
    },
    "kernelspec": {
      "name": "python3",
      "display_name": "Python 3"
    },
    "language_info": {
      "name": "python"
    }
  },
  "cells": [
    {
      "cell_type": "markdown",
      "metadata": {
        "id": "view-in-github",
        "colab_type": "text"
      },
      "source": [
        "<a href=\"https://colab.research.google.com/github/Leena-GO/Self-study/blob/main/%ED%98%BC%EA%B3%B5%EB%A8%B8%EC%8B%A0/%ED%98%BC%EC%9E%90_%EA%B3%B5%EB%B6%80%ED%95%98%EB%8A%94_%EB%A8%B8%EC%8B%A0%EB%9F%AC%EB%8B%9D_%2B_%EB%94%A5%EB%9F%AC%EB%8B%9D_04_%EB%8B%A4%EC%96%91%ED%95%9C_%EB%B6%84%EB%A5%98_%EC%95%8C%EA%B3%A0%EB%A6%AC%EC%A6%98_1.ipynb\" target=\"_parent\"><img src=\"https://colab.research.google.com/assets/colab-badge.svg\" alt=\"Open In Colab\"/></a>"
      ]
    },
    {
      "cell_type": "markdown",
      "metadata": {
        "id": "mEKTOg6xLFia"
      },
      "source": [
        "# 04-1 로지스틱 회귀"
      ]
    },
    {
      "cell_type": "markdown",
      "metadata": {
        "id": "syNEa9jgLKcx"
      },
      "source": [
        "## 1. 럭키백의 확률"
      ]
    },
    {
      "cell_type": "code",
      "metadata": {
        "id": "owp2vnhBMPhC",
        "colab": {
          "base_uri": "https://localhost:8080/",
          "height": 204
        },
        "outputId": "5ee994fb-63a5-4ac6-c558-54ed88ff5b1d"
      },
      "source": [
        "import pandas as pd\n",
        "\n",
        "fish = pd.read_csv('https://bit.ly/fish_csv')\n",
        "fish.head()"
      ],
      "execution_count": 43,
      "outputs": [
        {
          "output_type": "execute_result",
          "data": {
            "text/html": [
              "<div>\n",
              "<style scoped>\n",
              "    .dataframe tbody tr th:only-of-type {\n",
              "        vertical-align: middle;\n",
              "    }\n",
              "\n",
              "    .dataframe tbody tr th {\n",
              "        vertical-align: top;\n",
              "    }\n",
              "\n",
              "    .dataframe thead th {\n",
              "        text-align: right;\n",
              "    }\n",
              "</style>\n",
              "<table border=\"1\" class=\"dataframe\">\n",
              "  <thead>\n",
              "    <tr style=\"text-align: right;\">\n",
              "      <th></th>\n",
              "      <th>Species</th>\n",
              "      <th>Weight</th>\n",
              "      <th>Length</th>\n",
              "      <th>Diagonal</th>\n",
              "      <th>Height</th>\n",
              "      <th>Width</th>\n",
              "    </tr>\n",
              "  </thead>\n",
              "  <tbody>\n",
              "    <tr>\n",
              "      <th>0</th>\n",
              "      <td>Bream</td>\n",
              "      <td>242.0</td>\n",
              "      <td>25.4</td>\n",
              "      <td>30.0</td>\n",
              "      <td>11.5200</td>\n",
              "      <td>4.0200</td>\n",
              "    </tr>\n",
              "    <tr>\n",
              "      <th>1</th>\n",
              "      <td>Bream</td>\n",
              "      <td>290.0</td>\n",
              "      <td>26.3</td>\n",
              "      <td>31.2</td>\n",
              "      <td>12.4800</td>\n",
              "      <td>4.3056</td>\n",
              "    </tr>\n",
              "    <tr>\n",
              "      <th>2</th>\n",
              "      <td>Bream</td>\n",
              "      <td>340.0</td>\n",
              "      <td>26.5</td>\n",
              "      <td>31.1</td>\n",
              "      <td>12.3778</td>\n",
              "      <td>4.6961</td>\n",
              "    </tr>\n",
              "    <tr>\n",
              "      <th>3</th>\n",
              "      <td>Bream</td>\n",
              "      <td>363.0</td>\n",
              "      <td>29.0</td>\n",
              "      <td>33.5</td>\n",
              "      <td>12.7300</td>\n",
              "      <td>4.4555</td>\n",
              "    </tr>\n",
              "    <tr>\n",
              "      <th>4</th>\n",
              "      <td>Bream</td>\n",
              "      <td>430.0</td>\n",
              "      <td>29.0</td>\n",
              "      <td>34.0</td>\n",
              "      <td>12.4440</td>\n",
              "      <td>5.1340</td>\n",
              "    </tr>\n",
              "  </tbody>\n",
              "</table>\n",
              "</div>"
            ],
            "text/plain": [
              "  Species  Weight  Length  Diagonal   Height   Width\n",
              "0   Bream   242.0    25.4      30.0  11.5200  4.0200\n",
              "1   Bream   290.0    26.3      31.2  12.4800  4.3056\n",
              "2   Bream   340.0    26.5      31.1  12.3778  4.6961\n",
              "3   Bream   363.0    29.0      33.5  12.7300  4.4555\n",
              "4   Bream   430.0    29.0      34.0  12.4440  5.1340"
            ]
          },
          "metadata": {
            "tags": []
          },
          "execution_count": 43
        }
      ]
    },
    {
      "cell_type": "code",
      "metadata": {
        "colab": {
          "base_uri": "https://localhost:8080/"
        },
        "id": "3sNgKzhuMPfD",
        "outputId": "0d690099-d3a5-4558-b290-ac06adc8bdd8"
      },
      "source": [
        "#생선 종류 유니크값 확인\n",
        "fish['Species'].unique()"
      ],
      "execution_count": 44,
      "outputs": [
        {
          "output_type": "execute_result",
          "data": {
            "text/plain": [
              "array(['Bream', 'Roach', 'Whitefish', 'Parkki', 'Perch', 'Pike', 'Smelt'],\n",
              "      dtype=object)"
            ]
          },
          "metadata": {
            "tags": []
          },
          "execution_count": 44
        }
      ]
    },
    {
      "cell_type": "code",
      "metadata": {
        "id": "IhTYZI6BMPc5",
        "colab": {
          "base_uri": "https://localhost:8080/"
        },
        "outputId": "beff1ac1-d690-47cb-ef4c-97aff943f757"
      },
      "source": [
        "#Species 열을 타깃 데이터로 만들고, 나머지 열은 입력 데이터로 사용\n",
        "fish_input = fish[['Weight', 'Length', 'Diagonal', 'Height', 'Width']].to_numpy() #numpy 배열로 변경해준다.\n",
        "fish_input[:5]"
      ],
      "execution_count": 45,
      "outputs": [
        {
          "output_type": "execute_result",
          "data": {
            "text/plain": [
              "array([[242.    ,  25.4   ,  30.    ,  11.52  ,   4.02  ],\n",
              "       [290.    ,  26.3   ,  31.2   ,  12.48  ,   4.3056],\n",
              "       [340.    ,  26.5   ,  31.1   ,  12.3778,   4.6961],\n",
              "       [363.    ,  29.    ,  33.5   ,  12.73  ,   4.4555],\n",
              "       [430.    ,  29.    ,  34.    ,  12.444 ,   5.134 ]])"
            ]
          },
          "metadata": {
            "tags": []
          },
          "execution_count": 45
        }
      ]
    },
    {
      "cell_type": "code",
      "metadata": {
        "id": "NJvSWshvOtf4"
      },
      "source": [
        "#타깃 데이터 만들기\n",
        "fish_target = fish['Species'].to_numpy()"
      ],
      "execution_count": 46,
      "outputs": []
    },
    {
      "cell_type": "code",
      "metadata": {
        "colab": {
          "base_uri": "https://localhost:8080/"
        },
        "id": "HiaJjGwFbzAE",
        "outputId": "b8a65d00-54b3-4666-9a06-21fc37faf185"
      },
      "source": [
        "fish_target"
      ],
      "execution_count": 47,
      "outputs": [
        {
          "output_type": "execute_result",
          "data": {
            "text/plain": [
              "array(['Bream', 'Bream', 'Bream', 'Bream', 'Bream', 'Bream', 'Bream',\n",
              "       'Bream', 'Bream', 'Bream', 'Bream', 'Bream', 'Bream', 'Bream',\n",
              "       'Bream', 'Bream', 'Bream', 'Bream', 'Bream', 'Bream', 'Bream',\n",
              "       'Bream', 'Bream', 'Bream', 'Bream', 'Bream', 'Bream', 'Bream',\n",
              "       'Bream', 'Bream', 'Bream', 'Bream', 'Bream', 'Bream', 'Bream',\n",
              "       'Roach', 'Roach', 'Roach', 'Roach', 'Roach', 'Roach', 'Roach',\n",
              "       'Roach', 'Roach', 'Roach', 'Roach', 'Roach', 'Roach', 'Roach',\n",
              "       'Roach', 'Roach', 'Roach', 'Roach', 'Roach', 'Roach', 'Whitefish',\n",
              "       'Whitefish', 'Whitefish', 'Whitefish', 'Whitefish', 'Whitefish',\n",
              "       'Parkki', 'Parkki', 'Parkki', 'Parkki', 'Parkki', 'Parkki',\n",
              "       'Parkki', 'Parkki', 'Parkki', 'Parkki', 'Parkki', 'Perch', 'Perch',\n",
              "       'Perch', 'Perch', 'Perch', 'Perch', 'Perch', 'Perch', 'Perch',\n",
              "       'Perch', 'Perch', 'Perch', 'Perch', 'Perch', 'Perch', 'Perch',\n",
              "       'Perch', 'Perch', 'Perch', 'Perch', 'Perch', 'Perch', 'Perch',\n",
              "       'Perch', 'Perch', 'Perch', 'Perch', 'Perch', 'Perch', 'Perch',\n",
              "       'Perch', 'Perch', 'Perch', 'Perch', 'Perch', 'Perch', 'Perch',\n",
              "       'Perch', 'Perch', 'Perch', 'Perch', 'Perch', 'Perch', 'Perch',\n",
              "       'Perch', 'Perch', 'Perch', 'Perch', 'Perch', 'Perch', 'Perch',\n",
              "       'Perch', 'Perch', 'Perch', 'Perch', 'Perch', 'Pike', 'Pike',\n",
              "       'Pike', 'Pike', 'Pike', 'Pike', 'Pike', 'Pike', 'Pike', 'Pike',\n",
              "       'Pike', 'Pike', 'Pike', 'Pike', 'Pike', 'Pike', 'Pike', 'Smelt',\n",
              "       'Smelt', 'Smelt', 'Smelt', 'Smelt', 'Smelt', 'Smelt', 'Smelt',\n",
              "       'Smelt', 'Smelt', 'Smelt', 'Smelt', 'Smelt', 'Smelt'], dtype=object)"
            ]
          },
          "metadata": {
            "tags": []
          },
          "execution_count": 47
        }
      ]
    },
    {
      "cell_type": "code",
      "metadata": {
        "id": "ZY22OmSiMqy0"
      },
      "source": [
        "#train set과 test set 만들기\n",
        "from sklearn.model_selection import train_test_split\n",
        "\n",
        "train_input, test_input, train_target, test_target = train_test_split(fish_input, fish_target, random_state = 42)"
      ],
      "execution_count": 48,
      "outputs": []
    },
    {
      "cell_type": "code",
      "metadata": {
        "id": "lzl02np-MPau"
      },
      "source": [
        "# 훈련 세트와 테스트 세트를 표준화 전처리 해주기\n",
        "from sklearn.preprocessing import StandardScaler\n",
        "\n",
        "ss = StandardScaler()\n",
        "ss.fit(train_input) #훈련 세트의 통계 값으로 테스트 세트 변환 필요\n",
        "\n",
        "train_scaled = ss.transform(train_input)\n",
        "test_scaled = ss.transform(test_input)"
      ],
      "execution_count": 49,
      "outputs": []
    },
    {
      "cell_type": "markdown",
      "metadata": {
        "id": "KoZ6Zx0DOJhL"
      },
      "source": [
        "- 필요 데이터가 모두 정리되었으니,  k-최근접 이웃 분류기로 테스트 세트에 들어있는 확률을 예측해본다."
      ]
    },
    {
      "cell_type": "code",
      "metadata": {
        "id": "aTeXi93jMPYc",
        "colab": {
          "base_uri": "https://localhost:8080/"
        },
        "outputId": "4c8635eb-76b5-4ccd-c3c2-bac9cd472100"
      },
      "source": [
        "from sklearn.neighbors import KNeighborsClassifier\n",
        "\n",
        "kn = KNeighborsClassifier(n_neighbors = 3) #기본값은 5\n",
        "kn.fit(train_scaled, train_target) #train data로 한번 학습시키기\n",
        "print(kn.score(train_scaled, train_target))\n",
        "print(kn.score(test_scaled, test_target))"
      ],
      "execution_count": 50,
      "outputs": [
        {
          "output_type": "stream",
          "text": [
            "0.8907563025210085\n",
            "0.85\n"
          ],
          "name": "stdout"
        }
      ]
    },
    {
      "cell_type": "markdown",
      "metadata": {
        "id": "gb9U0qRb60DQ"
      },
      "source": [
        "- 앞서 보았던 fish['Species']에는 7가지 종류의 생선이 있었는데, 훈련 세트와 테스트 세트에도 7개의 생선 종류가 들어가 있다.\n",
        "- 이렇게 타깃 데이터에 2개 이상의 클래스가 포함된 문제를 **다중 분류**(Multiclass classification)이라고 한다.\n",
        "\n",
        "- 2장에서 만들었던 이진 분류는, 양성 클래스와 음성 클래스를 1과 0으로 구성해야 했는데, 사이킷런은 문자열로 된 타깃값을 그대로 사용할 수 있다.\n",
        "  - 주의: 타깃값을 그대로 사이킷런 모델에 전달하면, 순서가 **자동으로 알파벳 순**이 된다.\n",
        "  - KNeighborsClassifier에 정렬된 타깃값은 **classes_** 속성에 있다."
      ]
    },
    {
      "cell_type": "code",
      "metadata": {
        "id": "YaCRdPEWMPWB",
        "colab": {
          "base_uri": "https://localhost:8080/"
        },
        "outputId": "b40f3d4d-050f-4e4b-e89f-47f7dfb58798"
      },
      "source": [
        "kn.classes_"
      ],
      "execution_count": 51,
      "outputs": [
        {
          "output_type": "execute_result",
          "data": {
            "text/plain": [
              "array(['Bream', 'Parkki', 'Perch', 'Pike', 'Roach', 'Smelt', 'Whitefish'],\n",
              "      dtype=object)"
            ]
          },
          "metadata": {
            "tags": []
          },
          "execution_count": 51
        }
      ]
    },
    {
      "cell_type": "code",
      "metadata": {
        "id": "rSmAqxLDMPTL",
        "colab": {
          "base_uri": "https://localhost:8080/"
        },
        "outputId": "578b72b6-0b4e-4270-9882-0b558910bc45"
      },
      "source": [
        "#predict() 메서드는 타깃값으로 예측을 출력한다\n",
        "kn.predict(test_scaled[:5]) #테스트 세트에 있는 처음 5개 샘플의 타깃값 예측"
      ],
      "execution_count": 52,
      "outputs": [
        {
          "output_type": "execute_result",
          "data": {
            "text/plain": [
              "array(['Perch', 'Smelt', 'Pike', 'Perch', 'Perch'], dtype=object)"
            ]
          },
          "metadata": {
            "tags": []
          },
          "execution_count": 52
        }
      ]
    },
    {
      "cell_type": "code",
      "metadata": {
        "colab": {
          "base_uri": "https://localhost:8080/"
        },
        "id": "qbrrtOkZcsfh",
        "outputId": "105fdc69-4ba8-417d-9a9a-bcefa1b2ea31"
      },
      "source": [
        "#예측하고자 했던 input값, predict를 통해 target값을 보여준다!\n",
        "test_scaled[:5]"
      ],
      "execution_count": 53,
      "outputs": [
        {
          "output_type": "execute_result",
          "data": {
            "text/plain": [
              "array([[-0.88741352, -0.91804565, -1.03098914, -0.90464451, -0.80762518],\n",
              "       [-1.06924656, -1.50842035, -1.54345461, -1.58849582, -1.93803151],\n",
              "       [-0.54401367,  0.35641402,  0.30663259, -0.8135697 , -0.65388895],\n",
              "       [-0.34698097, -0.23396068, -0.22320459, -0.11905019, -0.12233464],\n",
              "       [-0.68475132, -0.51509149, -0.58801052, -0.8998784 , -0.50124996]])"
            ]
          },
          "metadata": {
            "tags": []
          },
          "execution_count": 53
        }
      ]
    },
    {
      "cell_type": "markdown",
      "metadata": {
        "id": "XHPVoLmWFXPM"
      },
      "source": [
        "- 위 5개 샘플에 대한 예측은 어떤 확률로 만들어진걸까?\n",
        "\n",
        "- 사이킷런의 분류 모델은 **predict_proba()** 메서드로 **클래스별 확률값**을 반환한다.\n",
        "\n",
        "- numpy의 **round()함수**는 기본으로 소수점 첫째 자리에서 반올림을 하는데, **decimals** 매개변수로 유지할 소수점 아래 자릿수를 지정할 수 있다."
      ]
    },
    {
      "cell_type": "code",
      "metadata": {
        "id": "G1vpvY0fMPQ5",
        "colab": {
          "base_uri": "https://localhost:8080/"
        },
        "outputId": "3290e0be-7e1d-4310-c9d1-f916a9ac6636"
      },
      "source": [
        "import numpy as np\n",
        "\n",
        "proba = kn.predict_proba(test_scaled[:5])\n",
        "np.round(proba, decimals = 4)"
      ],
      "execution_count": 54,
      "outputs": [
        {
          "output_type": "execute_result",
          "data": {
            "text/plain": [
              "array([[0.    , 0.    , 1.    , 0.    , 0.    , 0.    , 0.    ],\n",
              "       [0.    , 0.    , 0.    , 0.    , 0.    , 1.    , 0.    ],\n",
              "       [0.    , 0.    , 0.    , 1.    , 0.    , 0.    , 0.    ],\n",
              "       [0.    , 0.    , 0.6667, 0.    , 0.3333, 0.    , 0.    ],\n",
              "       [0.    , 0.    , 0.6667, 0.    , 0.3333, 0.    , 0.    ]])"
            ]
          },
          "metadata": {
            "tags": []
          },
          "execution_count": 54
        }
      ]
    },
    {
      "cell_type": "markdown",
      "metadata": {
        "id": "5wLT7-pbF9Vj"
      },
      "source": [
        "- *predict_proba()* 메서드의 출력 순서는 *classes_* 속성과 같다. \n",
        "\n",
        "  - [Bream  , Parkki, Perch , Pike  , Roach , Smelt, Whitefish] 순\n",
        "\n",
        "\n",
        "---\n",
        "\n",
        "- 이 모델이 계산한 확률이 가장 가까운 이웃의 비율이 맞는지 확인해보자.\n",
        "  - 4번째 샘플의 최근접 이웃의 클래스를 확인"
      ]
    },
    {
      "cell_type": "code",
      "metadata": {
        "colab": {
          "base_uri": "https://localhost:8080/"
        },
        "id": "fCW9CmoKF2jX",
        "outputId": "2ccaa894-2126-48b7-d734-85b9255a83b3"
      },
      "source": [
        "distance, indexes = kn.kneighbors(test_scaled[3:4])\n",
        "train_target[indexes]"
      ],
      "execution_count": 55,
      "outputs": [
        {
          "output_type": "execute_result",
          "data": {
            "text/plain": [
              "array([['Roach', 'Perch', 'Perch']], dtype=object)"
            ]
          },
          "metadata": {
            "tags": []
          },
          "execution_count": 55
        }
      ]
    },
    {
      "cell_type": "markdown",
      "metadata": {
        "id": "ekFIv1JFfeKf"
      },
      "source": [
        "- [0.    , 0.    , *0.6667* , 0.    , *0.3333*, 0.    , 0.    ]\n",
        "  - 5번째 클래스인 'Roach'가 1개, 3번째 클래스인 'Perch'가 2개 나왔다.\n",
        "  - 그러므로 [Roach = 1/3 = 0.333], [Perch = 2/3 = 0.6667]이 맞게 된다!\n",
        "\n",
        "\n",
        "\n",
        "---\n",
        "\n",
        "- 위에서 *n_neighbors = 3*으로 지정했기 때문에, 가능한 확률은 0/3, 1/3, 2/3, 3/3뿐이다.\n",
        "- 더 좋은 방법은?!"
      ]
    },
    {
      "cell_type": "markdown",
      "metadata": {
        "id": "q7ww6iPbpbWz"
      },
      "source": [
        "## 2. 로지스틱 회귀(Logistic Regression)\n",
        "- 로지스틱 회귀는, 이름이 회귀이지만 분류 모델이다.\n",
        "\n",
        "- 선형 회귀와 동일하게 선형 방정식을 학습한다.\n",
        "\n",
        "  - z = [{a x (Weight)} + {b x (Length)} + {c x (Diagonal)} + {d x (Height)} + {e x (Width)} + f]\n",
        "\n",
        "    - z는 어떠한 값도 가능하다.\n",
        "\n",
        "    - 확률이 되려면 0 ~ 1 사이에 있어야 하므로, z가 아주 큰 음수일 경우 0, z가 아주 큰 양수일 때 1이 되도록 바꿔줘야 한다.\n",
        "\n",
        "    - 이를 할 수 있는 것이 **시그모이드 함수**(sigmoid function) 혹은 **로지스틱 함수**(logistic function) 이다."
      ]
    },
    {
      "cell_type": "markdown",
      "metadata": {
        "id": "oPrgy73OpmfR"
      },
      "source": [
        "![image.png](https://www.googleapis.com/download/storage/v1/b/kaggle-forum-message-attachments/o/inbox%2F5152157%2F366ce717ad74dfe967a940d9a2161f9b%2Fmain-qimg-6b67bea3311c3429bfb34b6b1737fe0c.jpg?generation=1605711218576073&alt=media)"
      ]
    },
    {
      "cell_type": "code",
      "metadata": {
        "id": "I0jQS50ofdLW",
        "colab": {
          "base_uri": "https://localhost:8080/",
          "height": 265
        },
        "outputId": "a539a303-fa2a-4c85-9049-796963bcb25e"
      },
      "source": [
        "#numpy를 이용하여 시그모이드 그래프 그리기\n",
        "import matplotlib.pyplot as plt\n",
        "\n",
        "z = np.arange(-5, 5, 0.1)\n",
        "phi = 1/(1+np.exp(-z))\n",
        "plt.plot([-5, 5], [1,1], 'r--')\n",
        "plt.plot([-5, 5], [0,0], 'r--')\n",
        "\n",
        "plt.plot(z, phi)\n",
        "plt.show()"
      ],
      "execution_count": 56,
      "outputs": [
        {
          "output_type": "display_data",
          "data": {
            "image/png": "[encoded data removed]",
            "text/plain": [
              "<Figure size 432x288 with 1 Axes>"
            ]
          },
          "metadata": {
            "tags": [],
            "needs_background": "light"
          }
        }
      ]
    },
    {
      "cell_type": "markdown",
      "metadata": {
        "id": "HH8w3WIzyJgm"
      },
      "source": [
        "- 훈련 전, 도미와 빙어 데이터로 이진 분류를 먼저 해보자."
      ]
    },
    {
      "cell_type": "code",
      "metadata": {
        "id": "WF0XkysAGaoY",
        "colab": {
          "base_uri": "https://localhost:8080/"
        },
        "outputId": "d98ce6d7-8caf-4ec9-9d72-50d54d16ae37"
      },
      "source": [
        "chart = np.array(['A','B','C','D','E'])\n",
        "chart[[True, True, False, True, False]] #True인 값만 전달"
      ],
      "execution_count": 57,
      "outputs": [
        {
          "output_type": "execute_result",
          "data": {
            "text/plain": [
              "array(['A', 'B', 'D'], dtype='<U1')"
            ]
          },
          "metadata": {
            "tags": []
          },
          "execution_count": 57
        }
      ]
    },
    {
      "cell_type": "code",
      "metadata": {
        "id": "buFkU_JP2GWi"
      },
      "source": [
        "bream_smelt_indexes = (train_target == 'Bream') | (train_target == 'Smelt')\n",
        "train_bream_smelt = train_scaled[bream_smelt_indexes]\n",
        "target_bream_smelt = train_target[bream_smelt_indexes]"
      ],
      "execution_count": 58,
      "outputs": []
    },
    {
      "cell_type": "code",
      "metadata": {
        "colab": {
          "base_uri": "https://localhost:8080/"
        },
        "id": "48bhjZnV3ARw",
        "outputId": "80949443-f708-4f3e-c94d-a7d563501370"
      },
      "source": [
        "train_bream_smelt"
      ],
      "execution_count": 59,
      "outputs": [
        {
          "output_type": "execute_result",
          "data": {
            "text/plain": [
              "array([[ 0.91965782,  0.60943175,  0.81041221,  1.85194896,  1.00075672],\n",
              "       [-1.0858536 , -1.68646987, -1.70848587, -1.70159849, -2.0044758 ],\n",
              "       [ 0.63818253,  0.56257661,  0.73223951,  1.64473401,  0.50705737],\n",
              "       [ 0.30041219,  0.23459067,  0.42823457,  1.36042157,  0.22329758],\n",
              "       [ 0.9027693 ,  0.70314202,  0.88858491,  1.89027545,  0.85537174],\n",
              "       [-1.0824759 , -1.61150165, -1.62162731, -1.7000674 , -1.92815631],\n",
              "       [ 0.10337949,  0.04717013,  0.23714575,  0.88445197,  0.41799764],\n",
              "       [ 1.49668216,  1.03112796,  1.21864741,  2.44274986,  1.40289707],\n",
              "       [ 0.23004337,  0.23459067,  0.42823457,  1.3336029 ,  0.39983213],\n",
              "       [-0.42579405, -0.29018684, -0.11028847,  0.65627104, -0.26107519],\n",
              "       [ 1.28557569,  0.70314202,  0.89727076,  1.98228866,  1.06683526],\n",
              "       [ 0.93373158,  0.60943175,  0.83646978,  1.85150445,  0.97832415],\n",
              "       [ 0.80706771,  0.60943175,  0.81041221,  1.63137406,  1.0255057 ],\n",
              "       [-1.07262426, -1.52716241, -1.55214047, -1.67235972, -1.86207776],\n",
              "       [ 1.6374198 ,  1.17169337,  1.27076255,  2.41341232,  1.40143407],\n",
              "       [-1.07966115, -1.63961473, -1.67374245, -1.6462819 , -1.87036806],\n",
              "       [-1.05151362, -1.33037084, -1.39579507, -1.47914678, -1.45146425],\n",
              "       [ 0.15967454,  0.11276732,  0.29794674,  1.17051775,  0.29205828],\n",
              "       [ 1.56705098,  1.17169337,  1.32287768,  2.16352457,  1.17174409],\n",
              "       [-0.00921063,  0.1408804 ,  0.3240043 ,  0.94026245,  0.14734384],\n",
              "       [ 0.15967454,  0.1408804 ,  0.33269016,  1.26991474,  0.24109734],\n",
              "       [-0.14994827,  0.32830094,  0.52377898,  1.24719543,  0.3806913 ],\n",
              "       [-0.08520896,  0.04717013,  0.19371647,  0.95507939,  0.00439718],\n",
              "       [ 0.86336276,  0.42201121,  0.62800925,  1.5003429 ,  0.45670601],\n",
              "       [ 0.30041219,  0.11276732,  0.28057503,  1.31303204,  0.50608204],\n",
              "       [-1.07262426, -1.45219419, -1.51739705, -1.62627903, -1.94607798],\n",
              "       [ 0.82114147,  0.51572148,  0.68881023,  1.76102232,  0.5621025 ],\n",
              "       [-1.07937967, -1.54590446, -1.56951218, -1.64420753, -2.01154694],\n",
              "       [-1.07937967, -1.62087268, -1.63899902, -1.67413775, -1.93303295],\n",
              "       [-0.29068592, -0.2058476 , -0.0060582 ,  0.89334213, -0.08697896],\n",
              "       [-1.05095067, -1.26477365, -1.30893652, -1.46447801, -1.56606541],\n",
              "       [ 0.51151865,  0.51572148,  0.7148678 ,  1.54738669,  0.68347   ],\n",
              "       [ 0.58188748,  0.32830094,  0.51509312,  1.50439286,  0.4404302 ]])"
            ]
          },
          "metadata": {
            "tags": []
          },
          "execution_count": 59
        }
      ]
    },
    {
      "cell_type": "code",
      "metadata": {
        "colab": {
          "base_uri": "https://localhost:8080/"
        },
        "id": "mDFoSqvk3FxP",
        "outputId": "ff31f56a-2719-4308-d18e-742614d92b01"
      },
      "source": [
        "target_bream_smelt"
      ],
      "execution_count": 60,
      "outputs": [
        {
          "output_type": "execute_result",
          "data": {
            "text/plain": [
              "array(['Bream', 'Smelt', 'Bream', 'Bream', 'Bream', 'Smelt', 'Bream',\n",
              "       'Bream', 'Bream', 'Bream', 'Bream', 'Bream', 'Bream', 'Smelt',\n",
              "       'Bream', 'Smelt', 'Smelt', 'Bream', 'Bream', 'Bream', 'Bream',\n",
              "       'Bream', 'Bream', 'Bream', 'Bream', 'Smelt', 'Bream', 'Smelt',\n",
              "       'Smelt', 'Bream', 'Smelt', 'Bream', 'Bream'], dtype=object)"
            ]
          },
          "metadata": {
            "tags": []
          },
          "execution_count": 60
        }
      ]
    },
    {
      "cell_type": "code",
      "metadata": {
        "colab": {
          "base_uri": "https://localhost:8080/"
        },
        "id": "c32yIOlf3HFn",
        "outputId": "d94d0e45-c678-4527-cfd4-bf2c90c06bbf"
      },
      "source": [
        "from sklearn.linear_model import LogisticRegression\n",
        "\n",
        "lr = LogisticRegression()\n",
        "lr.fit(train_bream_smelt, target_bream_smelt)"
      ],
      "execution_count": 61,
      "outputs": [
        {
          "output_type": "execute_result",
          "data": {
            "text/plain": [
              "LogisticRegression(C=1.0, class_weight=None, dual=False, fit_intercept=True,\n",
              "                   intercept_scaling=1, l1_ratio=None, max_iter=100,\n",
              "                   multi_class='auto', n_jobs=None, penalty='l2',\n",
              "                   random_state=None, solver='lbfgs', tol=0.0001, verbose=0,\n",
              "                   warm_start=False)"
            ]
          },
          "metadata": {
            "tags": []
          },
          "execution_count": 61
        }
      ]
    },
    {
      "cell_type": "code",
      "metadata": {
        "colab": {
          "base_uri": "https://localhost:8080/"
        },
        "id": "bDjFXRnT4JF0",
        "outputId": "37902c00-81ea-4e90-b69f-037a3bdabecc"
      },
      "source": [
        "#훈련 모델을 사용하여 train_bream_smelt에 있는 처음 5개 샘플 예측\n",
        "\n",
        "lr.predict(train_bream_smelt[:5])"
      ],
      "execution_count": 62,
      "outputs": [
        {
          "output_type": "execute_result",
          "data": {
            "text/plain": [
              "array(['Bream', 'Smelt', 'Bream', 'Bream', 'Bream'], dtype=object)"
            ]
          },
          "metadata": {
            "tags": []
          },
          "execution_count": 62
        }
      ]
    },
    {
      "cell_type": "code",
      "metadata": {
        "colab": {
          "base_uri": "https://localhost:8080/"
        },
        "id": "MRqMUKuJ4Ylf",
        "outputId": "f0e75e59-dee1-484b-b3d9-ff8d1850671c"
      },
      "source": [
        "print('음성       ' + '  /  ' + '    양성')\n",
        "print(lr.predict_proba(train_bream_smelt[:5]))"
      ],
      "execution_count": 67,
      "outputs": [
        {
          "output_type": "stream",
          "text": [
            "음성         /      양성\n",
            "[[0.99759855 0.00240145]\n",
            " [0.02735183 0.97264817]\n",
            " [0.99486072 0.00513928]\n",
            " [0.98584202 0.01415798]\n",
            " [0.99767269 0.00232731]]\n"
          ],
          "name": "stdout"
        }
      ]
    },
    {
      "cell_type": "markdown",
      "metadata": {
        "id": "ISyr9wv_6KiX"
      },
      "source": [
        "- 첫 번째 열이 음성 클래스(0)에 대한 확률, 두 번째 열이 양성 클래스(1)에 대한 확률이다.\n",
        "- 과연 어떤 것이 양성 클래스인지는 **classes_**를 사용하면 알 수 있다."
      ]
    },
    {
      "cell_type": "code",
      "metadata": {
        "colab": {
          "base_uri": "https://localhost:8080/"
        },
        "id": "vkAd4N195ZXq",
        "outputId": "55301826-4118-4373-d6f9-804fbffe0a46"
      },
      "source": [
        "lr.classes_"
      ],
      "execution_count": 64,
      "outputs": [
        {
          "output_type": "execute_result",
          "data": {
            "text/plain": [
              "array(['Bream', 'Smelt'], dtype=object)"
            ]
          },
          "metadata": {
            "tags": []
          },
          "execution_count": 64
        }
      ]
    },
    {
      "cell_type": "markdown",
      "metadata": {
        "id": "eD35ejCyXxwX"
      },
      "source": [
        "- 음성 클래스는 도미(Bream), 양성 클래스는 빙어(Smelt)이다.\n",
        "\n",
        "\n",
        "---\n",
        "- 로지스틱 회귀가 학습한 계수를 알아보자.\n"
      ]
    },
    {
      "cell_type": "code",
      "metadata": {
        "colab": {
          "base_uri": "https://localhost:8080/"
        },
        "id": "Y2dMix8b6XVR",
        "outputId": "c4d71c43-0606-4cc6-c452-2da1fab4959f"
      },
      "source": [
        "print(lr.coef_, lr.intercept_)"
      ],
      "execution_count": 68,
      "outputs": [
        {
          "output_type": "stream",
          "text": [
            "[[-0.4037798  -0.57620209 -0.66280298 -1.01290277 -0.73168947]] [-2.16155132]\n"
          ],
          "name": "stdout"
        }
      ]
    },
    {
      "cell_type": "markdown",
      "metadata": {
        "id": "B9ojOF7In4ay"
      },
      "source": [
        "- 이 로지스틱 회귀 모델이 학습한 방정식은 다음과 같다.\n",
        "  - z = [{-0.404 x (Weight)} + {-0.576 x (Length)} + {-0.663 x (Diagonal)} + {-1.013 x (Height)} + {-0.731 x (Width)} + -2.161]\n",
        "\n",
        "- LogisticRegression 모델에서, **decision_function()**메서드로 z값을 계산할 수 있다."
      ]
    },
    {
      "cell_type": "code",
      "metadata": {
        "colab": {
          "base_uri": "https://localhost:8080/"
        },
        "id": "Q4GDytRZYXQX",
        "outputId": "cddc0d63-9f85-47e4-a516-896d2e5b988e"
      },
      "source": [
        "#처음 5개 샘플의 z값 출력\n",
        "decisions = lr.decision_function(train_bream_smelt[:5])\n",
        "decisions"
      ],
      "execution_count": 70,
      "outputs": [
        {
          "output_type": "execute_result",
          "data": {
            "text/plain": [
              "array([-6.02927744,  3.57123907, -5.26568906, -4.24321775, -6.0607117 ])"
            ]
          },
          "metadata": {
            "tags": []
          },
          "execution_count": 70
        }
      ]
    },
    {
      "cell_type": "markdown",
      "metadata": {
        "id": "s6_l7sbIysrQ"
      },
      "source": [
        "- 위에서 추출된 z값을 시그모이드 함수에 통과시키면 확률을 얻을 수 있다.\n",
        "  - 파이썬의 **scipy** 라이브러리에서 시그모이드 함수인 **expit()**을 사용하면 된다.\n",
        "  - np.exp()를 가지고 직접 계산하는 것보다 편리하다."
      ]
    },
    {
      "cell_type": "code",
      "metadata": {
        "colab": {
          "base_uri": "https://localhost:8080/"
        },
        "id": "c_qPMxl9yiE4",
        "outputId": "57658da7-6f4a-449e-e132-cb6024980834"
      },
      "source": [
        "from scipy.special import expit\n",
        "\n",
        "print('expit:' + str(expit(decisions)))\n",
        "print('\\n')\n",
        "print('predict_proba: ' +str(lr.predict_proba(train_bream_smelt[1:2])))"
      ],
      "execution_count": 75,
      "outputs": [
        {
          "output_type": "stream",
          "text": [
            "expit:[0.00240145 0.97264817 0.00513928 0.01415798 0.00232731]\n",
            "\n",
            "\n",
            "predict_proba: [[0.02735183 0.97264817]]\n"
          ],
          "name": "stdout"
        }
      ]
    },
    {
      "cell_type": "markdown",
      "metadata": {
        "id": "VAeZgEv20OvB"
      },
      "source": [
        "- 위에서 출력된 값을 보면, predict_proba() 메서드 출력의 두 번째 열의 값과 동일하다.\n",
        "- 이를 통해, decision_function() 메서드는 양성 클래스에 대한 z값을 반환하는 것을 알 수 있다.\n",
        "\n",
        "\n",
        "---\n",
        "\n",
        "- 정리 (*이진 분류*)\n",
        "  - 1) 이진 분류를 위해 2개의 생선 샘플을 골라냈고, 이를 이용하여 로지스틱 회귀 모델을 훈련했다.\n",
        "  - 2) 이진 분류의 경우, predict_proba() 메서드는 음성 클래스와 양성 클래스에 대한 확률을 출력한다.\n",
        "  - 3) decision_function() 메서드는 양성 클래스에 대한 z값을 계산한다.\n",
        "  - 4) 'coef_' 속성과 'intercept_' 속성에는 로지스틱 모델이 학습한 선형 방정식의 계수들이 존재한다.\n",
        "\n",
        "\n",
        "\n",
        "---\n",
        "\n",
        "- 이젠 다중 분류를 해보며 이진 분류와의 차이점을 살펴보자."
      ]
    },
    {
      "cell_type": "code",
      "metadata": {
        "colab": {
          "base_uri": "https://localhost:8080/"
        },
        "id": "eOmpuJEwzEqY",
        "outputId": "9c986b6d-4683-4c31-8b2e-43bbcd932d20"
      },
      "source": [
        "lr = LogisticRegression(C = 20, max_iter = 1000)\n",
        "\n",
        "#C: LogisticRegression에서 규제를 제어하는 매개변수, 작을수록 규제가 커진다.\n",
        "#max_iter: 반복 횟수 지정, default = 100, 준비한 데이터셋을 사용하여 모델을 훈련하면 반복 횟수가 부족하다는 경고가 뜬다.\n",
        "\n",
        "lr.fit(train_scaled, train_target)\n",
        "print(lr.score(train_scaled, train_target))\n",
        "print(lr.score(test_scaled, test_target))"
      ],
      "execution_count": 77,
      "outputs": [
        {
          "output_type": "stream",
          "text": [
            "0.9327731092436975\n",
            "0.925\n"
          ],
          "name": "stdout"
        }
      ]
    },
    {
      "cell_type": "code",
      "metadata": {
        "colab": {
          "base_uri": "https://localhost:8080/"
        },
        "id": "9IY3BZP-2MWB",
        "outputId": "c7736572-7c24-4f8e-e1b1-306ab7b1a0dc"
      },
      "source": [
        "#테스트 세트 예측을 출력해보자\n",
        "lr.predict(test_scaled)"
      ],
      "execution_count": 79,
      "outputs": [
        {
          "output_type": "execute_result",
          "data": {
            "text/plain": [
              "array(['Perch', 'Smelt', 'Pike', 'Roach', 'Perch', 'Bream', 'Smelt',\n",
              "       'Roach', 'Perch', 'Pike', 'Bream', 'Perch', 'Bream', 'Parkki',\n",
              "       'Bream', 'Bream', 'Perch', 'Perch', 'Perch', 'Bream', 'Smelt',\n",
              "       'Bream', 'Bream', 'Bream', 'Bream', 'Perch', 'Perch', 'Roach',\n",
              "       'Smelt', 'Smelt', 'Pike', 'Perch', 'Perch', 'Pike', 'Bream',\n",
              "       'Perch', 'Roach', 'Roach', 'Parkki', 'Perch'], dtype=object)"
            ]
          },
          "metadata": {
            "tags": []
          },
          "execution_count": 79
        }
      ]
    },
    {
      "cell_type": "code",
      "metadata": {
        "colab": {
          "base_uri": "https://localhost:8080/"
        },
        "id": "uov63k4v4mip",
        "outputId": "ffdefc35-9c8c-4b17-87fc-dfa345936c1e"
      },
      "source": [
        "proba = lr.predict_proba(test_scaled)\n",
        "np.round(proba, decimals = 3)"
      ],
      "execution_count": 80,
      "outputs": [
        {
          "output_type": "execute_result",
          "data": {
            "text/plain": [
              "array([[0.   , 0.014, 0.841, 0.   , 0.136, 0.007, 0.003],\n",
              "       [0.   , 0.003, 0.044, 0.   , 0.007, 0.946, 0.   ],\n",
              "       [0.   , 0.   , 0.034, 0.935, 0.015, 0.016, 0.   ],\n",
              "       [0.011, 0.034, 0.306, 0.007, 0.567, 0.   , 0.076],\n",
              "       [0.   , 0.   , 0.904, 0.002, 0.089, 0.002, 0.001],\n",
              "       [0.999, 0.   , 0.   , 0.   , 0.   , 0.   , 0.   ],\n",
              "       [0.   , 0.001, 0.05 , 0.   , 0.004, 0.945, 0.   ],\n",
              "       [0.001, 0.007, 0.32 , 0.015, 0.638, 0.001, 0.018],\n",
              "       [0.   , 0.002, 0.802, 0.002, 0.182, 0.   , 0.011],\n",
              "       [0.   , 0.   , 0.023, 0.977, 0.   , 0.   , 0.   ],\n",
              "       [0.984, 0.003, 0.   , 0.   , 0.001, 0.   , 0.013],\n",
              "       [0.047, 0.   , 0.816, 0.008, 0.002, 0.   , 0.127],\n",
              "       [0.992, 0.005, 0.   , 0.   , 0.   , 0.   , 0.003],\n",
              "       [0.007, 0.907, 0.002, 0.   , 0.075, 0.   , 0.009],\n",
              "       [0.999, 0.001, 0.   , 0.   , 0.   , 0.   , 0.   ],\n",
              "       [1.   , 0.   , 0.   , 0.   , 0.   , 0.   , 0.   ],\n",
              "       [0.001, 0.   , 0.935, 0.   , 0.   , 0.   , 0.063],\n",
              "       [0.001, 0.003, 0.784, 0.009, 0.19 , 0.   , 0.014],\n",
              "       [0.001, 0.035, 0.675, 0.004, 0.263, 0.001, 0.021],\n",
              "       [0.991, 0.005, 0.   , 0.   , 0.   , 0.   , 0.003],\n",
              "       [0.   , 0.002, 0.048, 0.   , 0.008, 0.942, 0.   ],\n",
              "       [0.997, 0.002, 0.   , 0.   , 0.   , 0.   , 0.   ],\n",
              "       [0.984, 0.015, 0.   , 0.   , 0.   , 0.   , 0.001],\n",
              "       [0.985, 0.012, 0.   , 0.   , 0.001, 0.   , 0.002],\n",
              "       [1.   , 0.   , 0.   , 0.   , 0.   , 0.   , 0.   ],\n",
              "       [0.001, 0.   , 0.971, 0.001, 0.   , 0.   , 0.027],\n",
              "       [0.   , 0.004, 0.793, 0.003, 0.192, 0.001, 0.006],\n",
              "       [0.007, 0.016, 0.35 , 0.011, 0.559, 0.   , 0.056],\n",
              "       [0.   , 0.002, 0.042, 0.   , 0.004, 0.953, 0.   ],\n",
              "       [0.   , 0.002, 0.027, 0.   , 0.005, 0.966, 0.   ],\n",
              "       [0.   , 0.   , 0.002, 0.998, 0.   , 0.   , 0.   ],\n",
              "       [0.   , 0.008, 0.836, 0.   , 0.139, 0.015, 0.001],\n",
              "       [0.   , 0.039, 0.722, 0.   , 0.192, 0.045, 0.002],\n",
              "       [0.   , 0.   , 0.001, 0.999, 0.   , 0.   , 0.   ],\n",
              "       [0.738, 0.2  , 0.   , 0.   , 0.026, 0.   , 0.037],\n",
              "       [0.   , 0.016, 0.623, 0.003, 0.345, 0.005, 0.007],\n",
              "       [0.001, 0.023, 0.247, 0.002, 0.703, 0.001, 0.024],\n",
              "       [0.   , 0.024, 0.267, 0.003, 0.69 , 0.007, 0.008],\n",
              "       [0.025, 0.945, 0.   , 0.   , 0.027, 0.   , 0.003],\n",
              "       [0.013, 0.   , 0.703, 0.   , 0.002, 0.   , 0.282]])"
            ]
          },
          "metadata": {
            "tags": []
          },
          "execution_count": 80
        }
      ]
    },
    {
      "cell_type": "code",
      "metadata": {
        "id": "wezuMwqQ4zoY"
      },
      "source": [
        ""
      ],
      "execution_count": null,
      "outputs": []
    }
  ]
}