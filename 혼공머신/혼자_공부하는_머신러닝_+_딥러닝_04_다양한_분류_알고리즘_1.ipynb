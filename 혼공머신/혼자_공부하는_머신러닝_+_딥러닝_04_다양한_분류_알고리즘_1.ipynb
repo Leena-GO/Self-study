{
  "nbformat": 4,
  "nbformat_minor": 0,
  "metadata": {
    "colab": {
      "name": "혼자_공부하는_머신러닝_+_딥러닝_04_다양한_분류_알고리즘-1.ipynb",
      "provenance": [],
      "collapsed_sections": [],
      "mount_file_id": "1_FUWB1CtCgMiqZfCqV4wCxzPAf0mn7Z-",
      "authorship_tag": "ABX9TyMKa1JFI/cu0JtT8BGy841i",
      "include_colab_link": true
    },
    "kernelspec": {
      "name": "python3",
      "display_name": "Python 3"
    },
    "language_info": {
      "name": "python"
    }
  },
  "cells": [
    {
      "cell_type": "markdown",
      "metadata": {
        "id": "view-in-github",
        "colab_type": "text"
      },
      "source": [
        "<a href=\"https://colab.research.google.com/github/Leena-GO/Self-study/blob/main/%ED%98%BC%EA%B3%B5%EB%A8%B8%EC%8B%A0/%ED%98%BC%EC%9E%90_%EA%B3%B5%EB%B6%80%ED%95%98%EB%8A%94_%EB%A8%B8%EC%8B%A0%EB%9F%AC%EB%8B%9D_%2B_%EB%94%A5%EB%9F%AC%EB%8B%9D_04_%EB%8B%A4%EC%96%91%ED%95%9C_%EB%B6%84%EB%A5%98_%EC%95%8C%EA%B3%A0%EB%A6%AC%EC%A6%98_1.ipynb\" target=\"_parent\"><img src=\"https://colab.research.google.com/assets/colab-badge.svg\" alt=\"Open In Colab\"/></a>"
      ]
    },
    {
      "cell_type": "markdown",
      "metadata": {
        "id": "mEKTOg6xLFia"
      },
      "source": [
        "# 04-1 로지스틱 회귀"
      ]
    },
    {
      "cell_type": "markdown",
      "metadata": {
        "id": "syNEa9jgLKcx"
      },
      "source": [
        "## 1. 럭키백의 확률"
      ]
    },
    {
      "cell_type": "code",
      "metadata": {
        "id": "owp2vnhBMPhC",
        "colab": {
          "base_uri": "https://localhost:8080/",
          "height": 204
        },
        "outputId": "9d65a556-28a5-4f71-dae8-2ffbd3459717"
      },
      "source": [
        "import pandas as pd\n",
        "\n",
        "fish = pd.read_csv('https://bit.ly/fish_csv')\n",
        "fish.head()"
      ],
      "execution_count": 1,
      "outputs": [
        {
          "output_type": "execute_result",
          "data": {
            "text/html": [
              "<div>\n",
              "<style scoped>\n",
              "    .dataframe tbody tr th:only-of-type {\n",
              "        vertical-align: middle;\n",
              "    }\n",
              "\n",
              "    .dataframe tbody tr th {\n",
              "        vertical-align: top;\n",
              "    }\n",
              "\n",
              "    .dataframe thead th {\n",
              "        text-align: right;\n",
              "    }\n",
              "</style>\n",
              "<table border=\"1\" class=\"dataframe\">\n",
              "  <thead>\n",
              "    <tr style=\"text-align: right;\">\n",
              "      <th></th>\n",
              "      <th>Species</th>\n",
              "      <th>Weight</th>\n",
              "      <th>Length</th>\n",
              "      <th>Diagonal</th>\n",
              "      <th>Height</th>\n",
              "      <th>Width</th>\n",
              "    </tr>\n",
              "  </thead>\n",
              "  <tbody>\n",
              "    <tr>\n",
              "      <th>0</th>\n",
              "      <td>Bream</td>\n",
              "      <td>242.0</td>\n",
              "      <td>25.4</td>\n",
              "      <td>30.0</td>\n",
              "      <td>11.5200</td>\n",
              "      <td>4.0200</td>\n",
              "    </tr>\n",
              "    <tr>\n",
              "      <th>1</th>\n",
              "      <td>Bream</td>\n",
              "      <td>290.0</td>\n",
              "      <td>26.3</td>\n",
              "      <td>31.2</td>\n",
              "      <td>12.4800</td>\n",
              "      <td>4.3056</td>\n",
              "    </tr>\n",
              "    <tr>\n",
              "      <th>2</th>\n",
              "      <td>Bream</td>\n",
              "      <td>340.0</td>\n",
              "      <td>26.5</td>\n",
              "      <td>31.1</td>\n",
              "      <td>12.3778</td>\n",
              "      <td>4.6961</td>\n",
              "    </tr>\n",
              "    <tr>\n",
              "      <th>3</th>\n",
              "      <td>Bream</td>\n",
              "      <td>363.0</td>\n",
              "      <td>29.0</td>\n",
              "      <td>33.5</td>\n",
              "      <td>12.7300</td>\n",
              "      <td>4.4555</td>\n",
              "    </tr>\n",
              "    <tr>\n",
              "      <th>4</th>\n",
              "      <td>Bream</td>\n",
              "      <td>430.0</td>\n",
              "      <td>29.0</td>\n",
              "      <td>34.0</td>\n",
              "      <td>12.4440</td>\n",
              "      <td>5.1340</td>\n",
              "    </tr>\n",
              "  </tbody>\n",
              "</table>\n",
              "</div>"
            ],
            "text/plain": [
              "  Species  Weight  Length  Diagonal   Height   Width\n",
              "0   Bream   242.0    25.4      30.0  11.5200  4.0200\n",
              "1   Bream   290.0    26.3      31.2  12.4800  4.3056\n",
              "2   Bream   340.0    26.5      31.1  12.3778  4.6961\n",
              "3   Bream   363.0    29.0      33.5  12.7300  4.4555\n",
              "4   Bream   430.0    29.0      34.0  12.4440  5.1340"
            ]
          },
          "metadata": {
            "tags": []
          },
          "execution_count": 1
        }
      ]
    },
    {
      "cell_type": "code",
      "metadata": {
        "colab": {
          "base_uri": "https://localhost:8080/"
        },
        "id": "3sNgKzhuMPfD",
        "outputId": "a6aeb764-f632-4f87-dbb2-50d7741638ea"
      },
      "source": [
        "#생선 종류 유니크값 확인\n",
        "fish['Species'].unique()"
      ],
      "execution_count": 2,
      "outputs": [
        {
          "output_type": "execute_result",
          "data": {
            "text/plain": [
              "array(['Bream', 'Roach', 'Whitefish', 'Parkki', 'Perch', 'Pike', 'Smelt'],\n",
              "      dtype=object)"
            ]
          },
          "metadata": {
            "tags": []
          },
          "execution_count": 2
        }
      ]
    },
    {
      "cell_type": "markdown",
      "metadata": {
        "id": "QsIWllxOcDfV"
      },
      "source": [
        "- 럭키백 안에 들어갈 물고기들을 맞추는 것이 중요하므로, Species 열을 타깃 데이터로 만들고 나머지 열은 input data로 만든다."
      ]
    },
    {
      "cell_type": "code",
      "metadata": {
        "id": "IhTYZI6BMPc5",
        "colab": {
          "base_uri": "https://localhost:8080/"
        },
        "outputId": "82ad8e7a-e0c3-4cea-84cf-ad245ec074c7"
      },
      "source": [
        "#Species 열을 타깃 데이터로 만들고, 나머지 열은 입력 데이터로 사용\n",
        "fish_input = fish[['Weight', 'Length', 'Diagonal', 'Height', 'Width']].to_numpy() #numpy 배열로 변경해준다.\n",
        "fish_input[:5]"
      ],
      "execution_count": 3,
      "outputs": [
        {
          "output_type": "execute_result",
          "data": {
            "text/plain": [
              "array([[242.    ,  25.4   ,  30.    ,  11.52  ,   4.02  ],\n",
              "       [290.    ,  26.3   ,  31.2   ,  12.48  ,   4.3056],\n",
              "       [340.    ,  26.5   ,  31.1   ,  12.3778,   4.6961],\n",
              "       [363.    ,  29.    ,  33.5   ,  12.73  ,   4.4555],\n",
              "       [430.    ,  29.    ,  34.    ,  12.444 ,   5.134 ]])"
            ]
          },
          "metadata": {
            "tags": []
          },
          "execution_count": 3
        }
      ]
    },
    {
      "cell_type": "code",
      "metadata": {
        "id": "NJvSWshvOtf4"
      },
      "source": [
        "#타깃 데이터 만들기\n",
        "fish_target = fish['Species'].to_numpy()"
      ],
      "execution_count": 4,
      "outputs": []
    },
    {
      "cell_type": "code",
      "metadata": {
        "colab": {
          "base_uri": "https://localhost:8080/"
        },
        "id": "HiaJjGwFbzAE",
        "outputId": "2176fff4-6db1-43d3-8ff7-872fec55875f"
      },
      "source": [
        "fish_target"
      ],
      "execution_count": 5,
      "outputs": [
        {
          "output_type": "execute_result",
          "data": {
            "text/plain": [
              "array(['Bream', 'Bream', 'Bream', 'Bream', 'Bream', 'Bream', 'Bream',\n",
              "       'Bream', 'Bream', 'Bream', 'Bream', 'Bream', 'Bream', 'Bream',\n",
              "       'Bream', 'Bream', 'Bream', 'Bream', 'Bream', 'Bream', 'Bream',\n",
              "       'Bream', 'Bream', 'Bream', 'Bream', 'Bream', 'Bream', 'Bream',\n",
              "       'Bream', 'Bream', 'Bream', 'Bream', 'Bream', 'Bream', 'Bream',\n",
              "       'Roach', 'Roach', 'Roach', 'Roach', 'Roach', 'Roach', 'Roach',\n",
              "       'Roach', 'Roach', 'Roach', 'Roach', 'Roach', 'Roach', 'Roach',\n",
              "       'Roach', 'Roach', 'Roach', 'Roach', 'Roach', 'Roach', 'Whitefish',\n",
              "       'Whitefish', 'Whitefish', 'Whitefish', 'Whitefish', 'Whitefish',\n",
              "       'Parkki', 'Parkki', 'Parkki', 'Parkki', 'Parkki', 'Parkki',\n",
              "       'Parkki', 'Parkki', 'Parkki', 'Parkki', 'Parkki', 'Perch', 'Perch',\n",
              "       'Perch', 'Perch', 'Perch', 'Perch', 'Perch', 'Perch', 'Perch',\n",
              "       'Perch', 'Perch', 'Perch', 'Perch', 'Perch', 'Perch', 'Perch',\n",
              "       'Perch', 'Perch', 'Perch', 'Perch', 'Perch', 'Perch', 'Perch',\n",
              "       'Perch', 'Perch', 'Perch', 'Perch', 'Perch', 'Perch', 'Perch',\n",
              "       'Perch', 'Perch', 'Perch', 'Perch', 'Perch', 'Perch', 'Perch',\n",
              "       'Perch', 'Perch', 'Perch', 'Perch', 'Perch', 'Perch', 'Perch',\n",
              "       'Perch', 'Perch', 'Perch', 'Perch', 'Perch', 'Perch', 'Perch',\n",
              "       'Perch', 'Perch', 'Perch', 'Perch', 'Perch', 'Pike', 'Pike',\n",
              "       'Pike', 'Pike', 'Pike', 'Pike', 'Pike', 'Pike', 'Pike', 'Pike',\n",
              "       'Pike', 'Pike', 'Pike', 'Pike', 'Pike', 'Pike', 'Pike', 'Smelt',\n",
              "       'Smelt', 'Smelt', 'Smelt', 'Smelt', 'Smelt', 'Smelt', 'Smelt',\n",
              "       'Smelt', 'Smelt', 'Smelt', 'Smelt', 'Smelt', 'Smelt'], dtype=object)"
            ]
          },
          "metadata": {
            "tags": []
          },
          "execution_count": 5
        }
      ]
    },
    {
      "cell_type": "code",
      "metadata": {
        "id": "ZY22OmSiMqy0"
      },
      "source": [
        "#train set과 test set 만들기\n",
        "from sklearn.model_selection import train_test_split\n",
        "\n",
        "train_input, test_input, train_target, test_target = train_test_split(fish_input, fish_target, random_state = 42)"
      ],
      "execution_count": 6,
      "outputs": []
    },
    {
      "cell_type": "code",
      "metadata": {
        "id": "lzl02np-MPau"
      },
      "source": [
        "# 훈련 세트와 테스트 세트를 표준화 전처리 해주기\n",
        "from sklearn.preprocessing import StandardScaler\n",
        "\n",
        "ss = StandardScaler()\n",
        "ss.fit(train_input) #훈련 세트의 통계 값으로 테스트 세트 변환 필요\n",
        "\n",
        "train_scaled = ss.transform(train_input)\n",
        "test_scaled = ss.transform(test_input)"
      ],
      "execution_count": 7,
      "outputs": []
    },
    {
      "cell_type": "markdown",
      "metadata": {
        "id": "KoZ6Zx0DOJhL"
      },
      "source": [
        "- 필요 데이터가 모두 정리되었으니,  k-최근접 이웃 분류기로 테스트 세트에 들어있는 확률을 예측해본다."
      ]
    },
    {
      "cell_type": "code",
      "metadata": {
        "id": "aTeXi93jMPYc",
        "colab": {
          "base_uri": "https://localhost:8080/"
        },
        "outputId": "4ee8191f-c747-4f22-f4cd-224b3a7df082"
      },
      "source": [
        "from sklearn.neighbors import KNeighborsClassifier\n",
        "\n",
        "kn = KNeighborsClassifier(n_neighbors = 3) #기본값은 5\n",
        "kn.fit(train_scaled, train_target) #train data로 한번 학습시키기\n",
        "print(kn.score(train_scaled, train_target))\n",
        "print(kn.score(test_scaled, test_target))"
      ],
      "execution_count": 8,
      "outputs": [
        {
          "output_type": "stream",
          "text": [
            "0.8907563025210085\n",
            "0.85\n"
          ],
          "name": "stdout"
        }
      ]
    },
    {
      "cell_type": "markdown",
      "metadata": {
        "id": "gb9U0qRb60DQ"
      },
      "source": [
        "- 앞서 보았던 fish['Species']에는 7가지 종류의 생선이 있었는데, 훈련 세트와 테스트 세트에도 7개의 생선 종류가 들어가 있다.\n",
        "- 이렇게 타깃 데이터에 2개 이상의 클래스가 포함된 문제를 **다중 분류**(Multiclass classification)이라고 한다.\n",
        "\n",
        "- 2장에서 만들었던 이진 분류는, 양성 클래스와 음성 클래스를 1과 0으로 구성해야 했는데, 사이킷런은 문자열로 된 타깃값을 그대로 사용할 수 있다.\n",
        "  - 주의: 타깃값을 그대로 사이킷런 모델에 전달하면, 순서가 **자동으로 알파벳 순**이 된다.\n",
        "  - KNeighborsClassifier에 정렬된 타깃값은 **classes_** 속성에 있다."
      ]
    },
    {
      "cell_type": "code",
      "metadata": {
        "id": "YaCRdPEWMPWB",
        "colab": {
          "base_uri": "https://localhost:8080/"
        },
        "outputId": "d1e78d89-4cf5-40c8-9c1c-d98874591e7c"
      },
      "source": [
        "kn.classes_"
      ],
      "execution_count": 9,
      "outputs": [
        {
          "output_type": "execute_result",
          "data": {
            "text/plain": [
              "array(['Bream', 'Parkki', 'Perch', 'Pike', 'Roach', 'Smelt', 'Whitefish'],\n",
              "      dtype=object)"
            ]
          },
          "metadata": {
            "tags": []
          },
          "execution_count": 9
        }
      ]
    },
    {
      "cell_type": "code",
      "metadata": {
        "id": "rSmAqxLDMPTL",
        "colab": {
          "base_uri": "https://localhost:8080/"
        },
        "outputId": "3ea59f98-9033-41d0-cb2a-8967facb3651"
      },
      "source": [
        "#predict() 메서드는 타깃값으로 예측을 출력한다\n",
        "kn.predict(test_scaled[:5]) #테스트 세트에 있는 처음 5개 샘플의 타깃값 예측"
      ],
      "execution_count": 10,
      "outputs": [
        {
          "output_type": "execute_result",
          "data": {
            "text/plain": [
              "array(['Perch', 'Smelt', 'Pike', 'Perch', 'Perch'], dtype=object)"
            ]
          },
          "metadata": {
            "tags": []
          },
          "execution_count": 10
        }
      ]
    },
    {
      "cell_type": "code",
      "metadata": {
        "colab": {
          "base_uri": "https://localhost:8080/"
        },
        "id": "qbrrtOkZcsfh",
        "outputId": "e2764b20-48d4-41bb-c8f4-924e4f455f00"
      },
      "source": [
        "#예측하고자 했던 input값, predict를 통해 target값을 보여준다!\n",
        "test_scaled"
      ],
      "execution_count": 11,
      "outputs": [
        {
          "output_type": "execute_result",
          "data": {
            "text/plain": [
              "array([[-0.88741352, -0.91804565, -1.03098914, -0.90464451, -0.80762518],\n",
              "       [-1.06924656, -1.50842035, -1.54345461, -1.58849582, -1.93803151],\n",
              "       [-0.54401367,  0.35641402,  0.30663259, -0.8135697 , -0.65388895],\n",
              "       [-0.34698097, -0.23396068, -0.22320459, -0.11905019, -0.12233464],\n",
              "       [-0.68475132, -0.51509149, -0.58801052, -0.8998784 , -0.50124996],\n",
              "       [ 1.70778862,  0.79685229,  0.98412932,  2.49283113,  1.31347159],\n",
              "       [-1.08726098, -1.67709884, -1.70848587, -1.76175528, -2.01154694],\n",
              "       [-0.60030873, -0.3089289 , -0.29269143, -0.43855288, -0.33056738],\n",
              "       [-0.57779071, -0.36515506, -0.44035097, -0.52577528, -0.17219833],\n",
              "       [ 2.41147684,  2.57734741,  2.4694106 ,  0.45038962,  1.54627043],\n",
              "       [ 0.72262512,  0.46886634,  0.64538096,  1.38570915,  0.7798447 ],\n",
              "       [ 1.70778862,  1.0779831 ,  1.06230202,  0.86222655,  1.2659243 ],\n",
              "       [ 0.58188748,  0.32830094,  0.51509312,  1.62381742,  0.6898706 ],\n",
              "       [-0.68475132, -0.7962223 , -0.77041348,  0.0074865 , -0.70436223],\n",
              "       [ 0.86336276,  0.60943175,  0.80172635,  1.82199404,  0.69535682],\n",
              "       [ 1.48260839,  0.93741769,  1.11441715,  2.26561331,  1.13260901],\n",
              "       [ 1.70778862,  1.40596904,  1.2794484 ,  0.92396381,  2.25161618],\n",
              "       [-0.49334812, -0.18710555, -0.28400558, -0.41845122, -0.18548719],\n",
              "       [-0.47364485, -0.42138122, -0.50115196, -0.38758259, -0.44212064],\n",
              "       [ 0.86336276,  0.42201121,  0.61063753,  1.48117965,  0.51028814],\n",
              "       [-1.07881672, -1.56464651, -1.57819804, -1.64186151, -1.92900972],\n",
              "       [ 0.610035  ,  0.46886634,  0.6366951 ,  1.67197249,  0.41787572],\n",
              "       [ 0.30041219,  0.2814458 ,  0.44560628,  1.20923936, -0.04894113],\n",
              "       [ 0.30041219,  0.20647759,  0.42823457,  1.32466334,  0.31156486],\n",
              "       [ 1.58112475,  0.93741769,  1.10573129,  2.27724461,  1.12389201],\n",
              "       [ 1.98926391,  1.35911391,  1.23601913,  0.90136798,  1.80936543],\n",
              "       [-0.62845626, -0.46823636, -0.54458124, -0.63897672, -0.44090148],\n",
              "       [-0.34698097, -0.18710555, -0.17108946, -0.17708322, -0.12178601],\n",
              "       [-1.0881054 , -1.75206705, -1.77797271, -1.75918701, -2.07299266],\n",
              "       [-1.0790982 , -1.56464651, -1.57819804, -1.64186151, -2.00087927],\n",
              "       [ 0.32855972,  1.31225877,  1.23601913, -0.50315475,  0.00653071],\n",
              "       [-0.90993155, -1.039869  , -1.10916184, -1.05557977, -0.9185079 ],\n",
              "       [-0.96200448, -1.15232133, -1.22207796, -1.0544932 , -1.10741694],\n",
              "       [ 0.48900063,  1.64024472,  1.5139665 , -0.26435502,  0.25706835],\n",
              "       [-0.14994827, -0.18710555, -0.01474406,  0.86810394,  0.15106228],\n",
              "       [-0.7691939 , -0.60880176, -0.67486907, -0.67972332, -0.63444333],\n",
              "       [-0.65660379, -0.56194663, -0.51852367, -0.45169057, -0.38280844],\n",
              "       [-0.7691939 , -0.70251203, -0.65749736, -0.67858735, -0.70344785],\n",
              "       [-0.69882508, -0.6556569 , -0.62275394,  0.21581272, -0.78708232],\n",
              "       [ 1.20113311,  0.98427283,  0.8712132 ,  0.88131571,  1.76968173]])"
            ]
          },
          "metadata": {
            "tags": []
          },
          "execution_count": 11
        }
      ]
    },
    {
      "cell_type": "code",
      "metadata": {
        "colab": {
          "base_uri": "https://localhost:8080/"
        },
        "id": "Ngr5kPXUe_rm",
        "outputId": "3de7fdc6-eae0-4c2b-9983-9e7acb86114c"
      },
      "source": [
        "#정규화 하기 전의 데이터\n",
        "test_input"
      ],
      "execution_count": 12,
      "outputs": [
        {
          "output_type": "execute_result",
          "data": {
            "text/plain": [
              "array([[7.80000e+01, 1.87000e+01, 1.94000e+01, 5.19920e+00, 3.12340e+00],\n",
              "       [1.34000e+01, 1.24000e+01, 1.35000e+01, 2.43000e+00, 1.26900e+00],\n",
              "       [2.00000e+02, 3.23000e+01, 3.48000e+01, 5.56800e+00, 3.37560e+00],\n",
              "       [2.70000e+02, 2.60000e+01, 2.87000e+01, 8.38040e+00, 4.24760e+00],\n",
              "       [1.50000e+02, 2.30000e+01, 2.45000e+01, 5.21850e+00, 3.62600e+00],\n",
              "       [1.00000e+03, 3.70000e+01, 4.26000e+01, 1.89570e+01, 6.60300e+00],\n",
              "       [7.00000e+00, 1.06000e+01, 1.16000e+01, 1.72840e+00, 1.14840e+00],\n",
              "       [1.80000e+02, 2.52000e+01, 2.79000e+01, 7.08660e+00, 3.90600e+00],\n",
              "       [1.88000e+02, 2.46000e+01, 2.62000e+01, 6.73340e+00, 4.16580e+00],\n",
              "       [1.25000e+03, 5.60000e+01, 5.97000e+01, 1.06863e+01, 6.98490e+00],\n",
              "       [6.50000e+02, 3.35000e+01, 3.87000e+01, 1.44738e+01, 5.72760e+00],\n",
              "       [1.00000e+03, 4.00000e+01, 4.35000e+01, 1.23540e+01, 6.52500e+00],\n",
              "       [6.00000e+02, 3.20000e+01, 3.72000e+01, 1.54380e+01, 5.58000e+00],\n",
              "       [1.50000e+02, 2.00000e+01, 2.24000e+01, 8.89280e+00, 3.29280e+00],\n",
              "       [7.00000e+02, 3.50000e+01, 4.05000e+01, 1.62405e+01, 5.58900e+00],\n",
              "       [9.20000e+02, 3.85000e+01, 4.41000e+01, 1.80369e+01, 6.30630e+00],\n",
              "       [1.00000e+03, 4.35000e+01, 4.60000e+01, 1.26040e+01, 8.14200e+00],\n",
              "       [2.18000e+02, 2.65000e+01, 2.80000e+01, 7.16800e+00, 4.14400e+00],\n",
              "       [2.25000e+02, 2.40000e+01, 2.55000e+01, 7.29300e+00, 3.72300e+00],\n",
              "       [7.00000e+02, 3.30000e+01, 3.83000e+01, 1.48604e+01, 5.28540e+00],\n",
              "       [1.00000e+01, 1.18000e+01, 1.31000e+01, 2.21390e+00, 1.28380e+00],\n",
              "       [6.10000e+02, 3.35000e+01, 3.86000e+01, 1.56330e+01, 5.13380e+00],\n",
              "       [5.00000e+02, 3.15000e+01, 3.64000e+01, 1.37592e+01, 4.36800e+00],\n",
              "       [5.00000e+02, 3.07000e+01, 3.62000e+01, 1.42266e+01, 4.95940e+00],\n",
              "       [9.55000e+02, 3.85000e+01, 4.40000e+01, 1.80840e+01, 6.29200e+00],\n",
              "       [1.10000e+03, 4.30000e+01, 4.55000e+01, 1.25125e+01, 7.41650e+00],\n",
              "       [1.70000e+02, 2.35000e+01, 2.50000e+01, 6.27500e+00, 3.72500e+00],\n",
              "       [2.70000e+02, 2.65000e+01, 2.93000e+01, 8.14540e+00, 4.24850e+00],\n",
              "       [6.70000e+00, 9.80000e+00, 1.08000e+01, 1.73880e+00, 1.04760e+00],\n",
              "       [9.90000e+00, 1.18000e+01, 1.31000e+01, 2.21390e+00, 1.16590e+00],\n",
              "       [5.10000e+02, 4.25000e+01, 4.55000e+01, 6.82500e+00, 4.45900e+00],\n",
              "       [7.00000e+01, 1.74000e+01, 1.85000e+01, 4.58800e+00, 2.94150e+00],\n",
              "       [5.15000e+01, 1.62000e+01, 1.72000e+01, 4.59240e+00, 2.63160e+00],\n",
              "       [5.67000e+02, 4.60000e+01, 4.87000e+01, 7.79200e+00, 4.87000e+00],\n",
              "       [3.40000e+02, 2.65000e+01, 3.11000e+01, 1.23778e+01, 4.69610e+00],\n",
              "       [1.20000e+02, 2.20000e+01, 2.35000e+01, 6.11000e+00, 3.40750e+00],\n",
              "       [1.60000e+02, 2.25000e+01, 2.53000e+01, 7.03340e+00, 3.82030e+00],\n",
              "       [1.20000e+02, 2.10000e+01, 2.37000e+01, 6.11460e+00, 3.29430e+00],\n",
              "       [1.45000e+02, 2.15000e+01, 2.41000e+01, 9.73640e+00, 3.15710e+00],\n",
              "       [8.20000e+02, 3.90000e+01, 4.13000e+01, 1.24313e+01, 7.35140e+00]])"
            ]
          },
          "metadata": {
            "tags": []
          },
          "execution_count": 12
        }
      ]
    },
    {
      "cell_type": "code",
      "metadata": {
        "colab": {
          "base_uri": "https://localhost:8080/"
        },
        "id": "VJwj9Dz1e2Bp",
        "outputId": "d687d814-725f-43cb-dbcb-9aa61ff939bf"
      },
      "source": [
        "test_target"
      ],
      "execution_count": 13,
      "outputs": [
        {
          "output_type": "execute_result",
          "data": {
            "text/plain": [
              "array(['Perch', 'Smelt', 'Pike', 'Whitefish', 'Perch', 'Bream', 'Smelt',\n",
              "       'Roach', 'Perch', 'Pike', 'Bream', 'Whitefish', 'Bream', 'Parkki',\n",
              "       'Bream', 'Bream', 'Perch', 'Perch', 'Perch', 'Bream', 'Smelt',\n",
              "       'Bream', 'Bream', 'Bream', 'Bream', 'Perch', 'Perch', 'Whitefish',\n",
              "       'Smelt', 'Smelt', 'Pike', 'Perch', 'Perch', 'Pike', 'Bream',\n",
              "       'Perch', 'Roach', 'Roach', 'Parkki', 'Perch'], dtype=object)"
            ]
          },
          "metadata": {
            "tags": []
          },
          "execution_count": 13
        }
      ]
    },
    {
      "cell_type": "markdown",
      "metadata": {
        "id": "XHPVoLmWFXPM"
      },
      "source": [
        "- 위 5개 샘플에 대한 예측은 어떤 확률로 만들어진걸까?\n",
        "\n",
        "- 사이킷런의 분류 모델은 **predict_proba()** 메서드로 **클래스별 확률값**을 반환한다.\n",
        "\n",
        "- numpy의 **round()함수**는 기본으로 소수점 첫째 자리에서 반올림을 하는데, **decimals** 매개변수로 유지할 소수점 아래 자릿수를 지정할 수 있다."
      ]
    },
    {
      "cell_type": "code",
      "metadata": {
        "id": "G1vpvY0fMPQ5",
        "colab": {
          "base_uri": "https://localhost:8080/"
        },
        "outputId": "d6c62cbe-d3ea-41b4-a0cc-625938b5c41a"
      },
      "source": [
        "import numpy as np\n",
        "\n",
        "proba = kn.predict_proba(test_scaled[:5])\n",
        "np.round(proba, decimals = 4)"
      ],
      "execution_count": 14,
      "outputs": [
        {
          "output_type": "execute_result",
          "data": {
            "text/plain": [
              "array([[0.    , 0.    , 1.    , 0.    , 0.    , 0.    , 0.    ],\n",
              "       [0.    , 0.    , 0.    , 0.    , 0.    , 1.    , 0.    ],\n",
              "       [0.    , 0.    , 0.    , 1.    , 0.    , 0.    , 0.    ],\n",
              "       [0.    , 0.    , 0.6667, 0.    , 0.3333, 0.    , 0.    ],\n",
              "       [0.    , 0.    , 0.6667, 0.    , 0.3333, 0.    , 0.    ]])"
            ]
          },
          "metadata": {
            "tags": []
          },
          "execution_count": 14
        }
      ]
    },
    {
      "cell_type": "markdown",
      "metadata": {
        "id": "5wLT7-pbF9Vj"
      },
      "source": [
        "- *predict_proba()* 메서드의 출력 순서는 *classes_* 속성과 같다. \n",
        "\n",
        "  - [Bream  , Parkki, Perch , Pike  , Roach , Smelt, Whitefish] 순\n",
        "\n",
        "\n",
        "---\n",
        "\n",
        "- 이 모델이 계산한 확률이 가장 가까운 이웃의 비율이 맞는지 확인해보자.\n",
        "  - 4번째 샘플의 최근접 이웃의 클래스를 확인"
      ]
    },
    {
      "cell_type": "code",
      "metadata": {
        "colab": {
          "base_uri": "https://localhost:8080/"
        },
        "id": "fCW9CmoKF2jX",
        "outputId": "a073489a-9cb5-4922-c5bd-69146d0f0b2b"
      },
      "source": [
        "distance, indexes = kn.kneighbors(test_scaled[3:4])\n",
        "train_target[indexes]"
      ],
      "execution_count": 15,
      "outputs": [
        {
          "output_type": "execute_result",
          "data": {
            "text/plain": [
              "array([['Roach', 'Perch', 'Perch']], dtype=object)"
            ]
          },
          "metadata": {
            "tags": []
          },
          "execution_count": 15
        }
      ]
    },
    {
      "cell_type": "markdown",
      "metadata": {
        "id": "ekFIv1JFfeKf"
      },
      "source": [
        "- [0.    , 0.    , *0.6667* , 0.    , *0.3333*, 0.    , 0.    ]\n",
        "  - 5번째 클래스인 'Roach'가 1개, 3번째 클래스인 'Perch'가 2개 나왔다.\n",
        "  - 그러므로 [Roach = 1/3 = 0.333], [Perch = 2/3 = 0.6667]이 맞게 된다!\n",
        "\n",
        "\n",
        "\n",
        "---\n",
        "\n",
        "- 위에서 *n_neighbors = 3*으로 지정했기 때문에, 가능한 확률은 0/3, 1/3, 2/3, 3/3뿐이다.\n",
        "- 더 좋은 방법은?!"
      ]
    },
    {
      "cell_type": "markdown",
      "metadata": {
        "id": "q7ww6iPbpbWz"
      },
      "source": [
        "## 2. 로지스틱 회귀(Logistic Regression)\n",
        "- 로지스틱 회귀는, 이름이 회귀이지만 분류 모델이다.\n",
        "\n",
        "- 선형 회귀와 동일하게 선형 방정식을 학습한다.\n",
        "\n",
        "  - z = [{a x (Weight)} + {b x (Length)} + {c x (Diagonal)} + {d x (Height)} + {e x (Width)} + f]\n",
        "\n",
        "    - z는 어떠한 값도 가능하다.\n",
        "\n",
        "    - 확률이 되려면 0 ~ 1 사이에 있어야 하므로, z가 아주 큰 음수일 경우 0, z가 아주 큰 양수일 때 1이 되도록 바꿔줘야 한다.\n",
        "\n",
        "    - 이를 할 수 있는 것이 **시그모이드 함수**(sigmoid function) 혹은 **로지스틱 함수**(logistic function) 이다."
      ]
    },
    {
      "cell_type": "markdown",
      "metadata": {
        "id": "oPrgy73OpmfR"
      },
      "source": [
        "![image.png](https://www.googleapis.com/download/storage/v1/b/kaggle-forum-message-attachments/o/inbox%2F5152157%2F366ce717ad74dfe967a940d9a2161f9b%2Fmain-qimg-6b67bea3311c3429bfb34b6b1737fe0c.jpg?generation=1605711218576073&alt=media)"
      ]
    },
    {
      "cell_type": "code",
      "metadata": {
        "id": "I0jQS50ofdLW",
        "colab": {
          "base_uri": "https://localhost:8080/",
          "height": 265
        },
        "outputId": "fd790f44-9c05-4957-acb1-556de853406c"
      },
      "source": [
        "#numpy를 이용하여 시그모이드 그래프 그리기\n",
        "import matplotlib.pyplot as plt\n",
        "\n",
        "z = np.arange(-5, 5, 0.1)\n",
        "phi = 1/(1+np.exp(-z))\n",
        "plt.plot([-5, 5], [1,1], 'r--')\n",
        "plt.plot([-5, 5], [0,0], 'r--')\n",
        "\n",
        "plt.plot(z, phi)\n",
        "plt.show()"
      ],
      "execution_count": 16,
      "outputs": [
        {
          "output_type": "display_data",
          "data": {
            "image/png": "[encoded data removed]",
            "text/plain": [
              "<Figure size 432x288 with 1 Axes>"
            ]
          },
          "metadata": {
            "tags": [],
            "needs_background": "light"
          }
        }
      ]
    },
    {
      "cell_type": "markdown",
      "metadata": {
        "id": "HH8w3WIzyJgm"
      },
      "source": [
        "- 훈련 전, 도미와 빙어 데이터로 이진 분류를 먼저 해보자."
      ]
    },
    {
      "cell_type": "code",
      "metadata": {
        "id": "buFkU_JP2GWi"
      },
      "source": [
        "bream_smelt_indexes = (train_target == 'Bream') | (train_target == 'Smelt') #Bream or Smelt\n",
        "train_bream_smelt = train_scaled[bream_smelt_indexes]\n",
        "target_bream_smelt = train_target[bream_smelt_indexes]"
      ],
      "execution_count": 17,
      "outputs": []
    },
    {
      "cell_type": "code",
      "metadata": {
        "colab": {
          "base_uri": "https://localhost:8080/"
        },
        "id": "48bhjZnV3ARw",
        "outputId": "4a678d44-8559-4feb-f4d9-c25be39b76b2"
      },
      "source": [
        "train_bream_smelt"
      ],
      "execution_count": 18,
      "outputs": [
        {
          "output_type": "execute_result",
          "data": {
            "text/plain": [
              "array([[ 0.91965782,  0.60943175,  0.81041221,  1.85194896,  1.00075672],\n",
              "       [-1.0858536 , -1.68646987, -1.70848587, -1.70159849, -2.0044758 ],\n",
              "       [ 0.63818253,  0.56257661,  0.73223951,  1.64473401,  0.50705737],\n",
              "       [ 0.30041219,  0.23459067,  0.42823457,  1.36042157,  0.22329758],\n",
              "       [ 0.9027693 ,  0.70314202,  0.88858491,  1.89027545,  0.85537174],\n",
              "       [-1.0824759 , -1.61150165, -1.62162731, -1.7000674 , -1.92815631],\n",
              "       [ 0.10337949,  0.04717013,  0.23714575,  0.88445197,  0.41799764],\n",
              "       [ 1.49668216,  1.03112796,  1.21864741,  2.44274986,  1.40289707],\n",
              "       [ 0.23004337,  0.23459067,  0.42823457,  1.3336029 ,  0.39983213],\n",
              "       [-0.42579405, -0.29018684, -0.11028847,  0.65627104, -0.26107519],\n",
              "       [ 1.28557569,  0.70314202,  0.89727076,  1.98228866,  1.06683526],\n",
              "       [ 0.93373158,  0.60943175,  0.83646978,  1.85150445,  0.97832415],\n",
              "       [ 0.80706771,  0.60943175,  0.81041221,  1.63137406,  1.0255057 ],\n",
              "       [-1.07262426, -1.52716241, -1.55214047, -1.67235972, -1.86207776],\n",
              "       [ 1.6374198 ,  1.17169337,  1.27076255,  2.41341232,  1.40143407],\n",
              "       [-1.07966115, -1.63961473, -1.67374245, -1.6462819 , -1.87036806],\n",
              "       [-1.05151362, -1.33037084, -1.39579507, -1.47914678, -1.45146425],\n",
              "       [ 0.15967454,  0.11276732,  0.29794674,  1.17051775,  0.29205828],\n",
              "       [ 1.56705098,  1.17169337,  1.32287768,  2.16352457,  1.17174409],\n",
              "       [-0.00921063,  0.1408804 ,  0.3240043 ,  0.94026245,  0.14734384],\n",
              "       [ 0.15967454,  0.1408804 ,  0.33269016,  1.26991474,  0.24109734],\n",
              "       [-0.14994827,  0.32830094,  0.52377898,  1.24719543,  0.3806913 ],\n",
              "       [-0.08520896,  0.04717013,  0.19371647,  0.95507939,  0.00439718],\n",
              "       [ 0.86336276,  0.42201121,  0.62800925,  1.5003429 ,  0.45670601],\n",
              "       [ 0.30041219,  0.11276732,  0.28057503,  1.31303204,  0.50608204],\n",
              "       [-1.07262426, -1.45219419, -1.51739705, -1.62627903, -1.94607798],\n",
              "       [ 0.82114147,  0.51572148,  0.68881023,  1.76102232,  0.5621025 ],\n",
              "       [-1.07937967, -1.54590446, -1.56951218, -1.64420753, -2.01154694],\n",
              "       [-1.07937967, -1.62087268, -1.63899902, -1.67413775, -1.93303295],\n",
              "       [-0.29068592, -0.2058476 , -0.0060582 ,  0.89334213, -0.08697896],\n",
              "       [-1.05095067, -1.26477365, -1.30893652, -1.46447801, -1.56606541],\n",
              "       [ 0.51151865,  0.51572148,  0.7148678 ,  1.54738669,  0.68347   ],\n",
              "       [ 0.58188748,  0.32830094,  0.51509312,  1.50439286,  0.4404302 ]])"
            ]
          },
          "metadata": {
            "tags": []
          },
          "execution_count": 18
        }
      ]
    },
    {
      "cell_type": "code",
      "metadata": {
        "colab": {
          "base_uri": "https://localhost:8080/"
        },
        "id": "mDFoSqvk3FxP",
        "outputId": "6801c265-1f18-43d8-a4b0-01b1b41d9e9e"
      },
      "source": [
        "target_bream_smelt"
      ],
      "execution_count": 19,
      "outputs": [
        {
          "output_type": "execute_result",
          "data": {
            "text/plain": [
              "array(['Bream', 'Smelt', 'Bream', 'Bream', 'Bream', 'Smelt', 'Bream',\n",
              "       'Bream', 'Bream', 'Bream', 'Bream', 'Bream', 'Bream', 'Smelt',\n",
              "       'Bream', 'Smelt', 'Smelt', 'Bream', 'Bream', 'Bream', 'Bream',\n",
              "       'Bream', 'Bream', 'Bream', 'Bream', 'Smelt', 'Bream', 'Smelt',\n",
              "       'Smelt', 'Bream', 'Smelt', 'Bream', 'Bream'], dtype=object)"
            ]
          },
          "metadata": {
            "tags": []
          },
          "execution_count": 19
        }
      ]
    },
    {
      "cell_type": "code",
      "metadata": {
        "colab": {
          "base_uri": "https://localhost:8080/"
        },
        "id": "c32yIOlf3HFn",
        "outputId": "7cb1885b-4a09-4c81-edab-57176bbb29bb"
      },
      "source": [
        "from sklearn.linear_model import LogisticRegression\n",
        "\n",
        "lr = LogisticRegression()\n",
        "lr.fit(train_bream_smelt, target_bream_smelt)"
      ],
      "execution_count": 20,
      "outputs": [
        {
          "output_type": "execute_result",
          "data": {
            "text/plain": [
              "LogisticRegression(C=1.0, class_weight=None, dual=False, fit_intercept=True,\n",
              "                   intercept_scaling=1, l1_ratio=None, max_iter=100,\n",
              "                   multi_class='auto', n_jobs=None, penalty='l2',\n",
              "                   random_state=None, solver='lbfgs', tol=0.0001, verbose=0,\n",
              "                   warm_start=False)"
            ]
          },
          "metadata": {
            "tags": []
          },
          "execution_count": 20
        }
      ]
    },
    {
      "cell_type": "code",
      "metadata": {
        "colab": {
          "base_uri": "https://localhost:8080/"
        },
        "id": "bDjFXRnT4JF0",
        "outputId": "16f80dbd-db86-4b70-cb7d-b30e334a9c1c"
      },
      "source": [
        "#훈련 모델을 사용하여 train_bream_smelt에 있는 처음 5개 샘플 예측\n",
        "\n",
        "lr.predict(train_bream_smelt[:5])"
      ],
      "execution_count": 21,
      "outputs": [
        {
          "output_type": "execute_result",
          "data": {
            "text/plain": [
              "array(['Bream', 'Smelt', 'Bream', 'Bream', 'Bream'], dtype=object)"
            ]
          },
          "metadata": {
            "tags": []
          },
          "execution_count": 21
        }
      ]
    },
    {
      "cell_type": "code",
      "metadata": {
        "colab": {
          "base_uri": "https://localhost:8080/"
        },
        "id": "MRqMUKuJ4Ylf",
        "outputId": "8bf3b803-a8bd-4b69-e16e-654763e17a11"
      },
      "source": [
        "print('음성       ' + '  /  ' + '    양성')\n",
        "print(lr.predict_proba(train_bream_smelt[:5]))"
      ],
      "execution_count": 22,
      "outputs": [
        {
          "output_type": "stream",
          "text": [
            "음성         /      양성\n",
            "[[0.99759855 0.00240145]\n",
            " [0.02735183 0.97264817]\n",
            " [0.99486072 0.00513928]\n",
            " [0.98584202 0.01415798]\n",
            " [0.99767269 0.00232731]]\n"
          ],
          "name": "stdout"
        }
      ]
    },
    {
      "cell_type": "markdown",
      "metadata": {
        "id": "ISyr9wv_6KiX"
      },
      "source": [
        "- 첫 번째 열이 음성 클래스(0)에 대한 확률, 두 번째 열이 양성 클래스(1)에 대한 확률이다.\n",
        "- 과연 어떤 것이 양성 클래스인지는 **classes_**를 사용하면 알 수 있다."
      ]
    },
    {
      "cell_type": "code",
      "metadata": {
        "colab": {
          "base_uri": "https://localhost:8080/"
        },
        "id": "vkAd4N195ZXq",
        "outputId": "7c950ee5-38f9-473b-95f2-98d4534b1da4"
      },
      "source": [
        "lr.classes_"
      ],
      "execution_count": 23,
      "outputs": [
        {
          "output_type": "execute_result",
          "data": {
            "text/plain": [
              "array(['Bream', 'Smelt'], dtype=object)"
            ]
          },
          "metadata": {
            "tags": []
          },
          "execution_count": 23
        }
      ]
    },
    {
      "cell_type": "markdown",
      "metadata": {
        "id": "eD35ejCyXxwX"
      },
      "source": [
        "- 음성 클래스는 도미(Bream), 양성 클래스는 빙어(Smelt)이다.\n",
        "\n",
        "\n",
        "---\n",
        "- 로지스틱 회귀가 학습한 계수를 알아보자.\n"
      ]
    },
    {
      "cell_type": "code",
      "metadata": {
        "colab": {
          "base_uri": "https://localhost:8080/"
        },
        "id": "Y2dMix8b6XVR",
        "outputId": "783b00f5-8c4b-47dc-cad5-87db9a83ebdf"
      },
      "source": [
        "print(lr.coef_, lr.intercept_)"
      ],
      "execution_count": 24,
      "outputs": [
        {
          "output_type": "stream",
          "text": [
            "[[-0.4037798  -0.57620209 -0.66280298 -1.01290277 -0.73168947]] [-2.16155132]\n"
          ],
          "name": "stdout"
        }
      ]
    },
    {
      "cell_type": "markdown",
      "metadata": {
        "id": "B9ojOF7In4ay"
      },
      "source": [
        "- 이 로지스틱 회귀 모델이 학습한 방정식은 다음과 같다.\n",
        "  - z = [{-0.404 x (Weight)} + {-0.576 x (Length)} + {-0.663 x (Diagonal)} + {-1.013 x (Height)} + {-0.731 x (Width)} + (-2.161)]\n",
        "\n",
        "- LogisticRegression 모델에서, **decision_function()**메서드로 z값을 계산할 수 있다."
      ]
    },
    {
      "cell_type": "code",
      "metadata": {
        "colab": {
          "base_uri": "https://localhost:8080/"
        },
        "id": "Q4GDytRZYXQX",
        "outputId": "155918d7-e01a-43c8-94c2-42040d2baa93"
      },
      "source": [
        "#처음 5개 샘플의 z값 출력\n",
        "decisions = lr.decision_function(train_bream_smelt[:5])\n",
        "decisions"
      ],
      "execution_count": 25,
      "outputs": [
        {
          "output_type": "execute_result",
          "data": {
            "text/plain": [
              "array([-6.02927744,  3.57123907, -5.26568906, -4.24321775, -6.0607117 ])"
            ]
          },
          "metadata": {
            "tags": []
          },
          "execution_count": 25
        }
      ]
    },
    {
      "cell_type": "markdown",
      "metadata": {
        "id": "s6_l7sbIysrQ"
      },
      "source": [
        "- 위에서 추출된 z값을 시그모이드 함수에 통과시키면 확률을 얻을 수 있다.\n",
        "  - 파이썬의 **scipy** 라이브러리에서 *시그모이드 함수*인 **expit()**을 사용하면 된다.\n",
        "  - np.exp()를 가지고 직접 계산하는 것보다 편리하다.\n",
        "    - 앞서, exp로 만들었던 식은 다음과 같다.\n",
        "      -  z = np.arange(-5, 5, 0.1)\n",
        "      - phi = 1/(1+np.exp(-z))"
      ]
    },
    {
      "cell_type": "code",
      "metadata": {
        "colab": {
          "base_uri": "https://localhost:8080/"
        },
        "id": "c_qPMxl9yiE4",
        "outputId": "1b837c55-3ad5-4d9f-a6c2-e4ab2d7c5433"
      },
      "source": [
        "from scipy.special import expit\n",
        "\n",
        "print('expit:' + str(expit(decisions))) \n",
        "print('\\n')\n",
        "print('predict_proba: ' +str(lr.predict_proba(train_bream_smelt[1:2])))"
      ],
      "execution_count": 26,
      "outputs": [
        {
          "output_type": "stream",
          "text": [
            "expit:[0.00240145 0.97264817 0.00513928 0.01415798 0.00232731]\n",
            "\n",
            "\n",
            "predict_proba: [[0.02735183 0.97264817]]\n"
          ],
          "name": "stdout"
        }
      ]
    },
    {
      "cell_type": "markdown",
      "metadata": {
        "id": "VAeZgEv20OvB"
      },
      "source": [
        "- 위에서 출력된 값을 보면, predict_proba() 메서드 출력의 두 번째 열의 값과 동일하다.\n",
        "- 이를 통해, decision_function() 메서드는 양성 클래스에 대한 z값을 반환하는 것을 알 수 있다.\n",
        "\n",
        "\n",
        "---\n",
        "\n",
        "- 정리 (*이진 분류*)\n",
        "  - 1) 이진 분류를 위해 2개의 생선 샘플을 골라냈고, 이를 이용하여 로지스틱 회귀 모델을 훈련했다.\n",
        "  - 2) 이진 분류의 경우, predict_proba() 메서드는 음성 클래스와 양성 클래스에 대한 확률을 출력한다.\n",
        "  - 3) decision_function() 메서드는 양성 클래스에 대한 z값을 계산한다.\n",
        "  - 4) 'coef_' 속성과 'intercept_' 속성에는 로지스틱 모델이 학습한 선형 방정식의 계수들이 존재한다.\n",
        "\n",
        "\n",
        "\n",
        "---\n",
        "\n",
        "- 이젠 다중 분류를 해보며 이진 분류와의 차이점을 살펴보자."
      ]
    },
    {
      "cell_type": "code",
      "metadata": {
        "colab": {
          "base_uri": "https://localhost:8080/"
        },
        "id": "eOmpuJEwzEqY",
        "outputId": "95eba26c-2202-475a-80e7-3e167ecc7d7b"
      },
      "source": [
        "lr = LogisticRegression(C = 20, max_iter = 1000)\n",
        "\n",
        "#C: LogisticRegression에서 규제를 제어하는 매개변수, 작을수록 규제가 커진다.\n",
        "#max_iter: 반복 횟수 지정, default = 100, 준비한 데이터셋을 사용하여 모델을 훈련하면 반복 횟수가 부족하다는 경고가 뜬다.\n",
        "\n",
        "lr.fit(train_scaled, train_target)\n",
        "print(lr.score(train_scaled, train_target))\n",
        "print(lr.score(test_scaled, test_target))"
      ],
      "execution_count": 27,
      "outputs": [
        {
          "output_type": "stream",
          "text": [
            "0.9327731092436975\n",
            "0.925\n"
          ],
          "name": "stdout"
        }
      ]
    },
    {
      "cell_type": "markdown",
      "metadata": {
        "id": "hlivJA5XxKNl"
      },
      "source": [
        "- train set 과 test set에 대한 점수가 높고, 과대적합·과소적합의 문제는 없어보인다!\n",
        "- 이제 테스트 세트 예측을 해보자."
      ]
    },
    {
      "cell_type": "code",
      "metadata": {
        "colab": {
          "base_uri": "https://localhost:8080/"
        },
        "id": "9IY3BZP-2MWB",
        "outputId": "5383e592-a49b-48f1-d7d9-2c79d3ca13bd"
      },
      "source": [
        "lr.predict(test_scaled)"
      ],
      "execution_count": 28,
      "outputs": [
        {
          "output_type": "execute_result",
          "data": {
            "text/plain": [
              "array(['Perch', 'Smelt', 'Pike', 'Roach', 'Perch', 'Bream', 'Smelt',\n",
              "       'Roach', 'Perch', 'Pike', 'Bream', 'Perch', 'Bream', 'Parkki',\n",
              "       'Bream', 'Bream', 'Perch', 'Perch', 'Perch', 'Bream', 'Smelt',\n",
              "       'Bream', 'Bream', 'Bream', 'Bream', 'Perch', 'Perch', 'Roach',\n",
              "       'Smelt', 'Smelt', 'Pike', 'Perch', 'Perch', 'Pike', 'Bream',\n",
              "       'Perch', 'Roach', 'Roach', 'Parkki', 'Perch'], dtype=object)"
            ]
          },
          "metadata": {
            "tags": []
          },
          "execution_count": 28
        }
      ]
    },
    {
      "cell_type": "markdown",
      "metadata": {
        "id": "YBw27EnyxYfF"
      },
      "source": [
        "- 이번엔, test set의 처음 5개 샘플에 대한 확률을 출력해보자\n",
        "- 소수점 네 번째 자리에서 반올림\n",
        "- *lr.classes_*를 통해 클래스 정보를 확인할 수 있다."
      ]
    },
    {
      "cell_type": "code",
      "metadata": {
        "colab": {
          "base_uri": "https://localhost:8080/"
        },
        "id": "uov63k4v4mip",
        "outputId": "1c98ba82-cfa9-434e-f6ef-10afb6ad9f75"
      },
      "source": [
        "proba = lr.predict_proba(test_scaled[:5])\n",
        "np.round(proba, decimals = 3)"
      ],
      "execution_count": 29,
      "outputs": [
        {
          "output_type": "execute_result",
          "data": {
            "text/plain": [
              "array([[0.   , 0.014, 0.841, 0.   , 0.136, 0.007, 0.003],\n",
              "       [0.   , 0.003, 0.044, 0.   , 0.007, 0.946, 0.   ],\n",
              "       [0.   , 0.   , 0.034, 0.935, 0.015, 0.016, 0.   ],\n",
              "       [0.011, 0.034, 0.306, 0.007, 0.567, 0.   , 0.076],\n",
              "       [0.   , 0.   , 0.904, 0.002, 0.089, 0.002, 0.001]])"
            ]
          },
          "metadata": {
            "tags": []
          },
          "execution_count": 29
        }
      ]
    },
    {
      "cell_type": "code",
      "metadata": {
        "id": "GR8jU3Cf1gkl",
        "colab": {
          "base_uri": "https://localhost:8080/"
        },
        "outputId": "7851be98-238d-4d1a-eaa6-bdf44fccab03"
      },
      "source": [
        "lr.classes_"
      ],
      "execution_count": 30,
      "outputs": [
        {
          "output_type": "execute_result",
          "data": {
            "text/plain": [
              "array(['Bream', 'Parkki', 'Perch', 'Pike', 'Roach', 'Smelt', 'Whitefish'],\n",
              "      dtype=object)"
            ]
          },
          "metadata": {
            "tags": []
          },
          "execution_count": 30
        }
      ]
    },
    {
      "cell_type": "markdown",
      "metadata": {
        "id": "bHZl9TedsKvM"
      },
      "source": [
        "| Bream  | Parkki  | Pearch  | Pike  |Roach |Smelt |Whitefish |\n",
        "|:-:|:-:|:-:|:-:|:-:|:-:|:-:|\n",
        "| 0  | 0.014  |  0.841 | 0  |0.136|0.007|0.003|\n",
        "| 0  | 0.003  | 0.044  | 0  |0.007|0.946|0|"
      ]
    },
    {
      "cell_type": "markdown",
      "metadata": {
        "id": "ief1GVswxvKR"
      },
      "source": [
        "- 이렇듯, 다중 분류는 샘플마다 클래스 개수만큼 확률을 출력한다.\n",
        "- 이 중, 가장 높은 확률이 예측 클래스가 된다.\n",
        "- 그럼 다중 분류의 경우, 선형 방정식은 어떤 모습일까?"
      ]
    },
    {
      "cell_type": "code",
      "metadata": {
        "colab": {
          "base_uri": "https://localhost:8080/"
        },
        "id": "myf1ixBwsFoD",
        "outputId": "0cce3a19-24cb-4370-d9fa-d6fd8ba7a34c"
      },
      "source": [
        "print(lr.coef_.shape, lr.intercept_.shape)"
      ],
      "execution_count": 31,
      "outputs": [
        {
          "output_type": "stream",
          "text": [
            "(7, 5) (7,)\n"
          ],
          "name": "stdout"
        }
      ]
    },
    {
      "cell_type": "markdown",
      "metadata": {
        "id": "svvW3spkyBlE"
      },
      "source": [
        "- 이 데이터는 5개의 특성을 사용하므로, coef 배열의 열은 5개이다.\n",
        "- 행과 intercept_가 7이라는 말은, z를 7개나 계산한단 말이다.\n",
        "  - 다중 분류는 클래스마다 z값을 하나씩 계산한다.\n",
        "  - 가장 높은 z값을 출력하는 클래스가 예측 클래스가 된다.\n",
        "- 확률은 아래의 함수를 사용하여 7개의 z값을 확률로 변환한다.\n",
        "\n",
        "|이진 분류|다중 분류|\n",
        "|:-:|:-:|\n",
        "|시그모이드 함수|소프트맥스 함수|\n",
        "|하나의 선형 방정식의 출력값을 0~1 사이로 압축|여러 개의 선형 방정식의 출력값을 0~1 사이로 압축하고, 전체 합이 1이 되도록 만듦|\n",
        "||지수 함수 사용 → 정규화된 지수 함수|\n",
        "\n"
      ]
    },
    {
      "cell_type": "code",
      "metadata": {
        "id": "DVCGBV2Lx-aG"
      },
      "source": [
        "##"
      ],
      "execution_count": 31,
      "outputs": []
    }
  ]
}