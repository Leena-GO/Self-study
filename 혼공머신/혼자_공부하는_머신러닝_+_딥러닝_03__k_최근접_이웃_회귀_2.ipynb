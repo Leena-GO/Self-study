{
  "nbformat": 4,
  "nbformat_minor": 0,
  "metadata": {
    "colab": {
      "name": "혼자_공부하는_머신러닝_+_딥러닝_03_ k-최근접 이웃 회귀-2.ipynb",
      "provenance": [],
      "collapsed_sections": [],
      "authorship_tag": "ABX9TyOe8VCx6VzHxspeesByzjmD",
      "include_colab_link": true
    },
    "kernelspec": {
      "name": "python3",
      "display_name": "Python 3"
    },
    "language_info": {
      "name": "python"
    }
  },
  "cells": [
    {
      "cell_type": "markdown",
      "metadata": {
        "id": "view-in-github",
        "colab_type": "text"
      },
      "source": [
        "<a href=\"https://colab.research.google.com/github/Leena-GO/Self-study/blob/main/%ED%98%BC%EA%B3%B5%EB%A8%B8%EC%8B%A0/%ED%98%BC%EC%9E%90_%EA%B3%B5%EB%B6%80%ED%95%98%EB%8A%94_%EB%A8%B8%EC%8B%A0%EB%9F%AC%EB%8B%9D_%2B_%EB%94%A5%EB%9F%AC%EB%8B%9D_03__k_%EC%B5%9C%EA%B7%BC%EC%A0%91_%EC%9D%B4%EC%9B%83_%ED%9A%8C%EA%B7%80_2.ipynb\" target=\"_parent\"><img src=\"https://colab.research.google.com/assets/colab-badge.svg\" alt=\"Open In Colab\"/></a>"
      ]
    },
    {
      "cell_type": "markdown",
      "metadata": {
        "id": "JLtx-Zk8xEa2"
      },
      "source": [
        "#03-2 선형회귀\n"
      ]
    },
    {
      "cell_type": "markdown",
      "metadata": {
        "id": "B_pNT3pqbJUt"
      },
      "source": [
        "## 1. k-최근접 이웃의 한계"
      ]
    },
    {
      "cell_type": "code",
      "metadata": {
        "id": "KQ4xHD8FxYLM"
      },
      "source": [
        "import numpy as np"
      ],
      "execution_count": 1,
      "outputs": []
    },
    {
      "cell_type": "code",
      "metadata": {
        "id": "dQZrtbWBPtpl"
      },
      "source": [
        "perch_length = np.array([8.4, 13.7, 15.0, 16.2, 17.4, 18.0, 18.7, 19.0, 19.6, 20.0, 21.0,\n",
        "       21.0, 21.0, 21.3, 22.0, 22.0, 22.0, 22.0, 22.0, 22.5, 22.5, 22.7,\n",
        "       23.0, 23.5, 24.0, 24.0, 24.6, 25.0, 25.6, 26.5, 27.3, 27.5, 27.5,\n",
        "       27.5, 28.0, 28.7, 30.0, 32.8, 34.5, 35.0, 36.5, 36.0, 37.0, 37.0,\n",
        "       39.0, 39.0, 39.0, 40.0, 40.0, 40.0, 40.0, 42.0, 43.0, 43.0, 43.5,\n",
        "       44.0])\n",
        "perch_weight = np.array([5.9, 32.0, 40.0, 51.5, 70.0, 100.0, 78.0, 80.0, 85.0, 85.0, 110.0,\n",
        "       115.0, 125.0, 130.0, 120.0, 120.0, 130.0, 135.0, 110.0, 130.0,\n",
        "       150.0, 145.0, 150.0, 170.0, 225.0, 145.0, 188.0, 180.0, 197.0,\n",
        "       218.0, 300.0, 260.0, 265.0, 250.0, 250.0, 300.0, 320.0, 514.0,\n",
        "       556.0, 840.0, 685.0, 700.0, 700.0, 690.0, 900.0, 650.0, 820.0,\n",
        "       850.0, 900.0, 1015.0, 820.0, 1100.0, 1000.0, 1100.0, 1000.0,\n",
        "       1000.0])"
      ],
      "execution_count": 2,
      "outputs": []
    },
    {
      "cell_type": "code",
      "metadata": {
        "id": "ykuNh0BEYNy3"
      },
      "source": [
        "from sklearn.model_selection import train_test_split\n",
        "\n",
        "train_input, test_input, train_target, test_target = train_test_split(perch_length, perch_weight, random_state = 42)"
      ],
      "execution_count": 3,
      "outputs": []
    },
    {
      "cell_type": "code",
      "metadata": {
        "id": "-ZC4XQWDxdQz"
      },
      "source": [
        "#훈련세트와 테스트 세트를 2차원 배열로 변환\n",
        "train_input = train_input.reshape(-1,1)\n",
        "test_input = test_input.reshape(-1,1)"
      ],
      "execution_count": 4,
      "outputs": []
    },
    {
      "cell_type": "code",
      "metadata": {
        "colab": {
          "base_uri": "https://localhost:8080/"
        },
        "id": "lh0N2b1Gxisq",
        "outputId": "1e730f05-bd8c-4bac-dc14-e88a8edbb6a1"
      },
      "source": [
        "from sklearn.neighbors import KNeighborsRegressor\n",
        "\n",
        "knr = KNeighborsRegressor(n_neighbors = 3)\n",
        "\n",
        "knr.fit(train_input, train_target)"
      ],
      "execution_count": 5,
      "outputs": [
        {
          "output_type": "execute_result",
          "data": {
            "text/plain": [
              "KNeighborsRegressor(algorithm='auto', leaf_size=30, metric='minkowski',\n",
              "                    metric_params=None, n_jobs=None, n_neighbors=3, p=2,\n",
              "                    weights='uniform')"
            ]
          },
          "metadata": {
            "tags": []
          },
          "execution_count": 5
        }
      ]
    },
    {
      "cell_type": "code",
      "metadata": {
        "id": "t0vm_wXayJ0n",
        "colab": {
          "base_uri": "https://localhost:8080/"
        },
        "outputId": "f7db17d4-86ab-40cd-e24c-df0f767369d6"
      },
      "source": [
        "#모델을 사용하여 길이가 50cm인 농어 무게 예측하기\n",
        "print(knr.predict([[50]]))"
      ],
      "execution_count": 6,
      "outputs": [
        {
          "output_type": "stream",
          "text": [
            "[1033.33333333]\n"
          ],
          "name": "stdout"
        }
      ]
    },
    {
      "cell_type": "markdown",
      "metadata": {
        "id": "B-HQKNRBlPJG"
      },
      "source": [
        "- 50cm, 1.5kg인 농어의 무게를, 1.03kg로 예측한 점이 이상하다!"
      ]
    },
    {
      "cell_type": "code",
      "metadata": {
        "colab": {
          "base_uri": "https://localhost:8080/",
          "height": 265
        },
        "id": "vQj5vLnclAHm",
        "outputId": "3fe7d564-140a-4801-b9bb-84c3a9b0df91"
      },
      "source": [
        "#산점도로 확인해보기\n",
        "import matplotlib.pyplot as plt\n",
        "\n",
        "#길이가 50cm인 농어의 이웃 구하기\n",
        "distance, indexes = knr.kneighbors([[50]]) #kneighbors()메서드를 사용하면, 가장 가까운 이웃까지의 거리와 이웃 샘플의 인덱스를 얻을 수 있다.\n",
        "\n",
        "#훈련세트의 산점도\n",
        "plt.scatter(train_input, train_target)\n",
        "\n",
        "#훈련 세트 중에서 이웃 샘플만 다시 작성\n",
        "plt.scatter(train_input[indexes], train_target[indexes], marker = 'D')\n",
        "\n",
        "#길이가 50cm였던 농어의 결과|\n",
        "plt.scatter(50, 1033, marker = '^')\n",
        "\n",
        "plt.show()"
      ],
      "execution_count": 7,
      "outputs": [
        {
          "output_type": "display_data",
          "data": {
            "image/png": "[encoded data removed]",
            "text/plain": [
              "<Figure size 432x288 with 1 Axes>"
            ]
          },
          "metadata": {
            "tags": [],
            "needs_background": "light"
          }
        }
      ]
    },
    {
      "cell_type": "code",
      "metadata": {
        "id": "U0-DKiZr8B7r",
        "colab": {
          "base_uri": "https://localhost:8080/"
        },
        "outputId": "c8eb185e-667f-42ab-c859-a9491cd55107"
      },
      "source": [
        "distance #아마 x축 거리?"
      ],
      "execution_count": 8,
      "outputs": [
        {
          "output_type": "execute_result",
          "data": {
            "text/plain": [
              "array([[6., 7., 7.]])"
            ]
          },
          "metadata": {
            "tags": []
          },
          "execution_count": 8
        }
      ]
    },
    {
      "cell_type": "code",
      "metadata": {
        "id": "fUt1DPwN8B3I",
        "colab": {
          "base_uri": "https://localhost:8080/"
        },
        "outputId": "98edb03e-a72e-426a-898f-6a135989f0ed"
      },
      "source": [
        "indexes"
      ],
      "execution_count": 9,
      "outputs": [
        {
          "output_type": "execute_result",
          "data": {
            "text/plain": [
              "array([[34,  8, 14]])"
            ]
          },
          "metadata": {
            "tags": []
          },
          "execution_count": 9
        }
      ]
    },
    {
      "cell_type": "markdown",
      "metadata": {
        "id": "meTF0vjzqueA"
      },
      "source": [
        "- 길이가 커질수록 농어의 무게가 증가하는 경향이 있다.\n",
        "- 50cm의 농어의 근접된 값은 45cm 근방의 값이기 때문에, 이 샘플들의 무게를 평균하게 된다.\n",
        "- 45cm 샘플타깃의 평균을 구해보자"
      ]
    },
    {
      "cell_type": "code",
      "metadata": {
        "colab": {
          "base_uri": "https://localhost:8080/"
        },
        "id": "IurhxkQGmEE8",
        "outputId": "0fc376c3-999a-43d4-9994-3d3b62afd431"
      },
      "source": [
        "print(np.mean(train_target[indexes]))\n",
        "print(knr.predict([[100]])) #100cm의 농어 무게를 예측할 때도 마찬가지이다."
      ],
      "execution_count": 10,
      "outputs": [
        {
          "output_type": "stream",
          "text": [
            "1033.3333333333333\n",
            "[1033.33333333]\n"
          ],
          "name": "stdout"
        }
      ]
    },
    {
      "cell_type": "markdown",
      "metadata": {
        "id": "d3HVPZcorNuO"
      },
      "source": [
        "- 새로운 샘플이 훈련 세트의 범위를 벗어나면, 엉뚱한 값을 예측할 수 있다는 단점이 있다.\n",
        "- 100cm 농어 무게 예측 산점도도 그려보자."
      ]
    },
    {
      "cell_type": "code",
      "metadata": {
        "colab": {
          "base_uri": "https://localhost:8080/",
          "height": 265
        },
        "id": "_gXEtMHYrKSm",
        "outputId": "7096a5ad-1f96-4603-dafd-dd90801c9bd3"
      },
      "source": [
        "distance, indexes = knr.kneighbors([[100]])\n",
        "\n",
        "plt.scatter(train_input, train_target)\n",
        "plt.scatter(train_input[indexes], train_target[indexes], marker = 'D')\n",
        "plt.scatter(100, 1033, marker = '^')\n",
        "plt.show()"
      ],
      "execution_count": 11,
      "outputs": [
        {
          "output_type": "display_data",
          "data": {
            "image/png": "[encoded data removed]",
            "text/plain": [
              "<Figure size 432x288 with 1 Axes>"
            ]
          },
          "metadata": {
            "tags": [],
            "needs_background": "light"
          }
        }
      ]
    },
    {
      "cell_type": "markdown",
      "metadata": {
        "id": "LwbyK3wB7j4u"
      },
      "source": [
        "- 이렇게 되어버리면, 길이가 아무리 늘어나도 무게는 그대로 유지가 되게 된다!"
      ]
    },
    {
      "cell_type": "code",
      "metadata": {
        "colab": {
          "base_uri": "https://localhost:8080/"
        },
        "id": "0vhKe1la7eDn",
        "outputId": "8e1a5551-f59b-4b07-f539-708c6adae7d2"
      },
      "source": [
        "distance"
      ],
      "execution_count": 12,
      "outputs": [
        {
          "output_type": "execute_result",
          "data": {
            "text/plain": [
              "array([[56., 57., 57.]])"
            ]
          },
          "metadata": {
            "tags": []
          },
          "execution_count": 12
        }
      ]
    },
    {
      "cell_type": "code",
      "metadata": {
        "colab": {
          "base_uri": "https://localhost:8080/"
        },
        "id": "zpDAJR7X7sZ3",
        "outputId": "15132d75-4815-441c-cf42-e1d06eda4d92"
      },
      "source": [
        "indexes"
      ],
      "execution_count": 13,
      "outputs": [
        {
          "output_type": "execute_result",
          "data": {
            "text/plain": [
              "array([[34,  8, 14]])"
            ]
          },
          "metadata": {
            "tags": []
          },
          "execution_count": 13
        }
      ]
    },
    {
      "cell_type": "code",
      "metadata": {
        "colab": {
          "base_uri": "https://localhost:8080/"
        },
        "id": "U7-E7E1U7tac",
        "outputId": "3936448a-0a1a-4aa4-9082-f400adb94574"
      },
      "source": [
        "train_input[indexes]"
      ],
      "execution_count": 14,
      "outputs": [
        {
          "output_type": "execute_result",
          "data": {
            "text/plain": [
              "array([[[44.],\n",
              "        [43.],\n",
              "        [43.]]])"
            ]
          },
          "metadata": {
            "tags": []
          },
          "execution_count": 14
        }
      ]
    },
    {
      "cell_type": "markdown",
      "metadata": {
        "id": "OB4omvkJa0Wt"
      },
      "source": [
        "- 머신러닝 모델은 주기적으로 훈련을 해줘야 한다.\n",
        "- 시간과 환경이 변하면서 데이터도 바뀌기 때문이다.\n",
        "- 새로운 데이터를 사용하여 반복적으로 훈련해주어야 한다."
      ]
    },
    {
      "cell_type": "markdown",
      "metadata": {
        "id": "V5IG6AgQbM2h"
      },
      "source": [
        "## 2. 선형 회귀(Linear Regression)\n",
        "- **선형회귀**:특성과 타깃 사이의 관계를 가장 잘 나타내는 선형 방정식을 찾는다. 특성이 하나인 경우, 어떤 직선을 학습하는 알고리즘이다.\n",
        "- 특성을 가장 잘 나타낼 수 있는 직선을 찾는 것이 포인트.\n",
        "- 선형 회귀가 찾은 특성과 타깃 사이의 관계는 선형 방정식의 **계수** 또는 **가중치**에 저장된다.\n",
        "- **모델 파라미터**는 선형 회귀가 찾은 가중치처럼 머신러닝 모델이 특성에서 학습한 파라미터를 말한다.\n",
        "- 이 직선을 **LinearRegression** 알고리즘이 자동으로 찾아준다!"
      ]
    },
    {
      "cell_type": "code",
      "metadata": {
        "id": "hO34Y_m478ku",
        "colab": {
          "base_uri": "https://localhost:8080/"
        },
        "outputId": "e7b06967-3827-4b36-9584-ee7dc4f57e42"
      },
      "source": [
        "from sklearn.linear_model import LinearRegression\n",
        "\n",
        "lr = LinearRegression()\n",
        "\n",
        "#선형 회귀 모델 훈련\n",
        "lr.fit(train_input, train_target)\n",
        "\n",
        "#50cm 농어에 대해 예측\n",
        "print(lr.predict([[50]]))"
      ],
      "execution_count": 15,
      "outputs": [
        {
          "output_type": "stream",
          "text": [
            "[1241.83860323]\n"
          ],
          "name": "stdout"
        }
      ]
    },
    {
      "cell_type": "markdown",
      "metadata": {
        "id": "g9S2tsLPwtbl"
      },
      "source": [
        "- 앞전 *k-최근접 이웃 모델*을 사용했을 때에 비해 무게가 늘어남을 볼 수 있다."
      ]
    },
    {
      "cell_type": "markdown",
      "metadata": {
        "id": "EaSZxU32j5iK"
      },
      "source": [
        "\n",
        "\n",
        "---------------\n",
        "- 이 선형 회귀가 학습한 직선을 그려보고 어떻게 이런 값이 나왔는지 알아보자."
      ]
    },
    {
      "cell_type": "code",
      "metadata": {
        "colab": {
          "base_uri": "https://localhost:8080/"
        },
        "id": "YQ3PvL7Ij3kR",
        "outputId": "c0a5e9e1-aaa5-493d-ff09-8845b1fb642b"
      },
      "source": [
        "print(lr.coef_, lr.intercept_)"
      ],
      "execution_count": 16,
      "outputs": [
        {
          "output_type": "stream",
          "text": [
            "[39.01714496] -709.0186449535477\n"
          ],
          "name": "stdout"
        }
      ]
    },
    {
      "cell_type": "markdown",
      "metadata": {
        "id": "EKFXvQasmLon"
      },
      "source": [
        "- **coef_**: '계수(coefficient)' 혹은 '가중치(weight)'라고 한다.\n",
        "- **intercept_**: y절편 값\n",
        "-------\n",
        "- 농어의 길이 15에서 50까지 직선으로 그려보자.\n",
        "- 위에서 구한 기울기와 절편을 사용하여 두 점을 이으면 된다.\n",
        "- 훈련 세트의 산점도를 함께 그려보자."
      ]
    },
    {
      "cell_type": "code",
      "metadata": {
        "colab": {
          "base_uri": "https://localhost:8080/",
          "height": 265
        },
        "id": "WS-88EImmK6N",
        "outputId": "86914f68-b361-472e-b2a6-4daaef319999"
      },
      "source": [
        "#직선방정식 y = 39x-709\n",
        "plt.scatter(train_input, train_target)\n",
        "\n",
        "#15에서 50까지 1차 방정식 그래프 그리기\n",
        "plt.plot([15,50], [15*lr.coef_+lr.intercept_, 50*lr.coef_+lr.intercept_]) #plot: 선 그리기\n",
        "\n",
        "#50cm 농어 데이터\n",
        "plt.scatter(50, 1241.8, marker = '^') #앞단에 예측했던 농어 무게\n",
        "plt.show()"
      ],
      "execution_count": 17,
      "outputs": [
        {
          "output_type": "display_data",
          "data": {
            "image/png": "[encoded data removed]",
            "text/plain": [
              "<Figure size 432x288 with 1 Axes>"
            ]
          },
          "metadata": {
            "tags": [],
            "needs_background": "light"
          }
        }
      ]
    },
    {
      "cell_type": "markdown",
      "metadata": {
        "id": "_8tQI1ZToQvm"
      },
      "source": [
        "- 위에 나타난 식은, 선형 회귀 알고리즘이 데이터셋에서 찾은 최적의 선이다.\n",
        "- 길이가 50cm인 농어에 대한 예측은 이 직선의 연장선에 있다!\n",
        "----------\n",
        "- 다음으로, 훈련 세트와 테스트 세트의 R²점수를 확인해보자."
      ]
    },
    {
      "cell_type": "code",
      "metadata": {
        "colab": {
          "base_uri": "https://localhost:8080/"
        },
        "id": "53FahyDdnuo9",
        "outputId": "6c02bed4-f3fb-4a01-a3ac-225985bb38d7"
      },
      "source": [
        "print(lr.score(train_input, train_target))\n",
        "print(lr.score(test_input, test_target))"
      ],
      "execution_count": 18,
      "outputs": [
        {
          "output_type": "stream",
          "text": [
            "0.9398463339976039\n",
            "0.8247503123313558\n"
          ],
          "name": "stdout"
        }
      ]
    },
    {
      "cell_type": "markdown",
      "metadata": {
        "id": "PxodVfKLo04g"
      },
      "source": [
        "- 훈련 세트와 테스트 세트의 점수가 차이남을 볼 수 있다.\n",
        "- 전체적으로 점수가 낮다. (**과소적합** 문제)\n",
        "- 그래프 좌측을 보면, 최적선과 데이터 간에 차이가 있음을 볼 수 있다.\n",
        "  (또한 무게가 0 이하가 될 수 없다!)"
      ]
    },
    {
      "cell_type": "markdown",
      "metadata": {
        "id": "xREKgECCpMkW"
      },
      "source": [
        "## 3. 다항회귀(Polynomial Regression)\n",
        "- **다항회귀**: 다항식을 사용한 특성과 타깃 사이의 관계를 나타낸다. 이 함수는 *비선형*일 수 있으나, *여전히 선형회귀*로 표현할 수 있다.\n",
        "\n",
        "\n",
        "---\n",
        "\n",
        "\n",
        "\n",
        "\n",
        "- 다음으로, 최적의 곡선을 찾아보자.\n",
        "- 이차방정식을 그리기 위해서는 길이를 제곱한 항이 필요한데, 넘파이를 사용하면 만들 수 있다."
      ]
    },
    {
      "cell_type": "code",
      "metadata": {
        "id": "F3ywpcC3ouRd"
      },
      "source": [
        "train_poly = np.column_stack((train_input ** 2, train_input))\n",
        "test_poly = np.column_stack((test_input ** 2, test_input))"
      ],
      "execution_count": 19,
      "outputs": []
    },
    {
      "cell_type": "code",
      "metadata": {
        "colab": {
          "base_uri": "https://localhost:8080/"
        },
        "id": "XHrffUKYqAx9",
        "outputId": "4071bce7-d62e-4511-ce76-c5f67e9439f7"
      },
      "source": [
        "print(train_poly.shape, test_poly.shape)"
      ],
      "execution_count": 20,
      "outputs": [
        {
          "output_type": "stream",
          "text": [
            "(42, 2) (14, 2)\n"
          ],
          "name": "stdout"
        }
      ]
    },
    {
      "cell_type": "code",
      "metadata": {
        "colab": {
          "base_uri": "https://localhost:8080/"
        },
        "id": "KcFVcdHMqIOj",
        "outputId": "1ade36b8-d3fe-412c-e13f-a594caba919a"
      },
      "source": [
        "train_poly"
      ],
      "execution_count": 21,
      "outputs": [
        {
          "output_type": "execute_result",
          "data": {
            "text/plain": [
              "array([[ 384.16,   19.6 ],\n",
              "       [ 484.  ,   22.  ],\n",
              "       [ 349.69,   18.7 ],\n",
              "       [ 302.76,   17.4 ],\n",
              "       [1296.  ,   36.  ],\n",
              "       [ 625.  ,   25.  ],\n",
              "       [1600.  ,   40.  ],\n",
              "       [1521.  ,   39.  ],\n",
              "       [1849.  ,   43.  ],\n",
              "       [ 484.  ,   22.  ],\n",
              "       [ 400.  ,   20.  ],\n",
              "       [ 484.  ,   22.  ],\n",
              "       [ 576.  ,   24.  ],\n",
              "       [ 756.25,   27.5 ],\n",
              "       [1849.  ,   43.  ],\n",
              "       [1600.  ,   40.  ],\n",
              "       [ 576.  ,   24.  ],\n",
              "       [ 441.  ,   21.  ],\n",
              "       [ 756.25,   27.5 ],\n",
              "       [1600.  ,   40.  ],\n",
              "       [1075.84,   32.8 ],\n",
              "       [ 702.25,   26.5 ],\n",
              "       [1332.25,   36.5 ],\n",
              "       [ 187.69,   13.7 ],\n",
              "       [ 515.29,   22.7 ],\n",
              "       [ 225.  ,   15.  ],\n",
              "       [1369.  ,   37.  ],\n",
              "       [1225.  ,   35.  ],\n",
              "       [ 823.69,   28.7 ],\n",
              "       [ 552.25,   23.5 ],\n",
              "       [1521.  ,   39.  ],\n",
              "       [ 441.  ,   21.  ],\n",
              "       [ 529.  ,   23.  ],\n",
              "       [ 484.  ,   22.  ],\n",
              "       [1936.  ,   44.  ],\n",
              "       [ 506.25,   22.5 ],\n",
              "       [ 361.  ,   19.  ],\n",
              "       [1369.  ,   37.  ],\n",
              "       [ 484.  ,   22.  ],\n",
              "       [ 655.36,   25.6 ],\n",
              "       [1764.  ,   42.  ],\n",
              "       [1190.25,   34.5 ]])"
            ]
          },
          "metadata": {
            "tags": []
          },
          "execution_count": 21
        }
      ]
    },
    {
      "cell_type": "code",
      "metadata": {
        "colab": {
          "base_uri": "https://localhost:8080/"
        },
        "id": "je1-ZZVwqMvT",
        "outputId": "21572003-2445-4b87-fd2f-78246e7ba155"
      },
      "source": [
        "test_poly"
      ],
      "execution_count": 22,
      "outputs": [
        {
          "output_type": "execute_result",
          "data": {
            "text/plain": [
              "array([[  70.56,    8.4 ],\n",
              "       [ 324.  ,   18.  ],\n",
              "       [ 756.25,   27.5 ],\n",
              "       [ 453.69,   21.3 ],\n",
              "       [ 506.25,   22.5 ],\n",
              "       [1600.  ,   40.  ],\n",
              "       [ 900.  ,   30.  ],\n",
              "       [ 605.16,   24.6 ],\n",
              "       [1521.  ,   39.  ],\n",
              "       [ 441.  ,   21.  ],\n",
              "       [1892.25,   43.5 ],\n",
              "       [ 262.44,   16.2 ],\n",
              "       [ 784.  ,   28.  ],\n",
              "       [ 745.29,   27.3 ]])"
            ]
          },
          "metadata": {
            "tags": []
          },
          "execution_count": 22
        }
      ]
    },
    {
      "cell_type": "markdown",
      "metadata": {
        "id": "2gNiP7B1rDXc"
      },
      "source": [
        "- 원래 특성인 길이를 제곱하여 왼쪽 열에 추가했기 때문에, 훈련 세트와 테스트 세트 모두 열이 2개로 늘어났다.\n",
        "- train_poly 데이터를 사용하여 선형 회귀 모델을 훈련시켜보자.\n",
        "- 참고로, 목표하는 값은 어떤 그래프를 훈련하든지 *바꿀 필요가 없으므로*, 타깃값은 그대로 사용한다."
      ]
    },
    {
      "cell_type": "code",
      "metadata": {
        "colab": {
          "base_uri": "https://localhost:8080/"
        },
        "id": "wVgczP7cqPEE",
        "outputId": "5a8be164-95fc-46ba-db91-01fa080a0d94"
      },
      "source": [
        "lr = LinearRegression()\n",
        "lr.fit(train_poly, train_target)\n",
        "\n",
        "print(lr.predict([[50**2, 50]])) #이차식이기 때문에, x값에 제곱"
      ],
      "execution_count": 23,
      "outputs": [
        {
          "output_type": "stream",
          "text": [
            "[1573.98423528]\n"
          ],
          "name": "stdout"
        }
      ]
    },
    {
      "cell_type": "code",
      "metadata": {
        "colab": {
          "base_uri": "https://localhost:8080/"
        },
        "id": "jFH9q7ISrpUa",
        "outputId": "71cf9382-cb31-4894-ba12-f639587f6881"
      },
      "source": [
        "print(lr.coef_, lr.intercept_) #앞에서부터, x²계수, x계수, y절편"
      ],
      "execution_count": 24,
      "outputs": [
        {
          "output_type": "stream",
          "text": [
            "[  1.01433211 -21.55792498] 116.05021078278276\n"
          ],
          "name": "stdout"
        }
      ]
    },
    {
      "cell_type": "markdown",
      "metadata": {
        "id": "MrP4YGKbq2Kk"
      },
      "source": [
        "- *무게 = 1.01 x 길이²-21.6 x 길이 + 116.05* 의 식이 나온다.\n",
        "- 이제 이전과 동일하게, 그래프를 그려보자."
      ]
    },
    {
      "cell_type": "code",
      "metadata": {
        "id": "vOXBvw4yrzoP",
        "colab": {
          "base_uri": "https://localhost:8080/"
        },
        "outputId": "50dc7a62-cd77-442e-debc-79a74749a161"
      },
      "source": [
        "#구간별 직선을 그리기 위해, 15에서 49까지의 정수 배열을 만든다.\n",
        "point = np.arange(15,49) ; point"
      ],
      "execution_count": 25,
      "outputs": [
        {
          "output_type": "execute_result",
          "data": {
            "text/plain": [
              "array([15, 16, 17, 18, 19, 20, 21, 22, 23, 24, 25, 26, 27, 28, 29, 30, 31,\n",
              "       32, 33, 34, 35, 36, 37, 38, 39, 40, 41, 42, 43, 44, 45, 46, 47, 48])"
            ]
          },
          "metadata": {
            "tags": []
          },
          "execution_count": 25
        }
      ]
    },
    {
      "cell_type": "code",
      "metadata": {
        "colab": {
          "base_uri": "https://localhost:8080/",
          "height": 283
        },
        "id": "RmrJ206QrVBd",
        "outputId": "478f01c6-6d3f-4be6-9b9d-d805583e9ad1"
      },
      "source": [
        "#훈련 세트의 산점도 그리기\n",
        "plt.scatter(train_input, train_target)"
      ],
      "execution_count": 26,
      "outputs": [
        {
          "output_type": "execute_result",
          "data": {
            "text/plain": [
              "<matplotlib.collections.PathCollection at 0x7f1cfbe56a50>"
            ]
          },
          "metadata": {
            "tags": []
          },
          "execution_count": 26
        },
        {
          "output_type": "display_data",
          "data": {
            "image/png": "[encoded data removed]",
            "text/plain": [
              "<Figure size 432x288 with 1 Axes>"
            ]
          },
          "metadata": {
            "tags": [],
            "needs_background": "light"
          }
        }
      ]
    },
    {
      "cell_type": "code",
      "metadata": {
        "colab": {
          "base_uri": "https://localhost:8080/",
          "height": 283
        },
        "id": "_Jdh8-_crmJn",
        "outputId": "5e373c68-f0d3-415b-9e27-9f639e090745"
      },
      "source": [
        "#15에서 49까지 이차 방정식 그래프 그리기\n",
        "plt.plot(point, 1.01*point**2-21.6*point+116.05)"
      ],
      "execution_count": 30,
      "outputs": [
        {
          "output_type": "execute_result",
          "data": {
            "text/plain": [
              "[<matplotlib.lines.Line2D at 0x7f1cf7d54290>]"
            ]
          },
          "metadata": {
            "tags": []
          },
          "execution_count": 30
        },
        {
          "output_type": "display_data",
          "data": {
            "image/png": "[encoded data removed]",
            "text/plain": [
              "<Figure size 432x288 with 1 Axes>"
            ]
          },
          "metadata": {
            "tags": [],
            "needs_background": "light"
          }
        }
      ]
    },
    {
      "cell_type": "code",
      "metadata": {
        "colab": {
          "base_uri": "https://localhost:8080/",
          "height": 283
        },
        "id": "qU6yvtpYrzCG",
        "outputId": "b8fcc91e-5c43-4fdf-c770-18fc4c33a666"
      },
      "source": [
        "plt.scatter(point,1.01*point**2-21.6*point+116.05) #산점도로 확인해보면, 이런 모양이 나오게 된다."
      ],
      "execution_count": 33,
      "outputs": [
        {
          "output_type": "execute_result",
          "data": {
            "text/plain": [
              "<matplotlib.collections.PathCollection at 0x7f1cf7bf14d0>"
            ]
          },
          "metadata": {
            "tags": []
          },
          "execution_count": 33
        },
        {
          "output_type": "display_data",
          "data": {
            "image/png": "[encoded data removed]",
            "text/plain": [
              "<Figure size 432x288 with 1 Axes>"
            ]
          },
          "metadata": {
            "tags": [],
            "needs_background": "light"
          }
        }
      ]
    },
    {
      "cell_type": "code",
      "metadata": {
        "colab": {
          "base_uri": "https://localhost:8080/",
          "height": 265
        },
        "id": "yKoaGqCnsChw",
        "outputId": "a06bb980-3672-4f91-baee-eda4a86fe106"
      },
      "source": [
        "#위에서 하나하나 살펴본 데이터들을 합쳐서 한번에 보기!\n",
        "plt.scatter(train_input, train_target)\n",
        "plt.plot(point, 1.01*point**2-21.6*point+116.05)\n",
        "plt.scatter(50, 1574, marker = '^')\n",
        "plt.show()"
      ],
      "execution_count": 34,
      "outputs": [
        {
          "output_type": "display_data",
          "data": {
            "image/png": "[encoded data removed]",
            "text/plain": [
              "<Figure size 432x288 with 1 Axes>"
            ]
          },
          "metadata": {
            "tags": [],
            "needs_background": "light"
          }
        }
      ]
    },
    {
      "cell_type": "markdown",
      "metadata": {
        "id": "MSwvC58Xsmgg"
      },
      "source": [
        "- 앞의 단순 선형 회귀 모델보다 더 정확한 그래프가 그려졌다.\n",
        "- 훈련 세트의 경향을 잘 따르고 있는 것 같다.\n",
        "- R²점수를 살펴보자."
      ]
    },
    {
      "cell_type": "code",
      "metadata": {
        "colab": {
          "base_uri": "https://localhost:8080/"
        },
        "id": "Lr1VT_tcsbAc",
        "outputId": "fdc3cb99-9c21-4023-a399-3636f532c76d"
      },
      "source": [
        "print('train score:' + str(lr.score(train_poly, train_target)))\n",
        "print('test score:' + str(lr.score(test_poly, test_target)))"
      ],
      "execution_count": 38,
      "outputs": [
        {
          "output_type": "stream",
          "text": [
            "train score:0.9706807451768623\n",
            "test score:0.9775935108325122\n"
          ],
          "name": "stdout"
        }
      ]
    },
    {
      "cell_type": "markdown",
      "metadata": {
        "id": "wNIKLySRtnd-"
      },
      "source": [
        "- 점수는 많이 올라왔지만, 아직 *과소적합*의 문제가 남아있어보인다."
      ]
    }
  ]
}